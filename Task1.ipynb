{
 "cells": [
  {
   "cell_type": "code",
   "execution_count": 1,
   "id": "1c93b822",
   "metadata": {},
   "outputs": [],
   "source": [
    "from fastai.vision.all import *\n",
    "\n",
    "from src.learner import get_learner_task1\n",
    "from src.utils import (\n",
    "    load_configuration,\n",
    "    save_preds,\n",
    "    do_fit\n",
    ")"
   ]
  },
  {
   "cell_type": "markdown",
   "id": "f42afd9d",
   "metadata": {},
   "source": [
    "# Initial train "
   ]
  },
  {
   "cell_type": "code",
   "execution_count": 2,
   "id": "16766899",
   "metadata": {},
   "outputs": [],
   "source": [
    "config  = load_configuration('configs/config_task1_224.yml')\n",
    "learn = get_learner_task1(config)"
   ]
  },
  {
   "cell_type": "code",
   "execution_count": 3,
   "id": "39836b56",
   "metadata": {},
   "outputs": [
    {
     "data": {
      "text/html": [
       "\n",
       "<style>\n",
       "    /* Turns off some styling */\n",
       "    progress {\n",
       "        /* gets rid of default border in Firefox and Opera. */\n",
       "        border: none;\n",
       "        /* Needs to be in here for Safari polyfill so background images work as expected. */\n",
       "        background-size: auto;\n",
       "    }\n",
       "    .progress-bar-interrupted, .progress-bar-interrupted::-webkit-progress-bar {\n",
       "        background: #F44336;\n",
       "    }\n",
       "</style>\n"
      ],
      "text/plain": [
       "<IPython.core.display.HTML object>"
      ]
     },
     "metadata": {},
     "output_type": "display_data"
    },
    {
     "data": {
      "text/html": [
       "<table border=\"1\" class=\"dataframe\">\n",
       "  <thead>\n",
       "    <tr style=\"text-align: left;\">\n",
       "      <th>epoch</th>\n",
       "      <th>train_loss</th>\n",
       "      <th>valid_loss</th>\n",
       "      <th>accuracy</th>\n",
       "      <th>top_k_accuracy</th>\n",
       "      <th>time</th>\n",
       "    </tr>\n",
       "  </thead>\n",
       "  <tbody>\n",
       "    <tr>\n",
       "      <td>0</td>\n",
       "      <td>1.810453</td>\n",
       "      <td>1.030038</td>\n",
       "      <td>0.727022</td>\n",
       "      <td>0.918276</td>\n",
       "      <td>01:58</td>\n",
       "    </tr>\n",
       "    <tr>\n",
       "      <td>1</td>\n",
       "      <td>1.373029</td>\n",
       "      <td>0.922297</td>\n",
       "      <td>0.750796</td>\n",
       "      <td>0.935470</td>\n",
       "      <td>01:55</td>\n",
       "    </tr>\n",
       "    <tr>\n",
       "      <td>2</td>\n",
       "      <td>1.309060</td>\n",
       "      <td>0.918546</td>\n",
       "      <td>0.753343</td>\n",
       "      <td>0.931437</td>\n",
       "      <td>01:54</td>\n",
       "    </tr>\n",
       "    <tr>\n",
       "      <td>3</td>\n",
       "      <td>1.172665</td>\n",
       "      <td>0.879471</td>\n",
       "      <td>0.760985</td>\n",
       "      <td>0.934833</td>\n",
       "      <td>01:55</td>\n",
       "    </tr>\n",
       "    <tr>\n",
       "      <td>4</td>\n",
       "      <td>1.105487</td>\n",
       "      <td>0.852839</td>\n",
       "      <td>0.775207</td>\n",
       "      <td>0.936956</td>\n",
       "      <td>01:54</td>\n",
       "    </tr>\n",
       "    <tr>\n",
       "      <td>5</td>\n",
       "      <td>1.011448</td>\n",
       "      <td>0.793534</td>\n",
       "      <td>0.782000</td>\n",
       "      <td>0.943112</td>\n",
       "      <td>01:55</td>\n",
       "    </tr>\n",
       "    <tr>\n",
       "      <td>6</td>\n",
       "      <td>0.831806</td>\n",
       "      <td>0.755202</td>\n",
       "      <td>0.800467</td>\n",
       "      <td>0.946720</td>\n",
       "      <td>01:55</td>\n",
       "    </tr>\n",
       "  </tbody>\n",
       "</table>"
      ],
      "text/plain": [
       "<IPython.core.display.HTML object>"
      ]
     },
     "metadata": {},
     "output_type": "display_data"
    },
    {
     "name": "stdout",
     "output_type": "stream",
     "text": [
      "Better model found at epoch 0 with valid_loss value: 1.0300379991531372.\n",
      "Better model found at epoch 1 with valid_loss value: 0.922296941280365.\n",
      "Better model found at epoch 2 with valid_loss value: 0.9185458421707153.\n",
      "Better model found at epoch 3 with valid_loss value: 0.8794712424278259.\n",
      "Better model found at epoch 4 with valid_loss value: 0.8528393507003784.\n",
      "Better model found at epoch 5 with valid_loss value: 0.7935343384742737.\n",
      "Better model found at epoch 6 with valid_loss value: 0.7552021741867065.\n"
     ]
    }
   ],
   "source": [
    "do_fit(learn, 'task1_resnet50', epochs=7, lr=1e-3, pct_start=0.75)"
   ]
  },
  {
   "cell_type": "code",
   "execution_count": 9,
   "id": "9cf5dcc9",
   "metadata": {},
   "outputs": [
    {
     "data": {
      "text/plain": [
       "<fastai.learner.Learner at 0x235efadbc10>"
      ]
     },
     "execution_count": 9,
     "metadata": {},
     "output_type": "execute_result"
    }
   ],
   "source": [
    "learn.load('task1_resnet50')"
   ]
  },
  {
   "cell_type": "code",
   "execution_count": 10,
   "id": "c907ddba",
   "metadata": {},
   "outputs": [],
   "source": [
    "learn.unfreeze()"
   ]
  },
  {
   "cell_type": "code",
   "execution_count": 11,
   "id": "764a68f6",
   "metadata": {},
   "outputs": [
    {
     "data": {
      "text/html": [
       "\n",
       "<style>\n",
       "    /* Turns off some styling */\n",
       "    progress {\n",
       "        /* gets rid of default border in Firefox and Opera. */\n",
       "        border: none;\n",
       "        /* Needs to be in here for Safari polyfill so background images work as expected. */\n",
       "        background-size: auto;\n",
       "    }\n",
       "    .progress-bar-interrupted, .progress-bar-interrupted::-webkit-progress-bar {\n",
       "        background: #F44336;\n",
       "    }\n",
       "</style>\n"
      ],
      "text/plain": [
       "<IPython.core.display.HTML object>"
      ]
     },
     "metadata": {},
     "output_type": "display_data"
    },
    {
     "data": {
      "text/html": [
       "<table border=\"1\" class=\"dataframe\">\n",
       "  <thead>\n",
       "    <tr style=\"text-align: left;\">\n",
       "      <th>epoch</th>\n",
       "      <th>train_loss</th>\n",
       "      <th>valid_loss</th>\n",
       "      <th>accuracy</th>\n",
       "      <th>top_k_accuracy</th>\n",
       "      <th>time</th>\n",
       "    </tr>\n",
       "  </thead>\n",
       "  <tbody>\n",
       "    <tr>\n",
       "      <td>0</td>\n",
       "      <td>0.746202</td>\n",
       "      <td>0.743606</td>\n",
       "      <td>0.798981</td>\n",
       "      <td>0.947357</td>\n",
       "      <td>02:20</td>\n",
       "    </tr>\n",
       "    <tr>\n",
       "      <td>1</td>\n",
       "      <td>0.726292</td>\n",
       "      <td>0.736644</td>\n",
       "      <td>0.798344</td>\n",
       "      <td>0.947782</td>\n",
       "      <td>02:20</td>\n",
       "    </tr>\n",
       "    <tr>\n",
       "      <td>2</td>\n",
       "      <td>0.753686</td>\n",
       "      <td>0.730178</td>\n",
       "      <td>0.801316</td>\n",
       "      <td>0.949692</td>\n",
       "      <td>02:20</td>\n",
       "    </tr>\n",
       "    <tr>\n",
       "      <td>3</td>\n",
       "      <td>0.708040</td>\n",
       "      <td>0.725979</td>\n",
       "      <td>0.804076</td>\n",
       "      <td>0.950117</td>\n",
       "      <td>02:20</td>\n",
       "    </tr>\n",
       "    <tr>\n",
       "      <td>4</td>\n",
       "      <td>0.690045</td>\n",
       "      <td>0.724682</td>\n",
       "      <td>0.802165</td>\n",
       "      <td>0.950754</td>\n",
       "      <td>02:21</td>\n",
       "    </tr>\n",
       "  </tbody>\n",
       "</table>"
      ],
      "text/plain": [
       "<IPython.core.display.HTML object>"
      ]
     },
     "metadata": {},
     "output_type": "display_data"
    },
    {
     "name": "stdout",
     "output_type": "stream",
     "text": [
      "Better model found at epoch 0 with valid_loss value: 0.7436062693595886.\n",
      "Better model found at epoch 1 with valid_loss value: 0.7366442084312439.\n",
      "Better model found at epoch 2 with valid_loss value: 0.7301779389381409.\n",
      "Better model found at epoch 3 with valid_loss value: 0.7259787321090698.\n",
      "Better model found at epoch 4 with valid_loss value: 0.7246817946434021.\n"
     ]
    }
   ],
   "source": [
    "do_fit(learn, 'task1_resnet50_unfrozen', epochs=5, lr=slice(1e-6, 1e-5), pct_start=0.75)"
   ]
  },
  {
   "cell_type": "code",
   "execution_count": 12,
   "id": "b5d0e88d",
   "metadata": {},
   "outputs": [
    {
     "data": {
      "text/html": [
       "\n",
       "<style>\n",
       "    /* Turns off some styling */\n",
       "    progress {\n",
       "        /* gets rid of default border in Firefox and Opera. */\n",
       "        border: none;\n",
       "        /* Needs to be in here for Safari polyfill so background images work as expected. */\n",
       "        background-size: auto;\n",
       "    }\n",
       "    .progress-bar-interrupted, .progress-bar-interrupted::-webkit-progress-bar {\n",
       "        background: #F44336;\n",
       "    }\n",
       "</style>\n"
      ],
      "text/plain": [
       "<IPython.core.display.HTML object>"
      ]
     },
     "metadata": {},
     "output_type": "display_data"
    },
    {
     "data": {
      "text/html": [],
      "text/plain": [
       "<IPython.core.display.HTML object>"
      ]
     },
     "metadata": {},
     "output_type": "display_data"
    }
   ],
   "source": [
    "save_preds(learn, config)"
   ]
  },
  {
   "cell_type": "markdown",
   "id": "0392f9c2",
   "metadata": {},
   "source": [
    "# Train - Iteration 1 "
   ]
  },
  {
   "cell_type": "code",
   "execution_count": 2,
   "id": "8fa95226",
   "metadata": {},
   "outputs": [],
   "source": [
    "config  = load_configuration('configs/config_task1_224.yml')\n",
    "learn = get_learner_task1(config, iteration=1)"
   ]
  },
  {
   "cell_type": "code",
   "execution_count": 3,
   "id": "794d9e2e",
   "metadata": {},
   "outputs": [
    {
     "data": {
      "text/html": [
       "\n",
       "<style>\n",
       "    /* Turns off some styling */\n",
       "    progress {\n",
       "        /* gets rid of default border in Firefox and Opera. */\n",
       "        border: none;\n",
       "        /* Needs to be in here for Safari polyfill so background images work as expected. */\n",
       "        background-size: auto;\n",
       "    }\n",
       "    .progress-bar-interrupted, .progress-bar-interrupted::-webkit-progress-bar {\n",
       "        background: #F44336;\n",
       "    }\n",
       "</style>\n"
      ],
      "text/plain": [
       "<IPython.core.display.HTML object>"
      ]
     },
     "metadata": {},
     "output_type": "display_data"
    },
    {
     "data": {
      "text/html": [
       "<table border=\"1\" class=\"dataframe\">\n",
       "  <thead>\n",
       "    <tr style=\"text-align: left;\">\n",
       "      <th>epoch</th>\n",
       "      <th>train_loss</th>\n",
       "      <th>valid_loss</th>\n",
       "      <th>accuracy</th>\n",
       "      <th>top_k_accuracy</th>\n",
       "      <th>time</th>\n",
       "    </tr>\n",
       "  </thead>\n",
       "  <tbody>\n",
       "    <tr>\n",
       "      <td>0</td>\n",
       "      <td>1.348305</td>\n",
       "      <td>0.902644</td>\n",
       "      <td>0.755890</td>\n",
       "      <td>0.931862</td>\n",
       "      <td>04:18</td>\n",
       "    </tr>\n",
       "    <tr>\n",
       "      <td>1</td>\n",
       "      <td>1.208033</td>\n",
       "      <td>0.853777</td>\n",
       "      <td>0.765655</td>\n",
       "      <td>0.940140</td>\n",
       "      <td>04:14</td>\n",
       "    </tr>\n",
       "    <tr>\n",
       "      <td>2</td>\n",
       "      <td>1.083303</td>\n",
       "      <td>0.852722</td>\n",
       "      <td>0.771174</td>\n",
       "      <td>0.938230</td>\n",
       "      <td>04:16</td>\n",
       "    </tr>\n",
       "    <tr>\n",
       "      <td>3</td>\n",
       "      <td>1.050020</td>\n",
       "      <td>0.825035</td>\n",
       "      <td>0.776056</td>\n",
       "      <td>0.942475</td>\n",
       "      <td>04:13</td>\n",
       "    </tr>\n",
       "    <tr>\n",
       "      <td>4</td>\n",
       "      <td>0.958598</td>\n",
       "      <td>0.821266</td>\n",
       "      <td>0.779240</td>\n",
       "      <td>0.939928</td>\n",
       "      <td>04:13</td>\n",
       "    </tr>\n",
       "    <tr>\n",
       "      <td>5</td>\n",
       "      <td>0.930767</td>\n",
       "      <td>0.773157</td>\n",
       "      <td>0.793887</td>\n",
       "      <td>0.950329</td>\n",
       "      <td>04:12</td>\n",
       "    </tr>\n",
       "    <tr>\n",
       "      <td>6</td>\n",
       "      <td>0.796615</td>\n",
       "      <td>0.724704</td>\n",
       "      <td>0.798132</td>\n",
       "      <td>0.951178</td>\n",
       "      <td>04:12</td>\n",
       "    </tr>\n",
       "  </tbody>\n",
       "</table>"
      ],
      "text/plain": [
       "<IPython.core.display.HTML object>"
      ]
     },
     "metadata": {},
     "output_type": "display_data"
    },
    {
     "name": "stdout",
     "output_type": "stream",
     "text": [
      "Better model found at epoch 0 with valid_loss value: 0.9026442170143127.\n",
      "Better model found at epoch 1 with valid_loss value: 0.8537768125534058.\n",
      "Better model found at epoch 2 with valid_loss value: 0.85272216796875.\n",
      "Better model found at epoch 3 with valid_loss value: 0.8250352740287781.\n",
      "Better model found at epoch 4 with valid_loss value: 0.8212662935256958.\n",
      "Better model found at epoch 5 with valid_loss value: 0.7731568217277527.\n",
      "Better model found at epoch 6 with valid_loss value: 0.724704384803772.\n"
     ]
    }
   ],
   "source": [
    "do_fit(learn, 'task1_resnet50_iteration1', epochs=7, lr=1e-3, pct_start=0.75)"
   ]
  },
  {
   "cell_type": "code",
   "execution_count": 4,
   "id": "d384fbec",
   "metadata": {},
   "outputs": [],
   "source": [
    "learn.unfreeze()"
   ]
  },
  {
   "cell_type": "code",
   "execution_count": 5,
   "id": "0c070a14",
   "metadata": {},
   "outputs": [
    {
     "data": {
      "text/html": [
       "\n",
       "<style>\n",
       "    /* Turns off some styling */\n",
       "    progress {\n",
       "        /* gets rid of default border in Firefox and Opera. */\n",
       "        border: none;\n",
       "        /* Needs to be in here for Safari polyfill so background images work as expected. */\n",
       "        background-size: auto;\n",
       "    }\n",
       "    .progress-bar-interrupted, .progress-bar-interrupted::-webkit-progress-bar {\n",
       "        background: #F44336;\n",
       "    }\n",
       "</style>\n"
      ],
      "text/plain": [
       "<IPython.core.display.HTML object>"
      ]
     },
     "metadata": {},
     "output_type": "display_data"
    },
    {
     "data": {
      "text/html": [
       "<table border=\"1\" class=\"dataframe\">\n",
       "  <thead>\n",
       "    <tr style=\"text-align: left;\">\n",
       "      <th>epoch</th>\n",
       "      <th>train_loss</th>\n",
       "      <th>valid_loss</th>\n",
       "      <th>accuracy</th>\n",
       "      <th>top_k_accuracy</th>\n",
       "      <th>time</th>\n",
       "    </tr>\n",
       "  </thead>\n",
       "  <tbody>\n",
       "    <tr>\n",
       "      <td>0</td>\n",
       "      <td>0.771161</td>\n",
       "      <td>0.717803</td>\n",
       "      <td>0.800679</td>\n",
       "      <td>0.952664</td>\n",
       "      <td>05:15</td>\n",
       "    </tr>\n",
       "    <tr>\n",
       "      <td>1</td>\n",
       "      <td>0.738390</td>\n",
       "      <td>0.702565</td>\n",
       "      <td>0.804712</td>\n",
       "      <td>0.952452</td>\n",
       "      <td>05:15</td>\n",
       "    </tr>\n",
       "    <tr>\n",
       "      <td>2</td>\n",
       "      <td>0.680237</td>\n",
       "      <td>0.697635</td>\n",
       "      <td>0.805986</td>\n",
       "      <td>0.953513</td>\n",
       "      <td>05:15</td>\n",
       "    </tr>\n",
       "    <tr>\n",
       "      <td>3</td>\n",
       "      <td>0.700782</td>\n",
       "      <td>0.698232</td>\n",
       "      <td>0.805137</td>\n",
       "      <td>0.955211</td>\n",
       "      <td>05:15</td>\n",
       "    </tr>\n",
       "    <tr>\n",
       "      <td>4</td>\n",
       "      <td>0.631794</td>\n",
       "      <td>0.698456</td>\n",
       "      <td>0.808321</td>\n",
       "      <td>0.952876</td>\n",
       "      <td>05:14</td>\n",
       "    </tr>\n",
       "  </tbody>\n",
       "</table>"
      ],
      "text/plain": [
       "<IPython.core.display.HTML object>"
      ]
     },
     "metadata": {},
     "output_type": "display_data"
    },
    {
     "name": "stdout",
     "output_type": "stream",
     "text": [
      "Better model found at epoch 0 with valid_loss value: 0.7178031206130981.\n",
      "Better model found at epoch 1 with valid_loss value: 0.7025646567344666.\n",
      "Better model found at epoch 2 with valid_loss value: 0.6976351737976074.\n"
     ]
    }
   ],
   "source": [
    "do_fit(learn, 'task1_resnet50_iteration1_unfrozen', epochs=5, lr=slice(1e-6, 1e-5), pct_start=0.75)"
   ]
  },
  {
   "cell_type": "code",
   "execution_count": 8,
   "id": "f210675a",
   "metadata": {},
   "outputs": [],
   "source": [
    "# learn.load('autosaved')"
   ]
  },
  {
   "cell_type": "code",
   "execution_count": 7,
   "id": "904087c0",
   "metadata": {},
   "outputs": [
    {
     "data": {
      "text/html": [
       "\n",
       "<style>\n",
       "    /* Turns off some styling */\n",
       "    progress {\n",
       "        /* gets rid of default border in Firefox and Opera. */\n",
       "        border: none;\n",
       "        /* Needs to be in here for Safari polyfill so background images work as expected. */\n",
       "        background-size: auto;\n",
       "    }\n",
       "    .progress-bar-interrupted, .progress-bar-interrupted::-webkit-progress-bar {\n",
       "        background: #F44336;\n",
       "    }\n",
       "</style>\n"
      ],
      "text/plain": [
       "<IPython.core.display.HTML object>"
      ]
     },
     "metadata": {},
     "output_type": "display_data"
    },
    {
     "data": {
      "text/html": [],
      "text/plain": [
       "<IPython.core.display.HTML object>"
      ]
     },
     "metadata": {},
     "output_type": "display_data"
    }
   ],
   "source": [
    "save_preds(learn, config, iteration=1)"
   ]
  },
  {
   "cell_type": "markdown",
   "id": "0deef42d",
   "metadata": {},
   "source": [
    "# Train - Iteration 2"
   ]
  },
  {
   "cell_type": "code",
   "execution_count": 2,
   "id": "3f044c15",
   "metadata": {},
   "outputs": [],
   "source": [
    "config  = load_configuration('configs/config_task1_224.yml')\n",
    "learn = get_learner_task1(config, iteration=2)"
   ]
  },
  {
   "cell_type": "code",
   "execution_count": 3,
   "id": "7377eb2a",
   "metadata": {},
   "outputs": [
    {
     "data": {
      "text/html": [
       "\n",
       "<style>\n",
       "    /* Turns off some styling */\n",
       "    progress {\n",
       "        /* gets rid of default border in Firefox and Opera. */\n",
       "        border: none;\n",
       "        /* Needs to be in here for Safari polyfill so background images work as expected. */\n",
       "        background-size: auto;\n",
       "    }\n",
       "    .progress-bar-interrupted, .progress-bar-interrupted::-webkit-progress-bar {\n",
       "        background: #F44336;\n",
       "    }\n",
       "</style>\n"
      ],
      "text/plain": [
       "<IPython.core.display.HTML object>"
      ]
     },
     "metadata": {},
     "output_type": "display_data"
    },
    {
     "data": {
      "text/html": [
       "<table border=\"1\" class=\"dataframe\">\n",
       "  <thead>\n",
       "    <tr style=\"text-align: left;\">\n",
       "      <th>epoch</th>\n",
       "      <th>train_loss</th>\n",
       "      <th>valid_loss</th>\n",
       "      <th>accuracy</th>\n",
       "      <th>top_k_accuracy</th>\n",
       "      <th>time</th>\n",
       "    </tr>\n",
       "  </thead>\n",
       "  <tbody>\n",
       "    <tr>\n",
       "      <td>0</td>\n",
       "      <td>1.341351</td>\n",
       "      <td>0.935895</td>\n",
       "      <td>0.742730</td>\n",
       "      <td>0.930588</td>\n",
       "      <td>04:17</td>\n",
       "    </tr>\n",
       "    <tr>\n",
       "      <td>1</td>\n",
       "      <td>1.188324</td>\n",
       "      <td>0.861457</td>\n",
       "      <td>0.766504</td>\n",
       "      <td>0.939079</td>\n",
       "      <td>04:15</td>\n",
       "    </tr>\n",
       "    <tr>\n",
       "      <td>2</td>\n",
       "      <td>1.046907</td>\n",
       "      <td>0.853904</td>\n",
       "      <td>0.770113</td>\n",
       "      <td>0.941626</td>\n",
       "      <td>04:15</td>\n",
       "    </tr>\n",
       "    <tr>\n",
       "      <td>3</td>\n",
       "      <td>1.023409</td>\n",
       "      <td>0.818323</td>\n",
       "      <td>0.780938</td>\n",
       "      <td>0.944810</td>\n",
       "      <td>04:12</td>\n",
       "    </tr>\n",
       "    <tr>\n",
       "      <td>4</td>\n",
       "      <td>0.962754</td>\n",
       "      <td>0.824799</td>\n",
       "      <td>0.778816</td>\n",
       "      <td>0.943749</td>\n",
       "      <td>04:12</td>\n",
       "    </tr>\n",
       "    <tr>\n",
       "      <td>5</td>\n",
       "      <td>0.926200</td>\n",
       "      <td>0.780025</td>\n",
       "      <td>0.797707</td>\n",
       "      <td>0.947569</td>\n",
       "      <td>04:12</td>\n",
       "    </tr>\n",
       "    <tr>\n",
       "      <td>6</td>\n",
       "      <td>0.768194</td>\n",
       "      <td>0.719287</td>\n",
       "      <td>0.808746</td>\n",
       "      <td>0.952452</td>\n",
       "      <td>04:12</td>\n",
       "    </tr>\n",
       "  </tbody>\n",
       "</table>"
      ],
      "text/plain": [
       "<IPython.core.display.HTML object>"
      ]
     },
     "metadata": {},
     "output_type": "display_data"
    },
    {
     "name": "stdout",
     "output_type": "stream",
     "text": [
      "Better model found at epoch 0 with valid_loss value: 0.9358948469161987.\n",
      "Better model found at epoch 1 with valid_loss value: 0.8614574670791626.\n",
      "Better model found at epoch 2 with valid_loss value: 0.8539037108421326.\n",
      "Better model found at epoch 3 with valid_loss value: 0.8183228969573975.\n",
      "Better model found at epoch 5 with valid_loss value: 0.7800247073173523.\n",
      "Better model found at epoch 6 with valid_loss value: 0.7192870378494263.\n"
     ]
    }
   ],
   "source": [
    "do_fit(learn, 'task1_resnet50_iteration2', epochs=7, lr=1e-3, pct_start=0.75)"
   ]
  },
  {
   "cell_type": "code",
   "execution_count": 4,
   "id": "f9dd8cf7",
   "metadata": {},
   "outputs": [],
   "source": [
    "learn.unfreeze()"
   ]
  },
  {
   "cell_type": "code",
   "execution_count": 5,
   "id": "82ac88ab",
   "metadata": {},
   "outputs": [
    {
     "data": {
      "text/html": [
       "\n",
       "<style>\n",
       "    /* Turns off some styling */\n",
       "    progress {\n",
       "        /* gets rid of default border in Firefox and Opera. */\n",
       "        border: none;\n",
       "        /* Needs to be in here for Safari polyfill so background images work as expected. */\n",
       "        background-size: auto;\n",
       "    }\n",
       "    .progress-bar-interrupted, .progress-bar-interrupted::-webkit-progress-bar {\n",
       "        background: #F44336;\n",
       "    }\n",
       "</style>\n"
      ],
      "text/plain": [
       "<IPython.core.display.HTML object>"
      ]
     },
     "metadata": {},
     "output_type": "display_data"
    },
    {
     "data": {
      "text/html": [
       "<table border=\"1\" class=\"dataframe\">\n",
       "  <thead>\n",
       "    <tr style=\"text-align: left;\">\n",
       "      <th>epoch</th>\n",
       "      <th>train_loss</th>\n",
       "      <th>valid_loss</th>\n",
       "      <th>accuracy</th>\n",
       "      <th>top_k_accuracy</th>\n",
       "      <th>time</th>\n",
       "    </tr>\n",
       "  </thead>\n",
       "  <tbody>\n",
       "    <tr>\n",
       "      <td>0</td>\n",
       "      <td>0.738848</td>\n",
       "      <td>0.707184</td>\n",
       "      <td>0.812142</td>\n",
       "      <td>0.953089</td>\n",
       "      <td>05:13</td>\n",
       "    </tr>\n",
       "    <tr>\n",
       "      <td>1</td>\n",
       "      <td>0.710545</td>\n",
       "      <td>0.696619</td>\n",
       "      <td>0.815326</td>\n",
       "      <td>0.954150</td>\n",
       "      <td>05:13</td>\n",
       "    </tr>\n",
       "    <tr>\n",
       "      <td>2</td>\n",
       "      <td>0.673064</td>\n",
       "      <td>0.693905</td>\n",
       "      <td>0.815750</td>\n",
       "      <td>0.953513</td>\n",
       "      <td>05:13</td>\n",
       "    </tr>\n",
       "    <tr>\n",
       "      <td>3</td>\n",
       "      <td>0.677823</td>\n",
       "      <td>0.694364</td>\n",
       "      <td>0.815750</td>\n",
       "      <td>0.954150</td>\n",
       "      <td>05:13</td>\n",
       "    </tr>\n",
       "    <tr>\n",
       "      <td>4</td>\n",
       "      <td>0.618483</td>\n",
       "      <td>0.691177</td>\n",
       "      <td>0.816812</td>\n",
       "      <td>0.954787</td>\n",
       "      <td>05:13</td>\n",
       "    </tr>\n",
       "  </tbody>\n",
       "</table>"
      ],
      "text/plain": [
       "<IPython.core.display.HTML object>"
      ]
     },
     "metadata": {},
     "output_type": "display_data"
    },
    {
     "name": "stdout",
     "output_type": "stream",
     "text": [
      "Better model found at epoch 0 with valid_loss value: 0.707184374332428.\n",
      "Better model found at epoch 1 with valid_loss value: 0.6966188549995422.\n",
      "Better model found at epoch 2 with valid_loss value: 0.6939049959182739.\n",
      "Better model found at epoch 4 with valid_loss value: 0.6911767721176147.\n"
     ]
    }
   ],
   "source": [
    "do_fit(\n",
    "    learn, \n",
    "    'task1_resnet50_iteration2_unfrozen', \n",
    "    epochs=5, \n",
    "    lr=slice(1e-6, 1e-5), \n",
    "    pct_start=0.75,\n",
    "    save_state_dict=True\n",
    ")"
   ]
  },
  {
   "cell_type": "code",
   "execution_count": 7,
   "id": "7dadad8c",
   "metadata": {},
   "outputs": [],
   "source": [
    "# learn.lr_find()"
   ]
  },
  {
   "cell_type": "code",
   "execution_count": 8,
   "id": "43572d98",
   "metadata": {},
   "outputs": [
    {
     "data": {
      "text/html": [
       "\n",
       "<style>\n",
       "    /* Turns off some styling */\n",
       "    progress {\n",
       "        /* gets rid of default border in Firefox and Opera. */\n",
       "        border: none;\n",
       "        /* Needs to be in here for Safari polyfill so background images work as expected. */\n",
       "        background-size: auto;\n",
       "    }\n",
       "    .progress-bar-interrupted, .progress-bar-interrupted::-webkit-progress-bar {\n",
       "        background: #F44336;\n",
       "    }\n",
       "</style>\n"
      ],
      "text/plain": [
       "<IPython.core.display.HTML object>"
      ]
     },
     "metadata": {},
     "output_type": "display_data"
    },
    {
     "data": {
      "text/html": [],
      "text/plain": [
       "<IPython.core.display.HTML object>"
      ]
     },
     "metadata": {},
     "output_type": "display_data"
    }
   ],
   "source": [
    "save_preds(learn, config, iteration=2)"
   ]
  },
  {
   "cell_type": "code",
   "execution_count": null,
   "id": "ed5c9051",
   "metadata": {},
   "outputs": [],
   "source": []
  }
 ],
 "metadata": {
  "kernelspec": {
   "display_name": "Python 3 (ipykernel)",
   "language": "python",
   "name": "python3"
  },
  "language_info": {
   "codemirror_mode": {
    "name": "ipython",
    "version": 3
   },
   "file_extension": ".py",
   "mimetype": "text/x-python",
   "name": "python",
   "nbconvert_exporter": "python",
   "pygments_lexer": "ipython3",
   "version": "3.10.5"
  }
 },
 "nbformat": 4,
 "nbformat_minor": 5
}
