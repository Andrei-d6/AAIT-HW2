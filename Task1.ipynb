{
 "cells": [
  {
   "cell_type": "code",
   "execution_count": null,
   "id": "a47ff2b0",
   "metadata": {},
   "outputs": [],
   "source": [
    "from fastai.vision.all import *\n",
    "\n",
    "from src.learner import get_learner_task1\n",
    "from src.utils import (\n",
    "    load_configuration,\n",
    "    create_submission,\n",
    "    save_preds,\n",
    "    do_fit\n",
    ")"
   ]
  },
  {
   "cell_type": "markdown",
   "id": "47ba0412",
   "metadata": {},
   "source": [
    "### ! Reproducibility is endured by **get_learnertask1** - it sets the seed for the learner  "
   ]
  },
  {
   "cell_type": "code",
   "execution_count": null,
   "id": "c696fef5",
   "metadata": {},
   "outputs": [],
   "source": [
    "import warnings\n",
    "warnings.filterwarnings('ignore')"
   ]
  },
  {
   "cell_type": "markdown",
   "id": "b9f8a711",
   "metadata": {},
   "source": [
    "# Generate the training labels\n",
    "\n",
    "Before starting the trainig procedure please make sure to run the **src/generate_labels.py** script. <br>\n",
    "This script is responsible for splitting the labeled samples into a 80/20 train and validation split. The validation set created by **src/generate_labels.py** will be used throughout training."
   ]
  },
  {
   "cell_type": "code",
   "execution_count": null,
   "id": "380c5b26",
   "metadata": {},
   "outputs": [],
   "source": [
    "# !python src/generate_labels.py --in_file=data/task1/train_data/annotations.csv --out_file=data/task1/train_data/annotations_labeled.csv"
   ]
  },
  {
   "cell_type": "markdown",
   "id": "44c611b3",
   "metadata": {},
   "source": [
    "# The training procedure\n",
    "\n",
    "Initial train:\n",
    " - Train on 128x128 images first only on the last linear layers and then on the whole network\n",
    " - Repeat this training procedure (starting from the weights resulted from the previous step) with inpu size of 224x224 pixels\n",
    " - Use the model trained on 224x224 images in order to predict the classes for the unlabeled images.\n",
    " \n",
    "<br>\n",
    "\n",
    "Training iteration 1:\n",
    " - Train on 128x128 images from the entire dataset (original labeled images + pseudo-labeled images)\n",
    " - Repeat the training procedure on 224x224 images using the weights obtained in the last step.\n",
    " - Use the newly trained model in order to predict again the classes for the unlabled images.\n",
    " \n",
    "<br>\n",
    "\n",
    "Training iteration 2:\n",
    " - Train on 128x128 images from the entire dataset (original labeled images + pseudo-labeled images)\n",
    " - Repeat the training procedure on 224x224 images using the weights obtained in the last step.\n",
    " - Use the newly trained model in order create the final submission.\n",
    "\n",
    "-----\n",
    "\n",
    "In order to reproduce this training procedure simply run cell by cell this notebook making sure to pass the desired learner configuration, number of epochs to train at each step and the learning rate.\n",
    "\n",
    "<br>\n",
    "\n",
    "### Note: This notebook will create a decently high number of checkpoints - the best and the last epoch results are saved separately for each training call (named `do_fit`).\n",
    "If storage is an issue simply changed the name of the saved model in order to be the same from one training call to the other in order to overwrite them. For example\n",
    "\n",
    "Change:<br>\n",
    "do_fit(learn, **'task1_resnet50_128'**, epochs=10, lr=1e-3, pct_start=0.75)<br>\n",
    "do_fit(learn, **'task1_resnet50_128_unfrozen'**, epochs=3, lr=slice(1e-7, 1e-5))\n",
    "\n",
    "<br>\n",
    "<br>\n",
    "\n",
    "Into:<br>\n",
    "do_fit(learn, **'task1_resnet50_128'**, epochs=10, lr=1e-3, pct_start=0.75)<br>\n",
    "do_fit(learn, **'task1_resnet50_128'**, epochs=3, lr=slice(1e-7, 1e-5))\n",
    "\n",
    "<br><br>"
   ]
  },
  {
   "cell_type": "markdown",
   "id": "292a4e0d",
   "metadata": {},
   "source": [
    "# Initial train (with progressive resizing)\n",
    "## 128x128 px"
   ]
  },
  {
   "cell_type": "code",
   "execution_count": null,
   "id": "93a6ba09",
   "metadata": {},
   "outputs": [],
   "source": [
    "config  = load_configuration('configs/config_task1_128.yml')\n",
    "learn = get_learner_task1(config)"
   ]
  },
  {
   "cell_type": "code",
   "execution_count": null,
   "id": "2968385d",
   "metadata": {},
   "outputs": [],
   "source": [
    "do_fit(learn, 'task1_resnet50_128', epochs=10, lr=1e-3, pct_start=0.75)"
   ]
  },
  {
   "cell_type": "code",
   "execution_count": null,
   "id": "030e1a36",
   "metadata": {},
   "outputs": [],
   "source": [
    "learn.load('task1_resnet50_128')"
   ]
  },
  {
   "cell_type": "code",
   "execution_count": null,
   "id": "ef3f27ed",
   "metadata": {},
   "outputs": [],
   "source": [
    "learn.unfreeze()"
   ]
  },
  {
   "cell_type": "code",
   "execution_count": null,
   "id": "ffe7df59",
   "metadata": {},
   "outputs": [],
   "source": [
    "do_fit(learn, 'task1_resnet50_128_unfrozen', epochs=3, lr=slice(1e-7, 1e-5), \n",
    "       fit_type='one_cycle', save_state_dict=True)"
   ]
  },
  {
   "cell_type": "markdown",
   "id": "8e080c8d",
   "metadata": {},
   "source": [
    "## 224x224 px "
   ]
  },
  {
   "cell_type": "code",
   "execution_count": null,
   "id": "75089b38",
   "metadata": {},
   "outputs": [],
   "source": [
    "config  = load_configuration('configs/config_task1_224.yml')\n",
    "learn = get_learner_task1(config)"
   ]
  },
  {
   "cell_type": "code",
   "execution_count": null,
   "id": "67393369",
   "metadata": {},
   "outputs": [],
   "source": [
    "learn.model.load_state_dict(torch.load(f\"{learn.model_dir}/task1_resnet50_128_unfrozen_dict.pth\"))"
   ]
  },
  {
   "cell_type": "code",
   "execution_count": null,
   "id": "322b5c7c",
   "metadata": {},
   "outputs": [],
   "source": [
    "do_fit(learn, 'task1_resnet50_224', epochs=15, lr=1e-3, pct_start=0.75)"
   ]
  },
  {
   "cell_type": "code",
   "execution_count": null,
   "id": "9132ba20",
   "metadata": {},
   "outputs": [],
   "source": [
    "learn.unfreeze()"
   ]
  },
  {
   "cell_type": "code",
   "execution_count": null,
   "id": "c1fb536f",
   "metadata": {},
   "outputs": [],
   "source": [
    "do_fit(learn, 'task1_resnet50_224_unfrozen', epochs=3, lr=slice(1e-7, 1e-6), fit_type='one_cycle')"
   ]
  },
  {
   "cell_type": "code",
   "execution_count": null,
   "id": "a618735f",
   "metadata": {},
   "outputs": [],
   "source": [
    "learn.load('autosaved')"
   ]
  },
  {
   "cell_type": "code",
   "execution_count": null,
   "id": "3f409b5d",
   "metadata": {},
   "outputs": [],
   "source": [
    "learn.save('task1_resnet50_224_unfrozen')"
   ]
  },
  {
   "cell_type": "code",
   "execution_count": null,
   "id": "6fba9f88",
   "metadata": {},
   "outputs": [],
   "source": [
    "save_preds(learn, config)"
   ]
  },
  {
   "cell_type": "markdown",
   "id": "8d4f54ac",
   "metadata": {},
   "source": [
    "<br><br>"
   ]
  },
  {
   "cell_type": "markdown",
   "id": "bbe27072",
   "metadata": {},
   "source": [
    "# Train - Iteration 1"
   ]
  },
  {
   "cell_type": "markdown",
   "id": "c0137218",
   "metadata": {},
   "source": [
    "## 128x128 px "
   ]
  },
  {
   "cell_type": "code",
   "execution_count": null,
   "id": "92fcbe1b",
   "metadata": {},
   "outputs": [],
   "source": [
    "config  = load_configuration('configs/config_task1_128.yml')\n",
    "learn = get_learner_task1(config, iteration=1)"
   ]
  },
  {
   "cell_type": "code",
   "execution_count": null,
   "id": "190a07b5",
   "metadata": {},
   "outputs": [],
   "source": [
    "do_fit(learn, 'task1_resnet50_128_iter1', epochs=10, lr=1e-3, pct_start=0.75)"
   ]
  },
  {
   "cell_type": "code",
   "execution_count": null,
   "id": "391f5364",
   "metadata": {},
   "outputs": [],
   "source": [
    "learn.unfreeze()"
   ]
  },
  {
   "cell_type": "code",
   "execution_count": null,
   "id": "592677e0",
   "metadata": {},
   "outputs": [],
   "source": [
    "do_fit(learn, 'task1_resnet50_128_iter1_unfrozen', epochs=3, lr=slice(1e-7, 1e-5), \n",
    "       fit_type='one_cycle', save_state_dict=True)"
   ]
  },
  {
   "cell_type": "markdown",
   "id": "f2bd9d41",
   "metadata": {},
   "source": [
    "## 224x224 px "
   ]
  },
  {
   "cell_type": "code",
   "execution_count": null,
   "id": "e9436a0b",
   "metadata": {},
   "outputs": [],
   "source": [
    "config  = load_configuration('configs/config_task1_224.yml')\n",
    "learn = get_learner_task1(config, iteration=1)"
   ]
  },
  {
   "cell_type": "code",
   "execution_count": null,
   "id": "fa771a94",
   "metadata": {},
   "outputs": [],
   "source": [
    "state_dict = torch.load(f\"{learn.model_dir}/task1_resnet50_128_iter1_unfrozen_dict.pth\")\n",
    "learn.model.load_state_dict(state_dict)"
   ]
  },
  {
   "cell_type": "code",
   "execution_count": null,
   "id": "e2fb8967",
   "metadata": {},
   "outputs": [],
   "source": [
    "do_fit(learn, 'task1_resnet50_224_iter1', epochs=15, lr=1e-3, pct_start=0.75)"
   ]
  },
  {
   "cell_type": "code",
   "execution_count": null,
   "id": "0850f143",
   "metadata": {},
   "outputs": [],
   "source": [
    "learn.unfreeze()"
   ]
  },
  {
   "cell_type": "code",
   "execution_count": null,
   "id": "02aa06a6",
   "metadata": {},
   "outputs": [],
   "source": [
    "do_fit(learn, 'task1_resnet50_224_iter1_unfrozen', epochs=3, lr=slice(1e-7, 1e-6), \n",
    "       fit_type='one_cycle')"
   ]
  },
  {
   "cell_type": "code",
   "execution_count": null,
   "id": "920e6f07",
   "metadata": {},
   "outputs": [],
   "source": [
    "save_preds(learn, config, iteration=1)"
   ]
  },
  {
   "cell_type": "markdown",
   "id": "37ebe420",
   "metadata": {},
   "source": [
    "<br><br>"
   ]
  },
  {
   "cell_type": "markdown",
   "id": "ed8404eb",
   "metadata": {},
   "source": [
    "# Train - Iteration 2"
   ]
  },
  {
   "cell_type": "markdown",
   "id": "f4a808ef",
   "metadata": {},
   "source": [
    "## 128x128 px "
   ]
  },
  {
   "cell_type": "code",
   "execution_count": null,
   "id": "481b10de",
   "metadata": {},
   "outputs": [],
   "source": [
    "config  = load_configuration('configs/config_task1_128.yml')\n",
    "learn = get_learner_task1(config, iteration=2)"
   ]
  },
  {
   "cell_type": "code",
   "execution_count": null,
   "id": "ea66aa40",
   "metadata": {},
   "outputs": [],
   "source": [
    "do_fit(learn, 'task1_resnet50_128_iter2', epochs=15, lr=1e-3, pct_start=0.75)"
   ]
  },
  {
   "cell_type": "code",
   "execution_count": null,
   "id": "5530f8f8",
   "metadata": {},
   "outputs": [],
   "source": [
    "learn.unfreeze()"
   ]
  },
  {
   "cell_type": "code",
   "execution_count": null,
   "id": "26fc2d0d",
   "metadata": {},
   "outputs": [],
   "source": [
    "do_fit(learn, 'task1_resnet50_128_iter2_unfrozen', epochs=3, lr=slice(1e-7, 1e-5), \n",
    "       fit_type='one_cycle', save_state_dict=True)"
   ]
  },
  {
   "cell_type": "markdown",
   "id": "db15ab62",
   "metadata": {},
   "source": [
    "## 224x224 px "
   ]
  },
  {
   "cell_type": "code",
   "execution_count": null,
   "id": "c0e3771f",
   "metadata": {},
   "outputs": [],
   "source": [
    "config  = load_configuration('configs/config_task1_224.yml')\n",
    "learn = get_learner_task1(config, iteration=2)"
   ]
  },
  {
   "cell_type": "code",
   "execution_count": null,
   "id": "01e4639a",
   "metadata": {},
   "outputs": [],
   "source": [
    "state_dict = torch.load(f\"{learn.model_dir}/task1_resnet50_128_iter2_unfrozen_dict.pth\")\n",
    "learn.model.load_state_dict(state_dict)"
   ]
  },
  {
   "cell_type": "code",
   "execution_count": null,
   "id": "874e2f82",
   "metadata": {},
   "outputs": [],
   "source": [
    "do_fit(learn, 'task1_resnet50_224_iter2', epochs=15, lr=3e-4, pct_start=0.75)"
   ]
  },
  {
   "cell_type": "code",
   "execution_count": null,
   "id": "efc00ca3",
   "metadata": {},
   "outputs": [],
   "source": [
    "learn.load('task1_resnet50_224_iter2')"
   ]
  },
  {
   "cell_type": "code",
   "execution_count": null,
   "id": "9620a340",
   "metadata": {},
   "outputs": [],
   "source": [
    "learn.unfreeze()"
   ]
  },
  {
   "cell_type": "code",
   "execution_count": null,
   "id": "c45a14e7",
   "metadata": {},
   "outputs": [],
   "source": [
    "do_fit(learn, 'task1_resnet50_224_iter2_unfrozen', epochs=5, lr=slice(1e-6, 1e-5), \n",
    "       fit_type='one_cycle', save_state_dict=True)"
   ]
  },
  {
   "cell_type": "markdown",
   "id": "c4e6967a",
   "metadata": {},
   "source": [
    "<br><br>"
   ]
  },
  {
   "cell_type": "markdown",
   "id": "e3d02748",
   "metadata": {},
   "source": [
    "# Creating submissions \n",
    "## Submission Iteration 2 - 128x128 px"
   ]
  },
  {
   "cell_type": "code",
   "execution_count": null,
   "id": "d0a483ce",
   "metadata": {},
   "outputs": [],
   "source": [
    "config  = load_configuration('configs/config_task1_128.yml')\n",
    "learn = get_learner_task1(config, iteration=2, resnet_weights=False)"
   ]
  },
  {
   "cell_type": "code",
   "execution_count": null,
   "id": "8a305cc1",
   "metadata": {},
   "outputs": [],
   "source": [
    "learn.load('task1_resnet50_128_iter2_unfrozen')"
   ]
  },
  {
   "cell_type": "code",
   "execution_count": null,
   "id": "fcc6daf2",
   "metadata": {},
   "outputs": [],
   "source": [
    "learn.export('models/test_task1_resnet50_128_iter2_unfrozen.pkl')"
   ]
  },
  {
   "cell_type": "code",
   "execution_count": null,
   "id": "2ac54033",
   "metadata": {
    "scrolled": false
   },
   "outputs": [],
   "source": [
    "%%time\n",
    "\n",
    "create_submission(\n",
    "    path_learn='test_task1_resnet50_128_iter2_unfrozen.pkl',\n",
    "    path_test_images='data/task1/val_data',\n",
    "    submission_name='task1.csv'\n",
    ")"
   ]
  },
  {
   "cell_type": "markdown",
   "id": "61fef582",
   "metadata": {},
   "source": [
    "## Submission Iteration 2 - 224x224 px "
   ]
  },
  {
   "cell_type": "code",
   "execution_count": null,
   "id": "3a6452e9",
   "metadata": {},
   "outputs": [],
   "source": [
    "config  = load_configuration('configs/config_task1_224.yml')\n",
    "learn = get_learner_task1(config, iteration=2, resnet_weights=False)"
   ]
  },
  {
   "cell_type": "code",
   "execution_count": null,
   "id": "3d7745ee",
   "metadata": {},
   "outputs": [],
   "source": [
    "learn.load('task1_resnet50_224_iter2_unfrozen')"
   ]
  },
  {
   "cell_type": "code",
   "execution_count": null,
   "id": "b08305d7",
   "metadata": {},
   "outputs": [],
   "source": [
    "learn.export('models/test_task1_resnet50_224_iter2_unfrozen.pkl')"
   ]
  },
  {
   "cell_type": "code",
   "execution_count": null,
   "id": "c0cffa99",
   "metadata": {},
   "outputs": [],
   "source": [
    "%%time\n",
    "\n",
    "create_submission(\n",
    "    path_learn='test_task1_resnet50_224_iter2_unfrozen.pkl',\n",
    "    path_test_images='data/task1/val_data',\n",
    "    submission_name='task1.csv'\n",
    ")"
   ]
  },
  {
   "cell_type": "code",
   "execution_count": null,
   "id": "67f0d0fa",
   "metadata": {},
   "outputs": [],
   "source": []
  }
 ],
 "metadata": {
  "kernelspec": {
   "display_name": "Python 3 (ipykernel)",
   "language": "python",
   "name": "python3"
  },
  "language_info": {
   "codemirror_mode": {
    "name": "ipython",
    "version": 3
   },
   "file_extension": ".py",
   "mimetype": "text/x-python",
   "name": "python",
   "nbconvert_exporter": "python",
   "pygments_lexer": "ipython3",
   "version": "3.10.5"
  }
 },
 "nbformat": 4,
 "nbformat_minor": 5
}
