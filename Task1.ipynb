{
 "cells": [
  {
   "cell_type": "code",
   "execution_count": 1,
   "id": "1708005e",
   "metadata": {},
   "outputs": [],
   "source": [
    "from fastai.vision.all import *\n",
    "\n",
    "from src.learner import get_learner_task1\n",
    "from src.utils import (\n",
    "    load_configuration,\n",
    "    save_preds,\n",
    "    do_fit\n",
    ")"
   ]
  },
  {
   "cell_type": "markdown",
   "id": "52870166",
   "metadata": {},
   "source": [
    "# Initial train"
   ]
  },
  {
   "cell_type": "code",
   "execution_count": 2,
   "id": "0209c4e0",
   "metadata": {},
   "outputs": [],
   "source": [
    "config  = load_configuration('configs/config_task1.yml')\n",
    "learn = get_learner_task1(config)"
   ]
  },
  {
   "cell_type": "code",
   "execution_count": 3,
   "id": "12fc8bb2",
   "metadata": {},
   "outputs": [
    {
     "data": {
      "text/html": [
       "\n",
       "<style>\n",
       "    /* Turns off some styling */\n",
       "    progress {\n",
       "        /* gets rid of default border in Firefox and Opera. */\n",
       "        border: none;\n",
       "        /* Needs to be in here for Safari polyfill so background images work as expected. */\n",
       "        background-size: auto;\n",
       "    }\n",
       "    .progress-bar-interrupted, .progress-bar-interrupted::-webkit-progress-bar {\n",
       "        background: #F44336;\n",
       "    }\n",
       "</style>\n"
      ],
      "text/plain": [
       "<IPython.core.display.HTML object>"
      ]
     },
     "metadata": {},
     "output_type": "display_data"
    },
    {
     "data": {
      "text/html": [
       "<table border=\"1\" class=\"dataframe\">\n",
       "  <thead>\n",
       "    <tr style=\"text-align: left;\">\n",
       "      <th>epoch</th>\n",
       "      <th>train_loss</th>\n",
       "      <th>valid_loss</th>\n",
       "      <th>accuracy</th>\n",
       "      <th>top_k_accuracy</th>\n",
       "      <th>time</th>\n",
       "    </tr>\n",
       "  </thead>\n",
       "  <tbody>\n",
       "    <tr>\n",
       "      <td>0</td>\n",
       "      <td>1.787719</td>\n",
       "      <td>1.001778</td>\n",
       "      <td>0.734027</td>\n",
       "      <td>0.918701</td>\n",
       "      <td>01:04</td>\n",
       "    </tr>\n",
       "    <tr>\n",
       "      <td>1</td>\n",
       "      <td>1.332038</td>\n",
       "      <td>0.939120</td>\n",
       "      <td>0.746126</td>\n",
       "      <td>0.925706</td>\n",
       "      <td>01:01</td>\n",
       "    </tr>\n",
       "    <tr>\n",
       "      <td>2</td>\n",
       "      <td>1.183418</td>\n",
       "      <td>0.918761</td>\n",
       "      <td>0.752070</td>\n",
       "      <td>0.932711</td>\n",
       "      <td>01:01</td>\n",
       "    </tr>\n",
       "    <tr>\n",
       "      <td>3</td>\n",
       "      <td>1.084620</td>\n",
       "      <td>0.896996</td>\n",
       "      <td>0.761622</td>\n",
       "      <td>0.932074</td>\n",
       "      <td>01:01</td>\n",
       "    </tr>\n",
       "    <tr>\n",
       "      <td>4</td>\n",
       "      <td>0.956098</td>\n",
       "      <td>0.830993</td>\n",
       "      <td>0.772660</td>\n",
       "      <td>0.938442</td>\n",
       "      <td>01:01</td>\n",
       "    </tr>\n",
       "  </tbody>\n",
       "</table>"
      ],
      "text/plain": [
       "<IPython.core.display.HTML object>"
      ]
     },
     "metadata": {},
     "output_type": "display_data"
    },
    {
     "name": "stdout",
     "output_type": "stream",
     "text": [
      "Better model found at epoch 0 with valid_loss value: 1.0017776489257812.\n",
      "Better model found at epoch 1 with valid_loss value: 0.939119815826416.\n",
      "Better model found at epoch 2 with valid_loss value: 0.9187607169151306.\n",
      "Better model found at epoch 3 with valid_loss value: 0.8969955444335938.\n",
      "Better model found at epoch 4 with valid_loss value: 0.8309934735298157.\n"
     ]
    }
   ],
   "source": [
    "do_fit(learn, 'task1_resnet50', epochs=5, lr=1e-3, pct_start=0.75)"
   ]
  },
  {
   "cell_type": "code",
   "execution_count": 4,
   "id": "4b380d2e",
   "metadata": {},
   "outputs": [],
   "source": [
    "learn.unfreeze()"
   ]
  },
  {
   "cell_type": "code",
   "execution_count": 5,
   "id": "15508270",
   "metadata": {},
   "outputs": [],
   "source": [
    "# learn.lr_find()"
   ]
  },
  {
   "cell_type": "code",
   "execution_count": 6,
   "id": "5b0cc6c4",
   "metadata": {},
   "outputs": [
    {
     "data": {
      "text/html": [
       "\n",
       "<style>\n",
       "    /* Turns off some styling */\n",
       "    progress {\n",
       "        /* gets rid of default border in Firefox and Opera. */\n",
       "        border: none;\n",
       "        /* Needs to be in here for Safari polyfill so background images work as expected. */\n",
       "        background-size: auto;\n",
       "    }\n",
       "    .progress-bar-interrupted, .progress-bar-interrupted::-webkit-progress-bar {\n",
       "        background: #F44336;\n",
       "    }\n",
       "</style>\n"
      ],
      "text/plain": [
       "<IPython.core.display.HTML object>"
      ]
     },
     "metadata": {},
     "output_type": "display_data"
    },
    {
     "data": {
      "text/html": [
       "<table border=\"1\" class=\"dataframe\">\n",
       "  <thead>\n",
       "    <tr style=\"text-align: left;\">\n",
       "      <th>epoch</th>\n",
       "      <th>train_loss</th>\n",
       "      <th>valid_loss</th>\n",
       "      <th>accuracy</th>\n",
       "      <th>top_k_accuracy</th>\n",
       "      <th>time</th>\n",
       "    </tr>\n",
       "  </thead>\n",
       "  <tbody>\n",
       "    <tr>\n",
       "      <td>0</td>\n",
       "      <td>0.861629</td>\n",
       "      <td>0.816916</td>\n",
       "      <td>0.775844</td>\n",
       "      <td>0.941626</td>\n",
       "      <td>01:10</td>\n",
       "    </tr>\n",
       "    <tr>\n",
       "      <td>1</td>\n",
       "      <td>0.803082</td>\n",
       "      <td>0.808150</td>\n",
       "      <td>0.780938</td>\n",
       "      <td>0.942051</td>\n",
       "      <td>01:08</td>\n",
       "    </tr>\n",
       "    <tr>\n",
       "      <td>2</td>\n",
       "      <td>0.741461</td>\n",
       "      <td>0.796498</td>\n",
       "      <td>0.782424</td>\n",
       "      <td>0.943961</td>\n",
       "      <td>01:08</td>\n",
       "    </tr>\n",
       "    <tr>\n",
       "      <td>3</td>\n",
       "      <td>0.716618</td>\n",
       "      <td>0.789823</td>\n",
       "      <td>0.784335</td>\n",
       "      <td>0.942263</td>\n",
       "      <td>01:08</td>\n",
       "    </tr>\n",
       "    <tr>\n",
       "      <td>4</td>\n",
       "      <td>0.688154</td>\n",
       "      <td>0.790563</td>\n",
       "      <td>0.788155</td>\n",
       "      <td>0.943961</td>\n",
       "      <td>01:07</td>\n",
       "    </tr>\n",
       "  </tbody>\n",
       "</table>"
      ],
      "text/plain": [
       "<IPython.core.display.HTML object>"
      ]
     },
     "metadata": {},
     "output_type": "display_data"
    },
    {
     "name": "stdout",
     "output_type": "stream",
     "text": [
      "Better model found at epoch 0 with valid_loss value: 0.8169161677360535.\n",
      "Better model found at epoch 1 with valid_loss value: 0.8081502318382263.\n",
      "Better model found at epoch 2 with valid_loss value: 0.7964980602264404.\n",
      "Better model found at epoch 3 with valid_loss value: 0.7898226380348206.\n"
     ]
    }
   ],
   "source": [
    "do_fit(learn, 'task1_resnet50_unfrozen', epochs=5, lr=1e-5, pct_start=0.75)"
   ]
  },
  {
   "cell_type": "code",
   "execution_count": 8,
   "id": "e0beb310",
   "metadata": {},
   "outputs": [
    {
     "data": {
      "text/html": [
       "\n",
       "<style>\n",
       "    /* Turns off some styling */\n",
       "    progress {\n",
       "        /* gets rid of default border in Firefox and Opera. */\n",
       "        border: none;\n",
       "        /* Needs to be in here for Safari polyfill so background images work as expected. */\n",
       "        background-size: auto;\n",
       "    }\n",
       "    .progress-bar-interrupted, .progress-bar-interrupted::-webkit-progress-bar {\n",
       "        background: #F44336;\n",
       "    }\n",
       "</style>\n"
      ],
      "text/plain": [
       "<IPython.core.display.HTML object>"
      ]
     },
     "metadata": {},
     "output_type": "display_data"
    },
    {
     "data": {
      "text/html": [],
      "text/plain": [
       "<IPython.core.display.HTML object>"
      ]
     },
     "metadata": {},
     "output_type": "display_data"
    }
   ],
   "source": [
    "save_preds(learn, config)"
   ]
  },
  {
   "cell_type": "markdown",
   "id": "6ace4800",
   "metadata": {},
   "source": [
    "# Student train "
   ]
  },
  {
   "cell_type": "code",
   "execution_count": 2,
   "id": "6fea03e2",
   "metadata": {},
   "outputs": [],
   "source": [
    "config  = load_configuration('configs/config_task1.yml')\n",
    "learn = get_learner_task1(config, iteration=1)"
   ]
  },
  {
   "cell_type": "code",
   "execution_count": 3,
   "id": "348f019a",
   "metadata": {},
   "outputs": [],
   "source": [
    "# learn.lr_find()"
   ]
  },
  {
   "cell_type": "code",
   "execution_count": 4,
   "id": "432c8940",
   "metadata": {},
   "outputs": [
    {
     "data": {
      "text/html": [
       "\n",
       "<style>\n",
       "    /* Turns off some styling */\n",
       "    progress {\n",
       "        /* gets rid of default border in Firefox and Opera. */\n",
       "        border: none;\n",
       "        /* Needs to be in here for Safari polyfill so background images work as expected. */\n",
       "        background-size: auto;\n",
       "    }\n",
       "    .progress-bar-interrupted, .progress-bar-interrupted::-webkit-progress-bar {\n",
       "        background: #F44336;\n",
       "    }\n",
       "</style>\n"
      ],
      "text/plain": [
       "<IPython.core.display.HTML object>"
      ]
     },
     "metadata": {},
     "output_type": "display_data"
    },
    {
     "data": {
      "text/html": [
       "<table border=\"1\" class=\"dataframe\">\n",
       "  <thead>\n",
       "    <tr style=\"text-align: left;\">\n",
       "      <th>epoch</th>\n",
       "      <th>train_loss</th>\n",
       "      <th>valid_loss</th>\n",
       "      <th>accuracy</th>\n",
       "      <th>top_k_accuracy</th>\n",
       "      <th>time</th>\n",
       "    </tr>\n",
       "  </thead>\n",
       "  <tbody>\n",
       "    <tr>\n",
       "      <td>0</td>\n",
       "      <td>1.294959</td>\n",
       "      <td>0.929024</td>\n",
       "      <td>0.751221</td>\n",
       "      <td>0.928253</td>\n",
       "      <td>02:23</td>\n",
       "    </tr>\n",
       "    <tr>\n",
       "      <td>1</td>\n",
       "      <td>1.127356</td>\n",
       "      <td>0.923479</td>\n",
       "      <td>0.754405</td>\n",
       "      <td>0.930163</td>\n",
       "      <td>02:15</td>\n",
       "    </tr>\n",
       "    <tr>\n",
       "      <td>2</td>\n",
       "      <td>1.042590</td>\n",
       "      <td>0.892598</td>\n",
       "      <td>0.765655</td>\n",
       "      <td>0.931649</td>\n",
       "      <td>02:12</td>\n",
       "    </tr>\n",
       "    <tr>\n",
       "      <td>3</td>\n",
       "      <td>0.977480</td>\n",
       "      <td>0.874579</td>\n",
       "      <td>0.768627</td>\n",
       "      <td>0.933347</td>\n",
       "      <td>02:12</td>\n",
       "    </tr>\n",
       "    <tr>\n",
       "      <td>4</td>\n",
       "      <td>0.876059</td>\n",
       "      <td>0.829368</td>\n",
       "      <td>0.776481</td>\n",
       "      <td>0.938654</td>\n",
       "      <td>02:12</td>\n",
       "    </tr>\n",
       "  </tbody>\n",
       "</table>"
      ],
      "text/plain": [
       "<IPython.core.display.HTML object>"
      ]
     },
     "metadata": {},
     "output_type": "display_data"
    },
    {
     "name": "stdout",
     "output_type": "stream",
     "text": [
      "Better model found at epoch 0 with valid_loss value: 0.929024338722229.\n",
      "Better model found at epoch 1 with valid_loss value: 0.9234792590141296.\n",
      "Better model found at epoch 2 with valid_loss value: 0.8925977349281311.\n",
      "Better model found at epoch 3 with valid_loss value: 0.8745790123939514.\n",
      "Better model found at epoch 4 with valid_loss value: 0.8293681740760803.\n"
     ]
    }
   ],
   "source": [
    "do_fit(learn, 'task1_resnet50_student', epochs=5, lr=1e-3, pct_start=0.75)"
   ]
  },
  {
   "cell_type": "code",
   "execution_count": 5,
   "id": "95545ccb",
   "metadata": {},
   "outputs": [],
   "source": [
    "learn.unfreeze()"
   ]
  },
  {
   "cell_type": "code",
   "execution_count": 6,
   "id": "d006bc0b",
   "metadata": {},
   "outputs": [],
   "source": [
    "# learn.lr_find()"
   ]
  },
  {
   "cell_type": "code",
   "execution_count": 7,
   "id": "f668c69b",
   "metadata": {},
   "outputs": [
    {
     "data": {
      "text/html": [
       "\n",
       "<style>\n",
       "    /* Turns off some styling */\n",
       "    progress {\n",
       "        /* gets rid of default border in Firefox and Opera. */\n",
       "        border: none;\n",
       "        /* Needs to be in here for Safari polyfill so background images work as expected. */\n",
       "        background-size: auto;\n",
       "    }\n",
       "    .progress-bar-interrupted, .progress-bar-interrupted::-webkit-progress-bar {\n",
       "        background: #F44336;\n",
       "    }\n",
       "</style>\n"
      ],
      "text/plain": [
       "<IPython.core.display.HTML object>"
      ]
     },
     "metadata": {},
     "output_type": "display_data"
    },
    {
     "data": {
      "text/html": [
       "<table border=\"1\" class=\"dataframe\">\n",
       "  <thead>\n",
       "    <tr style=\"text-align: left;\">\n",
       "      <th>epoch</th>\n",
       "      <th>train_loss</th>\n",
       "      <th>valid_loss</th>\n",
       "      <th>accuracy</th>\n",
       "      <th>top_k_accuracy</th>\n",
       "      <th>time</th>\n",
       "    </tr>\n",
       "  </thead>\n",
       "  <tbody>\n",
       "    <tr>\n",
       "      <td>0</td>\n",
       "      <td>0.809556</td>\n",
       "      <td>0.805189</td>\n",
       "      <td>0.782000</td>\n",
       "      <td>0.939928</td>\n",
       "      <td>02:29</td>\n",
       "    </tr>\n",
       "    <tr>\n",
       "      <td>1</td>\n",
       "      <td>0.753594</td>\n",
       "      <td>0.804368</td>\n",
       "      <td>0.785820</td>\n",
       "      <td>0.940140</td>\n",
       "      <td>02:29</td>\n",
       "    </tr>\n",
       "    <tr>\n",
       "      <td>2</td>\n",
       "      <td>0.726296</td>\n",
       "      <td>0.800931</td>\n",
       "      <td>0.786669</td>\n",
       "      <td>0.940352</td>\n",
       "      <td>02:29</td>\n",
       "    </tr>\n",
       "    <tr>\n",
       "      <td>3</td>\n",
       "      <td>0.701568</td>\n",
       "      <td>0.790342</td>\n",
       "      <td>0.791552</td>\n",
       "      <td>0.942051</td>\n",
       "      <td>02:29</td>\n",
       "    </tr>\n",
       "    <tr>\n",
       "      <td>4</td>\n",
       "      <td>0.645588</td>\n",
       "      <td>0.786990</td>\n",
       "      <td>0.789854</td>\n",
       "      <td>0.942051</td>\n",
       "      <td>02:29</td>\n",
       "    </tr>\n",
       "  </tbody>\n",
       "</table>"
      ],
      "text/plain": [
       "<IPython.core.display.HTML object>"
      ]
     },
     "metadata": {},
     "output_type": "display_data"
    },
    {
     "name": "stdout",
     "output_type": "stream",
     "text": [
      "Better model found at epoch 0 with valid_loss value: 0.8051885962486267.\n",
      "Better model found at epoch 1 with valid_loss value: 0.8043678998947144.\n",
      "Better model found at epoch 2 with valid_loss value: 0.8009312152862549.\n",
      "Better model found at epoch 3 with valid_loss value: 0.7903422117233276.\n",
      "Better model found at epoch 4 with valid_loss value: 0.7869901657104492.\n"
     ]
    }
   ],
   "source": [
    "do_fit(learn, 'task1_resnet50_student_unfrozen', epochs=5, lr=1e-5, pct_start=0.75)"
   ]
  },
  {
   "cell_type": "code",
   "execution_count": 8,
   "id": "402b3b6b",
   "metadata": {},
   "outputs": [
    {
     "data": {
      "text/html": [
       "\n",
       "<style>\n",
       "    /* Turns off some styling */\n",
       "    progress {\n",
       "        /* gets rid of default border in Firefox and Opera. */\n",
       "        border: none;\n",
       "        /* Needs to be in here for Safari polyfill so background images work as expected. */\n",
       "        background-size: auto;\n",
       "    }\n",
       "    .progress-bar-interrupted, .progress-bar-interrupted::-webkit-progress-bar {\n",
       "        background: #F44336;\n",
       "    }\n",
       "</style>\n"
      ],
      "text/plain": [
       "<IPython.core.display.HTML object>"
      ]
     },
     "metadata": {},
     "output_type": "display_data"
    },
    {
     "data": {
      "text/html": [],
      "text/plain": [
       "<IPython.core.display.HTML object>"
      ]
     },
     "metadata": {},
     "output_type": "display_data"
    }
   ],
   "source": [
    "save_preds(learn, config, iteration=1)"
   ]
  },
  {
   "cell_type": "markdown",
   "id": "06bf876b",
   "metadata": {},
   "source": [
    "# Student 2 train "
   ]
  },
  {
   "cell_type": "code",
   "execution_count": 2,
   "id": "9694a815",
   "metadata": {},
   "outputs": [],
   "source": [
    "config  = load_configuration('configs/config_task1.yml')\n",
    "learn = get_learner_task1(config, iteration=2)"
   ]
  },
  {
   "cell_type": "code",
   "execution_count": 3,
   "id": "11688c9e",
   "metadata": {},
   "outputs": [],
   "source": [
    "# do_fit(learn, 'task1_resnet50_student2', epochs=5, lr=1e-3, pct_start=0.75)"
   ]
  },
  {
   "cell_type": "code",
   "execution_count": 4,
   "id": "5eb7c6a9",
   "metadata": {},
   "outputs": [
    {
     "data": {
      "text/html": [
       "\n",
       "<style>\n",
       "    /* Turns off some styling */\n",
       "    progress {\n",
       "        /* gets rid of default border in Firefox and Opera. */\n",
       "        border: none;\n",
       "        /* Needs to be in here for Safari polyfill so background images work as expected. */\n",
       "        background-size: auto;\n",
       "    }\n",
       "    .progress-bar-interrupted, .progress-bar-interrupted::-webkit-progress-bar {\n",
       "        background: #F44336;\n",
       "    }\n",
       "</style>\n"
      ],
      "text/plain": [
       "<IPython.core.display.HTML object>"
      ]
     },
     "metadata": {},
     "output_type": "display_data"
    },
    {
     "data": {
      "text/html": [
       "<table border=\"1\" class=\"dataframe\">\n",
       "  <thead>\n",
       "    <tr style=\"text-align: left;\">\n",
       "      <th>epoch</th>\n",
       "      <th>train_loss</th>\n",
       "      <th>valid_loss</th>\n",
       "      <th>accuracy</th>\n",
       "      <th>top_k_accuracy</th>\n",
       "      <th>time</th>\n",
       "    </tr>\n",
       "  </thead>\n",
       "  <tbody>\n",
       "    <tr>\n",
       "      <td>0</td>\n",
       "      <td>2.798851</td>\n",
       "      <td>1.593365</td>\n",
       "      <td>0.610911</td>\n",
       "      <td>0.837402</td>\n",
       "      <td>02:13</td>\n",
       "    </tr>\n",
       "    <tr>\n",
       "      <td>1</td>\n",
       "      <td>1.671972</td>\n",
       "      <td>1.052073</td>\n",
       "      <td>0.725960</td>\n",
       "      <td>0.913182</td>\n",
       "      <td>02:12</td>\n",
       "    </tr>\n",
       "    <tr>\n",
       "      <td>2</td>\n",
       "      <td>1.307246</td>\n",
       "      <td>0.903575</td>\n",
       "      <td>0.757376</td>\n",
       "      <td>0.930800</td>\n",
       "      <td>02:14</td>\n",
       "    </tr>\n",
       "    <tr>\n",
       "      <td>3</td>\n",
       "      <td>1.158248</td>\n",
       "      <td>0.875922</td>\n",
       "      <td>0.764381</td>\n",
       "      <td>0.938017</td>\n",
       "      <td>02:11</td>\n",
       "    </tr>\n",
       "    <tr>\n",
       "      <td>4</td>\n",
       "      <td>1.091862</td>\n",
       "      <td>0.872841</td>\n",
       "      <td>0.768627</td>\n",
       "      <td>0.934409</td>\n",
       "      <td>02:11</td>\n",
       "    </tr>\n",
       "    <tr>\n",
       "      <td>5</td>\n",
       "      <td>1.037491</td>\n",
       "      <td>0.877203</td>\n",
       "      <td>0.766928</td>\n",
       "      <td>0.941414</td>\n",
       "      <td>02:11</td>\n",
       "    </tr>\n",
       "    <tr>\n",
       "      <td>6</td>\n",
       "      <td>1.007051</td>\n",
       "      <td>0.874663</td>\n",
       "      <td>0.769900</td>\n",
       "      <td>0.935046</td>\n",
       "      <td>02:11</td>\n",
       "    </tr>\n",
       "    <tr>\n",
       "      <td>7</td>\n",
       "      <td>0.975690</td>\n",
       "      <td>0.879735</td>\n",
       "      <td>0.765018</td>\n",
       "      <td>0.939503</td>\n",
       "      <td>02:11</td>\n",
       "    </tr>\n",
       "    <tr>\n",
       "      <td>8</td>\n",
       "      <td>0.942327</td>\n",
       "      <td>0.872397</td>\n",
       "      <td>0.767565</td>\n",
       "      <td>0.936107</td>\n",
       "      <td>02:11</td>\n",
       "    </tr>\n",
       "    <tr>\n",
       "      <td>9</td>\n",
       "      <td>0.817474</td>\n",
       "      <td>0.824197</td>\n",
       "      <td>0.779028</td>\n",
       "      <td>0.942051</td>\n",
       "      <td>02:11</td>\n",
       "    </tr>\n",
       "  </tbody>\n",
       "</table>"
      ],
      "text/plain": [
       "<IPython.core.display.HTML object>"
      ]
     },
     "metadata": {},
     "output_type": "display_data"
    },
    {
     "name": "stdout",
     "output_type": "stream",
     "text": [
      "Better model found at epoch 0 with valid_loss value: 1.5933653116226196.\n",
      "Better model found at epoch 1 with valid_loss value: 1.0520727634429932.\n",
      "Better model found at epoch 2 with valid_loss value: 0.9035751819610596.\n",
      "Better model found at epoch 3 with valid_loss value: 0.8759223818778992.\n",
      "Better model found at epoch 4 with valid_loss value: 0.8728411197662354.\n",
      "Better model found at epoch 8 with valid_loss value: 0.8723973035812378.\n",
      "Better model found at epoch 9 with valid_loss value: 0.8241972327232361.\n"
     ]
    }
   ],
   "source": [
    "do_fit(learn, 'task1_resnet50_student2', epochs=10, lr=1e-3, fit_type='one_cycle')"
   ]
  },
  {
   "cell_type": "code",
   "execution_count": 12,
   "id": "966cf550",
   "metadata": {},
   "outputs": [],
   "source": [
    "# learn.lr_find()"
   ]
  },
  {
   "cell_type": "code",
   "execution_count": 7,
   "id": "de6a7ea5",
   "metadata": {},
   "outputs": [
    {
     "data": {
      "text/html": [
       "\n",
       "<style>\n",
       "    /* Turns off some styling */\n",
       "    progress {\n",
       "        /* gets rid of default border in Firefox and Opera. */\n",
       "        border: none;\n",
       "        /* Needs to be in here for Safari polyfill so background images work as expected. */\n",
       "        background-size: auto;\n",
       "    }\n",
       "    .progress-bar-interrupted, .progress-bar-interrupted::-webkit-progress-bar {\n",
       "        background: #F44336;\n",
       "    }\n",
       "</style>\n"
      ],
      "text/plain": [
       "<IPython.core.display.HTML object>"
      ]
     },
     "metadata": {},
     "output_type": "display_data"
    },
    {
     "data": {
      "text/html": [
       "<table border=\"1\" class=\"dataframe\">\n",
       "  <thead>\n",
       "    <tr style=\"text-align: left;\">\n",
       "      <th>epoch</th>\n",
       "      <th>train_loss</th>\n",
       "      <th>valid_loss</th>\n",
       "      <th>accuracy</th>\n",
       "      <th>top_k_accuracy</th>\n",
       "      <th>time</th>\n",
       "    </tr>\n",
       "  </thead>\n",
       "  <tbody>\n",
       "    <tr>\n",
       "      <td>0</td>\n",
       "      <td>0.739052</td>\n",
       "      <td>0.807223</td>\n",
       "      <td>0.783485</td>\n",
       "      <td>0.944173</td>\n",
       "      <td>02:11</td>\n",
       "    </tr>\n",
       "    <tr>\n",
       "      <td>1</td>\n",
       "      <td>0.739169</td>\n",
       "      <td>0.805736</td>\n",
       "      <td>0.785608</td>\n",
       "      <td>0.944385</td>\n",
       "      <td>02:12</td>\n",
       "    </tr>\n",
       "    <tr>\n",
       "      <td>2</td>\n",
       "      <td>0.732534</td>\n",
       "      <td>0.803378</td>\n",
       "      <td>0.783910</td>\n",
       "      <td>0.945659</td>\n",
       "      <td>02:12</td>\n",
       "    </tr>\n",
       "  </tbody>\n",
       "</table>"
      ],
      "text/plain": [
       "<IPython.core.display.HTML object>"
      ]
     },
     "metadata": {},
     "output_type": "display_data"
    },
    {
     "name": "stdout",
     "output_type": "stream",
     "text": [
      "Better model found at epoch 0 with valid_loss value: 0.8072229623794556.\n",
      "Better model found at epoch 1 with valid_loss value: 0.8057358264923096.\n",
      "Better model found at epoch 2 with valid_loss value: 0.8033784627914429.\n"
     ]
    }
   ],
   "source": [
    "do_fit(learn, 'task1_resnet50_student2_frozen', epochs=3, lr=1e-4, pct_start=0.75)"
   ]
  },
  {
   "cell_type": "code",
   "execution_count": 8,
   "id": "092de152",
   "metadata": {},
   "outputs": [],
   "source": [
    "learn.unfreeze()"
   ]
  },
  {
   "cell_type": "code",
   "execution_count": 11,
   "id": "49d01b8d",
   "metadata": {},
   "outputs": [],
   "source": [
    "# learn.lr_find()"
   ]
  },
  {
   "cell_type": "code",
   "execution_count": 10,
   "id": "3216580e",
   "metadata": {},
   "outputs": [
    {
     "data": {
      "text/html": [
       "\n",
       "<style>\n",
       "    /* Turns off some styling */\n",
       "    progress {\n",
       "        /* gets rid of default border in Firefox and Opera. */\n",
       "        border: none;\n",
       "        /* Needs to be in here for Safari polyfill so background images work as expected. */\n",
       "        background-size: auto;\n",
       "    }\n",
       "    .progress-bar-interrupted, .progress-bar-interrupted::-webkit-progress-bar {\n",
       "        background: #F44336;\n",
       "    }\n",
       "</style>\n"
      ],
      "text/plain": [
       "<IPython.core.display.HTML object>"
      ]
     },
     "metadata": {},
     "output_type": "display_data"
    },
    {
     "data": {
      "text/html": [
       "<table border=\"1\" class=\"dataframe\">\n",
       "  <thead>\n",
       "    <tr style=\"text-align: left;\">\n",
       "      <th>epoch</th>\n",
       "      <th>train_loss</th>\n",
       "      <th>valid_loss</th>\n",
       "      <th>accuracy</th>\n",
       "      <th>top_k_accuracy</th>\n",
       "      <th>time</th>\n",
       "    </tr>\n",
       "  </thead>\n",
       "  <tbody>\n",
       "    <tr>\n",
       "      <td>0</td>\n",
       "      <td>0.728700</td>\n",
       "      <td>0.792161</td>\n",
       "      <td>0.791127</td>\n",
       "      <td>0.944810</td>\n",
       "      <td>02:30</td>\n",
       "    </tr>\n",
       "    <tr>\n",
       "      <td>1</td>\n",
       "      <td>0.673651</td>\n",
       "      <td>0.784458</td>\n",
       "      <td>0.790915</td>\n",
       "      <td>0.944810</td>\n",
       "      <td>02:30</td>\n",
       "    </tr>\n",
       "    <tr>\n",
       "      <td>2</td>\n",
       "      <td>0.657287</td>\n",
       "      <td>0.786840</td>\n",
       "      <td>0.792613</td>\n",
       "      <td>0.945235</td>\n",
       "      <td>02:30</td>\n",
       "    </tr>\n",
       "    <tr>\n",
       "      <td>3</td>\n",
       "      <td>0.604163</td>\n",
       "      <td>0.782287</td>\n",
       "      <td>0.792613</td>\n",
       "      <td>0.944385</td>\n",
       "      <td>02:30</td>\n",
       "    </tr>\n",
       "    <tr>\n",
       "      <td>4</td>\n",
       "      <td>0.568967</td>\n",
       "      <td>0.780141</td>\n",
       "      <td>0.792825</td>\n",
       "      <td>0.943749</td>\n",
       "      <td>02:30</td>\n",
       "    </tr>\n",
       "  </tbody>\n",
       "</table>"
      ],
      "text/plain": [
       "<IPython.core.display.HTML object>"
      ]
     },
     "metadata": {},
     "output_type": "display_data"
    },
    {
     "name": "stdout",
     "output_type": "stream",
     "text": [
      "Better model found at epoch 0 with valid_loss value: 0.7921612858772278.\n",
      "Better model found at epoch 1 with valid_loss value: 0.784457802772522.\n",
      "Better model found at epoch 3 with valid_loss value: 0.7822865843772888.\n",
      "Better model found at epoch 4 with valid_loss value: 0.7801406383514404.\n"
     ]
    }
   ],
   "source": [
    "do_fit(learn, 'task1_resnet50_student2_unfrozen', epochs=5, lr=1e-5, pct_start=0.75)"
   ]
  },
  {
   "cell_type": "code",
   "execution_count": null,
   "id": "5b66877d",
   "metadata": {},
   "outputs": [],
   "source": []
  }
 ],
 "metadata": {
  "kernelspec": {
   "display_name": "Python 3 (ipykernel)",
   "language": "python",
   "name": "python3"
  },
  "language_info": {
   "codemirror_mode": {
    "name": "ipython",
    "version": 3
   },
   "file_extension": ".py",
   "mimetype": "text/x-python",
   "name": "python",
   "nbconvert_exporter": "python",
   "pygments_lexer": "ipython3",
   "version": "3.10.5"
  }
 },
 "nbformat": 4,
 "nbformat_minor": 5
}
