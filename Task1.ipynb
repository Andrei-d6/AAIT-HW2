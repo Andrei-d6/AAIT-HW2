{
 "cells": [
  {
   "cell_type": "code",
   "execution_count": 1,
   "id": "a47ff2b0",
   "metadata": {},
   "outputs": [],
   "source": [
    "from fastai.vision.all import *\n",
    "\n",
    "from src.learner import get_learner_task1\n",
    "from src.utils import (\n",
    "    load_configuration,\n",
    "    create_submission,\n",
    "    save_preds,\n",
    "    do_fit\n",
    ")"
   ]
  },
  {
   "cell_type": "code",
   "execution_count": 2,
   "id": "c696fef5",
   "metadata": {},
   "outputs": [],
   "source": [
    "import warnings\n",
    "warnings.filterwarnings('ignore')"
   ]
  },
  {
   "cell_type": "markdown",
   "id": "b9f8a711",
   "metadata": {},
   "source": [
    "# Generate the training labels"
   ]
  },
  {
   "cell_type": "code",
   "execution_count": 1,
   "id": "380c5b26",
   "metadata": {},
   "outputs": [],
   "source": [
    "# !python src/generate_labels.py --in_file=data/task1/train_data/annotations.csv --out_file=data/task1/train_data/annotations_labeled.csv"
   ]
  },
  {
   "cell_type": "markdown",
   "id": "292a4e0d",
   "metadata": {},
   "source": [
    "# Initial train (with progressive resizing)"
   ]
  },
  {
   "cell_type": "markdown",
   "id": "ce9454f6",
   "metadata": {},
   "source": [
    "## 128x128 px"
   ]
  },
  {
   "cell_type": "code",
   "execution_count": 3,
   "id": "93a6ba09",
   "metadata": {},
   "outputs": [],
   "source": [
    "config  = load_configuration('configs/config_task1_128.yml')\n",
    "learn = get_learner_task1(config)"
   ]
  },
  {
   "cell_type": "code",
   "execution_count": 4,
   "id": "2968385d",
   "metadata": {},
   "outputs": [
    {
     "data": {
      "text/html": [
       "\n",
       "<style>\n",
       "    /* Turns off some styling */\n",
       "    progress {\n",
       "        /* gets rid of default border in Firefox and Opera. */\n",
       "        border: none;\n",
       "        /* Needs to be in here for Safari polyfill so background images work as expected. */\n",
       "        background-size: auto;\n",
       "    }\n",
       "    .progress-bar-interrupted, .progress-bar-interrupted::-webkit-progress-bar {\n",
       "        background: #F44336;\n",
       "    }\n",
       "</style>\n"
      ],
      "text/plain": [
       "<IPython.core.display.HTML object>"
      ]
     },
     "metadata": {},
     "output_type": "display_data"
    },
    {
     "data": {
      "text/html": [
       "<table border=\"1\" class=\"dataframe\">\n",
       "  <thead>\n",
       "    <tr style=\"text-align: left;\">\n",
       "      <th>epoch</th>\n",
       "      <th>train_loss</th>\n",
       "      <th>valid_loss</th>\n",
       "      <th>accuracy</th>\n",
       "      <th>top_k_accuracy</th>\n",
       "      <th>time</th>\n",
       "    </tr>\n",
       "  </thead>\n",
       "  <tbody>\n",
       "    <tr>\n",
       "      <td>0</td>\n",
       "      <td>2.272835</td>\n",
       "      <td>1.170378</td>\n",
       "      <td>0.706219</td>\n",
       "      <td>0.889832</td>\n",
       "      <td>01:23</td>\n",
       "    </tr>\n",
       "    <tr>\n",
       "      <td>1</td>\n",
       "      <td>1.648135</td>\n",
       "      <td>1.000041</td>\n",
       "      <td>0.745065</td>\n",
       "      <td>0.912545</td>\n",
       "      <td>01:04</td>\n",
       "    </tr>\n",
       "    <tr>\n",
       "      <td>2</td>\n",
       "      <td>1.391960</td>\n",
       "      <td>0.912271</td>\n",
       "      <td>0.760773</td>\n",
       "      <td>0.922734</td>\n",
       "      <td>01:04</td>\n",
       "    </tr>\n",
       "    <tr>\n",
       "      <td>3</td>\n",
       "      <td>1.206966</td>\n",
       "      <td>0.852579</td>\n",
       "      <td>0.775844</td>\n",
       "      <td>0.929102</td>\n",
       "      <td>01:04</td>\n",
       "    </tr>\n",
       "    <tr>\n",
       "      <td>4</td>\n",
       "      <td>1.105594</td>\n",
       "      <td>0.789269</td>\n",
       "      <td>0.788368</td>\n",
       "      <td>0.939079</td>\n",
       "      <td>01:04</td>\n",
       "    </tr>\n",
       "    <tr>\n",
       "      <td>5</td>\n",
       "      <td>1.022746</td>\n",
       "      <td>0.768753</td>\n",
       "      <td>0.796222</td>\n",
       "      <td>0.940352</td>\n",
       "      <td>01:04</td>\n",
       "    </tr>\n",
       "    <tr>\n",
       "      <td>6</td>\n",
       "      <td>0.931077</td>\n",
       "      <td>0.741681</td>\n",
       "      <td>0.800679</td>\n",
       "      <td>0.943112</td>\n",
       "      <td>01:04</td>\n",
       "    </tr>\n",
       "    <tr>\n",
       "      <td>7</td>\n",
       "      <td>0.861435</td>\n",
       "      <td>0.721851</td>\n",
       "      <td>0.808321</td>\n",
       "      <td>0.941626</td>\n",
       "      <td>01:04</td>\n",
       "    </tr>\n",
       "    <tr>\n",
       "      <td>8</td>\n",
       "      <td>0.795850</td>\n",
       "      <td>0.706365</td>\n",
       "      <td>0.810868</td>\n",
       "      <td>0.947145</td>\n",
       "      <td>01:06</td>\n",
       "    </tr>\n",
       "    <tr>\n",
       "      <td>9</td>\n",
       "      <td>0.718354</td>\n",
       "      <td>0.699375</td>\n",
       "      <td>0.811505</td>\n",
       "      <td>0.946933</td>\n",
       "      <td>01:07</td>\n",
       "    </tr>\n",
       "  </tbody>\n",
       "</table>"
      ],
      "text/plain": [
       "<IPython.core.display.HTML object>"
      ]
     },
     "metadata": {},
     "output_type": "display_data"
    },
    {
     "name": "stdout",
     "output_type": "stream",
     "text": [
      "Better model found at epoch 0 with valid_loss value: 1.17037832736969.\n",
      "Better model found at epoch 1 with valid_loss value: 1.0000412464141846.\n",
      "Better model found at epoch 2 with valid_loss value: 0.9122706651687622.\n",
      "Better model found at epoch 3 with valid_loss value: 0.8525794148445129.\n",
      "Better model found at epoch 4 with valid_loss value: 0.7892693281173706.\n",
      "Better model found at epoch 5 with valid_loss value: 0.7687525749206543.\n",
      "Better model found at epoch 6 with valid_loss value: 0.7416813969612122.\n",
      "Better model found at epoch 7 with valid_loss value: 0.721850574016571.\n",
      "Better model found at epoch 8 with valid_loss value: 0.7063648700714111.\n",
      "Better model found at epoch 9 with valid_loss value: 0.6993753910064697.\n"
     ]
    }
   ],
   "source": [
    "do_fit(learn, 'task1_resnet50_128', epochs=10, lr=1e-3, pct_start=0.75)"
   ]
  },
  {
   "cell_type": "code",
   "execution_count": 4,
   "id": "030e1a36",
   "metadata": {},
   "outputs": [
    {
     "data": {
      "text/plain": [
       "<fastai.learner.Learner at 0x19e6046ec20>"
      ]
     },
     "execution_count": 4,
     "metadata": {},
     "output_type": "execute_result"
    }
   ],
   "source": [
    "learn.load('task1_resnet50_128')"
   ]
  },
  {
   "cell_type": "code",
   "execution_count": 5,
   "id": "ef3f27ed",
   "metadata": {},
   "outputs": [],
   "source": [
    "learn.unfreeze()"
   ]
  },
  {
   "cell_type": "code",
   "execution_count": 6,
   "id": "ffe7df59",
   "metadata": {},
   "outputs": [
    {
     "data": {
      "text/html": [
       "\n",
       "<style>\n",
       "    /* Turns off some styling */\n",
       "    progress {\n",
       "        /* gets rid of default border in Firefox and Opera. */\n",
       "        border: none;\n",
       "        /* Needs to be in here for Safari polyfill so background images work as expected. */\n",
       "        background-size: auto;\n",
       "    }\n",
       "    .progress-bar-interrupted, .progress-bar-interrupted::-webkit-progress-bar {\n",
       "        background: #F44336;\n",
       "    }\n",
       "</style>\n"
      ],
      "text/plain": [
       "<IPython.core.display.HTML object>"
      ]
     },
     "metadata": {},
     "output_type": "display_data"
    },
    {
     "data": {
      "text/html": [
       "<table border=\"1\" class=\"dataframe\">\n",
       "  <thead>\n",
       "    <tr style=\"text-align: left;\">\n",
       "      <th>epoch</th>\n",
       "      <th>train_loss</th>\n",
       "      <th>valid_loss</th>\n",
       "      <th>accuracy</th>\n",
       "      <th>top_k_accuracy</th>\n",
       "      <th>time</th>\n",
       "    </tr>\n",
       "  </thead>\n",
       "  <tbody>\n",
       "    <tr>\n",
       "      <td>0</td>\n",
       "      <td>0.513803</td>\n",
       "      <td>0.701510</td>\n",
       "      <td>0.808958</td>\n",
       "      <td>0.948206</td>\n",
       "      <td>01:17</td>\n",
       "    </tr>\n",
       "    <tr>\n",
       "      <td>1</td>\n",
       "      <td>0.443155</td>\n",
       "      <td>0.698513</td>\n",
       "      <td>0.807260</td>\n",
       "      <td>0.949055</td>\n",
       "      <td>01:10</td>\n",
       "    </tr>\n",
       "    <tr>\n",
       "      <td>2</td>\n",
       "      <td>0.370988</td>\n",
       "      <td>0.696140</td>\n",
       "      <td>0.810444</td>\n",
       "      <td>0.948631</td>\n",
       "      <td>01:11</td>\n",
       "    </tr>\n",
       "  </tbody>\n",
       "</table>"
      ],
      "text/plain": [
       "<IPython.core.display.HTML object>"
      ]
     },
     "metadata": {},
     "output_type": "display_data"
    },
    {
     "name": "stdout",
     "output_type": "stream",
     "text": [
      "Better model found at epoch 0 with valid_loss value: 0.7015098333358765.\n",
      "Better model found at epoch 1 with valid_loss value: 0.6985134482383728.\n",
      "Better model found at epoch 2 with valid_loss value: 0.6961402893066406.\n"
     ]
    }
   ],
   "source": [
    "do_fit(learn, 'task1_resnet50_128_unfrozen', epochs=3, lr=slice(1e-7, 1e-5), \n",
    "       fit_type='one_cycle', save_state_dict=True)"
   ]
  },
  {
   "cell_type": "markdown",
   "id": "8e080c8d",
   "metadata": {},
   "source": [
    "## 224x224 px "
   ]
  },
  {
   "cell_type": "code",
   "execution_count": 3,
   "id": "75089b38",
   "metadata": {},
   "outputs": [],
   "source": [
    "config  = load_configuration('configs/config_task1_224.yml')\n",
    "learn = get_learner_task1(config)"
   ]
  },
  {
   "cell_type": "code",
   "execution_count": 4,
   "id": "67393369",
   "metadata": {},
   "outputs": [
    {
     "data": {
      "text/plain": [
       "<All keys matched successfully>"
      ]
     },
     "execution_count": 4,
     "metadata": {},
     "output_type": "execute_result"
    }
   ],
   "source": [
    "learn.model.load_state_dict(torch.load(f\"{learn.model_dir}/task1_resnet50_128_unfrozen_dict.pth\"))"
   ]
  },
  {
   "cell_type": "code",
   "execution_count": 5,
   "id": "322b5c7c",
   "metadata": {},
   "outputs": [
    {
     "data": {
      "text/html": [
       "\n",
       "<style>\n",
       "    /* Turns off some styling */\n",
       "    progress {\n",
       "        /* gets rid of default border in Firefox and Opera. */\n",
       "        border: none;\n",
       "        /* Needs to be in here for Safari polyfill so background images work as expected. */\n",
       "        background-size: auto;\n",
       "    }\n",
       "    .progress-bar-interrupted, .progress-bar-interrupted::-webkit-progress-bar {\n",
       "        background: #F44336;\n",
       "    }\n",
       "</style>\n"
      ],
      "text/plain": [
       "<IPython.core.display.HTML object>"
      ]
     },
     "metadata": {},
     "output_type": "display_data"
    },
    {
     "data": {
      "text/html": [
       "<table border=\"1\" class=\"dataframe\">\n",
       "  <thead>\n",
       "    <tr style=\"text-align: left;\">\n",
       "      <th>epoch</th>\n",
       "      <th>train_loss</th>\n",
       "      <th>valid_loss</th>\n",
       "      <th>accuracy</th>\n",
       "      <th>top_k_accuracy</th>\n",
       "      <th>time</th>\n",
       "    </tr>\n",
       "  </thead>\n",
       "  <tbody>\n",
       "    <tr>\n",
       "      <td>0</td>\n",
       "      <td>1.362059</td>\n",
       "      <td>0.846635</td>\n",
       "      <td>0.774358</td>\n",
       "      <td>0.932498</td>\n",
       "      <td>01:57</td>\n",
       "    </tr>\n",
       "    <tr>\n",
       "      <td>1</td>\n",
       "      <td>1.148097</td>\n",
       "      <td>0.805549</td>\n",
       "      <td>0.781787</td>\n",
       "      <td>0.939503</td>\n",
       "      <td>01:57</td>\n",
       "    </tr>\n",
       "    <tr>\n",
       "      <td>2</td>\n",
       "      <td>1.097658</td>\n",
       "      <td>0.784409</td>\n",
       "      <td>0.789004</td>\n",
       "      <td>0.942687</td>\n",
       "      <td>01:56</td>\n",
       "    </tr>\n",
       "    <tr>\n",
       "      <td>3</td>\n",
       "      <td>1.024635</td>\n",
       "      <td>0.767343</td>\n",
       "      <td>0.796434</td>\n",
       "      <td>0.942900</td>\n",
       "      <td>01:57</td>\n",
       "    </tr>\n",
       "    <tr>\n",
       "      <td>4</td>\n",
       "      <td>0.956022</td>\n",
       "      <td>0.759994</td>\n",
       "      <td>0.797283</td>\n",
       "      <td>0.947782</td>\n",
       "      <td>01:56</td>\n",
       "    </tr>\n",
       "    <tr>\n",
       "      <td>5</td>\n",
       "      <td>0.915529</td>\n",
       "      <td>0.737508</td>\n",
       "      <td>0.803439</td>\n",
       "      <td>0.949905</td>\n",
       "      <td>01:57</td>\n",
       "    </tr>\n",
       "    <tr>\n",
       "      <td>6</td>\n",
       "      <td>0.878978</td>\n",
       "      <td>0.749670</td>\n",
       "      <td>0.807260</td>\n",
       "      <td>0.950329</td>\n",
       "      <td>01:56</td>\n",
       "    </tr>\n",
       "    <tr>\n",
       "      <td>7</td>\n",
       "      <td>0.809629</td>\n",
       "      <td>0.735187</td>\n",
       "      <td>0.812142</td>\n",
       "      <td>0.949055</td>\n",
       "      <td>01:56</td>\n",
       "    </tr>\n",
       "    <tr>\n",
       "      <td>8</td>\n",
       "      <td>0.825408</td>\n",
       "      <td>0.746698</td>\n",
       "      <td>0.806623</td>\n",
       "      <td>0.947782</td>\n",
       "      <td>01:56</td>\n",
       "    </tr>\n",
       "    <tr>\n",
       "      <td>9</td>\n",
       "      <td>0.801356</td>\n",
       "      <td>0.739546</td>\n",
       "      <td>0.810868</td>\n",
       "      <td>0.949480</td>\n",
       "      <td>01:57</td>\n",
       "    </tr>\n",
       "    <tr>\n",
       "      <td>10</td>\n",
       "      <td>0.730296</td>\n",
       "      <td>0.730896</td>\n",
       "      <td>0.809807</td>\n",
       "      <td>0.950329</td>\n",
       "      <td>01:56</td>\n",
       "    </tr>\n",
       "    <tr>\n",
       "      <td>11</td>\n",
       "      <td>0.761112</td>\n",
       "      <td>0.734236</td>\n",
       "      <td>0.812142</td>\n",
       "      <td>0.953301</td>\n",
       "      <td>01:57</td>\n",
       "    </tr>\n",
       "    <tr>\n",
       "      <td>12</td>\n",
       "      <td>0.681039</td>\n",
       "      <td>0.725515</td>\n",
       "      <td>0.816175</td>\n",
       "      <td>0.951390</td>\n",
       "      <td>01:56</td>\n",
       "    </tr>\n",
       "    <tr>\n",
       "      <td>13</td>\n",
       "      <td>0.630632</td>\n",
       "      <td>0.715757</td>\n",
       "      <td>0.815538</td>\n",
       "      <td>0.954787</td>\n",
       "      <td>01:57</td>\n",
       "    </tr>\n",
       "    <tr>\n",
       "      <td>14</td>\n",
       "      <td>0.578223</td>\n",
       "      <td>0.718994</td>\n",
       "      <td>0.816812</td>\n",
       "      <td>0.955211</td>\n",
       "      <td>01:57</td>\n",
       "    </tr>\n",
       "  </tbody>\n",
       "</table>"
      ],
      "text/plain": [
       "<IPython.core.display.HTML object>"
      ]
     },
     "metadata": {},
     "output_type": "display_data"
    },
    {
     "name": "stdout",
     "output_type": "stream",
     "text": [
      "Better model found at epoch 0 with valid_loss value: 0.8466354012489319.\n",
      "Better model found at epoch 1 with valid_loss value: 0.8055487275123596.\n",
      "Better model found at epoch 2 with valid_loss value: 0.78440922498703.\n",
      "Better model found at epoch 3 with valid_loss value: 0.767342746257782.\n",
      "Better model found at epoch 4 with valid_loss value: 0.7599939703941345.\n",
      "Better model found at epoch 5 with valid_loss value: 0.7375084757804871.\n",
      "Better model found at epoch 7 with valid_loss value: 0.735187292098999.\n",
      "Better model found at epoch 10 with valid_loss value: 0.7308961153030396.\n",
      "Better model found at epoch 12 with valid_loss value: 0.7255150675773621.\n",
      "Better model found at epoch 13 with valid_loss value: 0.7157565951347351.\n"
     ]
    }
   ],
   "source": [
    "do_fit(learn, 'task1_resnet50_224', epochs=15, lr=1e-3, pct_start=0.75)"
   ]
  },
  {
   "cell_type": "code",
   "execution_count": 6,
   "id": "9132ba20",
   "metadata": {},
   "outputs": [],
   "source": [
    "learn.unfreeze()"
   ]
  },
  {
   "cell_type": "code",
   "execution_count": 8,
   "id": "c1fb536f",
   "metadata": {},
   "outputs": [
    {
     "data": {
      "text/html": [
       "\n",
       "<style>\n",
       "    /* Turns off some styling */\n",
       "    progress {\n",
       "        /* gets rid of default border in Firefox and Opera. */\n",
       "        border: none;\n",
       "        /* Needs to be in here for Safari polyfill so background images work as expected. */\n",
       "        background-size: auto;\n",
       "    }\n",
       "    .progress-bar-interrupted, .progress-bar-interrupted::-webkit-progress-bar {\n",
       "        background: #F44336;\n",
       "    }\n",
       "</style>\n"
      ],
      "text/plain": [
       "<IPython.core.display.HTML object>"
      ]
     },
     "metadata": {},
     "output_type": "display_data"
    },
    {
     "data": {
      "text/html": [
       "<table border=\"1\" class=\"dataframe\">\n",
       "  <thead>\n",
       "    <tr style=\"text-align: left;\">\n",
       "      <th>epoch</th>\n",
       "      <th>train_loss</th>\n",
       "      <th>valid_loss</th>\n",
       "      <th>accuracy</th>\n",
       "      <th>top_k_accuracy</th>\n",
       "      <th>time</th>\n",
       "    </tr>\n",
       "  </thead>\n",
       "  <tbody>\n",
       "    <tr>\n",
       "      <td>0</td>\n",
       "      <td>0.568544</td>\n",
       "      <td>0.714177</td>\n",
       "      <td>0.818934</td>\n",
       "      <td>0.954362</td>\n",
       "      <td>02:20</td>\n",
       "    </tr>\n",
       "    <tr>\n",
       "      <td>1</td>\n",
       "      <td>0.574685</td>\n",
       "      <td>0.719651</td>\n",
       "      <td>0.815538</td>\n",
       "      <td>0.954574</td>\n",
       "      <td>02:21</td>\n",
       "    </tr>\n",
       "    <tr>\n",
       "      <td>2</td>\n",
       "      <td>0.575041</td>\n",
       "      <td>0.717120</td>\n",
       "      <td>0.817236</td>\n",
       "      <td>0.952239</td>\n",
       "      <td>02:21</td>\n",
       "    </tr>\n",
       "  </tbody>\n",
       "</table>"
      ],
      "text/plain": [
       "<IPython.core.display.HTML object>"
      ]
     },
     "metadata": {},
     "output_type": "display_data"
    },
    {
     "name": "stdout",
     "output_type": "stream",
     "text": [
      "Better model found at epoch 0 with valid_loss value: 0.7141773104667664.\n"
     ]
    }
   ],
   "source": [
    "do_fit(learn, 'task1_resnet50_224_unfrozen', epochs=3, lr=slice(1e-7, 1e-6), fit_type='one_cycle')"
   ]
  },
  {
   "cell_type": "code",
   "execution_count": 9,
   "id": "a618735f",
   "metadata": {},
   "outputs": [
    {
     "data": {
      "text/plain": [
       "<fastai.learner.Learner at 0x1f3cd59a3e0>"
      ]
     },
     "execution_count": 9,
     "metadata": {},
     "output_type": "execute_result"
    }
   ],
   "source": [
    "learn.load('autosaved')"
   ]
  },
  {
   "cell_type": "code",
   "execution_count": 10,
   "id": "3f409b5d",
   "metadata": {},
   "outputs": [
    {
     "data": {
      "text/plain": [
       "Path('models/task1_resnet50_224_unfrozen.pth')"
      ]
     },
     "execution_count": 10,
     "metadata": {},
     "output_type": "execute_result"
    }
   ],
   "source": [
    "learn.save('task1_resnet50_224_unfrozen')"
   ]
  },
  {
   "cell_type": "code",
   "execution_count": 11,
   "id": "6fba9f88",
   "metadata": {},
   "outputs": [
    {
     "data": {
      "text/html": [
       "\n",
       "<style>\n",
       "    /* Turns off some styling */\n",
       "    progress {\n",
       "        /* gets rid of default border in Firefox and Opera. */\n",
       "        border: none;\n",
       "        /* Needs to be in here for Safari polyfill so background images work as expected. */\n",
       "        background-size: auto;\n",
       "    }\n",
       "    .progress-bar-interrupted, .progress-bar-interrupted::-webkit-progress-bar {\n",
       "        background: #F44336;\n",
       "    }\n",
       "</style>\n"
      ],
      "text/plain": [
       "<IPython.core.display.HTML object>"
      ]
     },
     "metadata": {},
     "output_type": "display_data"
    },
    {
     "data": {
      "text/html": [],
      "text/plain": [
       "<IPython.core.display.HTML object>"
      ]
     },
     "metadata": {},
     "output_type": "display_data"
    }
   ],
   "source": [
    "save_preds(learn, config)"
   ]
  },
  {
   "cell_type": "markdown",
   "id": "8d4f54ac",
   "metadata": {},
   "source": [
    "<br><br>"
   ]
  },
  {
   "cell_type": "markdown",
   "id": "bbe27072",
   "metadata": {},
   "source": [
    "# Train - Iteration 1"
   ]
  },
  {
   "cell_type": "markdown",
   "id": "c0137218",
   "metadata": {},
   "source": [
    "## 128x128 px "
   ]
  },
  {
   "cell_type": "code",
   "execution_count": 3,
   "id": "92fcbe1b",
   "metadata": {},
   "outputs": [],
   "source": [
    "config  = load_configuration('configs/config_task1_128.yml')\n",
    "learn = get_learner_task1(config, iteration=1)"
   ]
  },
  {
   "cell_type": "code",
   "execution_count": 4,
   "id": "190a07b5",
   "metadata": {},
   "outputs": [
    {
     "data": {
      "text/html": [
       "\n",
       "<style>\n",
       "    /* Turns off some styling */\n",
       "    progress {\n",
       "        /* gets rid of default border in Firefox and Opera. */\n",
       "        border: none;\n",
       "        /* Needs to be in here for Safari polyfill so background images work as expected. */\n",
       "        background-size: auto;\n",
       "    }\n",
       "    .progress-bar-interrupted, .progress-bar-interrupted::-webkit-progress-bar {\n",
       "        background: #F44336;\n",
       "    }\n",
       "</style>\n"
      ],
      "text/plain": [
       "<IPython.core.display.HTML object>"
      ]
     },
     "metadata": {},
     "output_type": "display_data"
    },
    {
     "data": {
      "text/html": [
       "<table border=\"1\" class=\"dataframe\">\n",
       "  <thead>\n",
       "    <tr style=\"text-align: left;\">\n",
       "      <th>epoch</th>\n",
       "      <th>train_loss</th>\n",
       "      <th>valid_loss</th>\n",
       "      <th>accuracy</th>\n",
       "      <th>top_k_accuracy</th>\n",
       "      <th>time</th>\n",
       "    </tr>\n",
       "  </thead>\n",
       "  <tbody>\n",
       "    <tr>\n",
       "      <td>0</td>\n",
       "      <td>1.578078</td>\n",
       "      <td>0.953324</td>\n",
       "      <td>0.755466</td>\n",
       "      <td>0.919975</td>\n",
       "      <td>02:19</td>\n",
       "    </tr>\n",
       "    <tr>\n",
       "      <td>1</td>\n",
       "      <td>1.271736</td>\n",
       "      <td>0.815781</td>\n",
       "      <td>0.786669</td>\n",
       "      <td>0.936744</td>\n",
       "      <td>02:18</td>\n",
       "    </tr>\n",
       "    <tr>\n",
       "      <td>2</td>\n",
       "      <td>1.079368</td>\n",
       "      <td>0.738175</td>\n",
       "      <td>0.802590</td>\n",
       "      <td>0.942263</td>\n",
       "      <td>02:17</td>\n",
       "    </tr>\n",
       "    <tr>\n",
       "      <td>3</td>\n",
       "      <td>0.985732</td>\n",
       "      <td>0.707008</td>\n",
       "      <td>0.811717</td>\n",
       "      <td>0.946084</td>\n",
       "      <td>02:18</td>\n",
       "    </tr>\n",
       "    <tr>\n",
       "      <td>4</td>\n",
       "      <td>0.913881</td>\n",
       "      <td>0.687457</td>\n",
       "      <td>0.813415</td>\n",
       "      <td>0.952027</td>\n",
       "      <td>02:18</td>\n",
       "    </tr>\n",
       "    <tr>\n",
       "      <td>5</td>\n",
       "      <td>0.864242</td>\n",
       "      <td>0.676836</td>\n",
       "      <td>0.818085</td>\n",
       "      <td>0.953938</td>\n",
       "      <td>02:19</td>\n",
       "    </tr>\n",
       "    <tr>\n",
       "      <td>6</td>\n",
       "      <td>0.829150</td>\n",
       "      <td>0.669216</td>\n",
       "      <td>0.824878</td>\n",
       "      <td>0.953725</td>\n",
       "      <td>02:16</td>\n",
       "    </tr>\n",
       "    <tr>\n",
       "      <td>7</td>\n",
       "      <td>0.837071</td>\n",
       "      <td>0.665924</td>\n",
       "      <td>0.820845</td>\n",
       "      <td>0.952027</td>\n",
       "      <td>02:15</td>\n",
       "    </tr>\n",
       "    <tr>\n",
       "      <td>8</td>\n",
       "      <td>0.754706</td>\n",
       "      <td>0.640801</td>\n",
       "      <td>0.829123</td>\n",
       "      <td>0.954999</td>\n",
       "      <td>02:15</td>\n",
       "    </tr>\n",
       "    <tr>\n",
       "      <td>9</td>\n",
       "      <td>0.662432</td>\n",
       "      <td>0.640515</td>\n",
       "      <td>0.829123</td>\n",
       "      <td>0.954787</td>\n",
       "      <td>02:18</td>\n",
       "    </tr>\n",
       "  </tbody>\n",
       "</table>"
      ],
      "text/plain": [
       "<IPython.core.display.HTML object>"
      ]
     },
     "metadata": {},
     "output_type": "display_data"
    },
    {
     "name": "stdout",
     "output_type": "stream",
     "text": [
      "Better model found at epoch 0 with valid_loss value: 0.9533244371414185.\n",
      "Better model found at epoch 1 with valid_loss value: 0.81578129529953.\n",
      "Better model found at epoch 2 with valid_loss value: 0.7381746172904968.\n",
      "Better model found at epoch 3 with valid_loss value: 0.7070080041885376.\n",
      "Better model found at epoch 4 with valid_loss value: 0.6874574422836304.\n",
      "Better model found at epoch 5 with valid_loss value: 0.6768355369567871.\n",
      "Better model found at epoch 6 with valid_loss value: 0.6692156791687012.\n",
      "Better model found at epoch 7 with valid_loss value: 0.665924072265625.\n",
      "Better model found at epoch 8 with valid_loss value: 0.6408005952835083.\n",
      "Better model found at epoch 9 with valid_loss value: 0.6405147910118103.\n"
     ]
    }
   ],
   "source": [
    "do_fit(learn, 'task1_resnet50_128_iter1', epochs=10, lr=1e-3, pct_start=0.75)"
   ]
  },
  {
   "cell_type": "code",
   "execution_count": 5,
   "id": "391f5364",
   "metadata": {},
   "outputs": [],
   "source": [
    "learn.unfreeze()"
   ]
  },
  {
   "cell_type": "code",
   "execution_count": 6,
   "id": "592677e0",
   "metadata": {},
   "outputs": [
    {
     "data": {
      "text/html": [
       "\n",
       "<style>\n",
       "    /* Turns off some styling */\n",
       "    progress {\n",
       "        /* gets rid of default border in Firefox and Opera. */\n",
       "        border: none;\n",
       "        /* Needs to be in here for Safari polyfill so background images work as expected. */\n",
       "        background-size: auto;\n",
       "    }\n",
       "    .progress-bar-interrupted, .progress-bar-interrupted::-webkit-progress-bar {\n",
       "        background: #F44336;\n",
       "    }\n",
       "</style>\n"
      ],
      "text/plain": [
       "<IPython.core.display.HTML object>"
      ]
     },
     "metadata": {},
     "output_type": "display_data"
    },
    {
     "data": {
      "text/html": [
       "<table border=\"1\" class=\"dataframe\">\n",
       "  <thead>\n",
       "    <tr style=\"text-align: left;\">\n",
       "      <th>epoch</th>\n",
       "      <th>train_loss</th>\n",
       "      <th>valid_loss</th>\n",
       "      <th>accuracy</th>\n",
       "      <th>top_k_accuracy</th>\n",
       "      <th>time</th>\n",
       "    </tr>\n",
       "  </thead>\n",
       "  <tbody>\n",
       "    <tr>\n",
       "      <td>0</td>\n",
       "      <td>0.669460</td>\n",
       "      <td>0.640406</td>\n",
       "      <td>0.828274</td>\n",
       "      <td>0.954362</td>\n",
       "      <td>02:35</td>\n",
       "    </tr>\n",
       "    <tr>\n",
       "      <td>1</td>\n",
       "      <td>0.652683</td>\n",
       "      <td>0.638443</td>\n",
       "      <td>0.826364</td>\n",
       "      <td>0.954362</td>\n",
       "      <td>02:34</td>\n",
       "    </tr>\n",
       "    <tr>\n",
       "      <td>2</td>\n",
       "      <td>0.671405</td>\n",
       "      <td>0.636175</td>\n",
       "      <td>0.831246</td>\n",
       "      <td>0.955211</td>\n",
       "      <td>02:35</td>\n",
       "    </tr>\n",
       "  </tbody>\n",
       "</table>"
      ],
      "text/plain": [
       "<IPython.core.display.HTML object>"
      ]
     },
     "metadata": {},
     "output_type": "display_data"
    },
    {
     "name": "stdout",
     "output_type": "stream",
     "text": [
      "Better model found at epoch 0 with valid_loss value: 0.6404064297676086.\n",
      "Better model found at epoch 1 with valid_loss value: 0.6384427547454834.\n",
      "Better model found at epoch 2 with valid_loss value: 0.6361753344535828.\n"
     ]
    }
   ],
   "source": [
    "do_fit(learn, 'task1_resnet50_128_iter1_unfrozen', epochs=3, lr=slice(1e-7, 1e-5), \n",
    "       fit_type='one_cycle', save_state_dict=True)"
   ]
  },
  {
   "cell_type": "markdown",
   "id": "f2bd9d41",
   "metadata": {},
   "source": [
    "## 224x224 px "
   ]
  },
  {
   "cell_type": "code",
   "execution_count": 3,
   "id": "e9436a0b",
   "metadata": {},
   "outputs": [],
   "source": [
    "config  = load_configuration('configs/config_task1_224.yml')\n",
    "learn = get_learner_task1(config, iteration=1)"
   ]
  },
  {
   "cell_type": "code",
   "execution_count": 4,
   "id": "fa771a94",
   "metadata": {},
   "outputs": [
    {
     "data": {
      "text/plain": [
       "<All keys matched successfully>"
      ]
     },
     "execution_count": 4,
     "metadata": {},
     "output_type": "execute_result"
    }
   ],
   "source": [
    "state_dict = torch.load(f\"{learn.model_dir}/task1_resnet50_128_iter1_unfrozen_dict.pth\")\n",
    "learn.model.load_state_dict(state_dict)"
   ]
  },
  {
   "cell_type": "code",
   "execution_count": 5,
   "id": "e2fb8967",
   "metadata": {},
   "outputs": [
    {
     "data": {
      "text/html": [
       "\n",
       "<style>\n",
       "    /* Turns off some styling */\n",
       "    progress {\n",
       "        /* gets rid of default border in Firefox and Opera. */\n",
       "        border: none;\n",
       "        /* Needs to be in here for Safari polyfill so background images work as expected. */\n",
       "        background-size: auto;\n",
       "    }\n",
       "    .progress-bar-interrupted, .progress-bar-interrupted::-webkit-progress-bar {\n",
       "        background: #F44336;\n",
       "    }\n",
       "</style>\n"
      ],
      "text/plain": [
       "<IPython.core.display.HTML object>"
      ]
     },
     "metadata": {},
     "output_type": "display_data"
    },
    {
     "data": {
      "text/html": [
       "<table border=\"1\" class=\"dataframe\">\n",
       "  <thead>\n",
       "    <tr style=\"text-align: left;\">\n",
       "      <th>epoch</th>\n",
       "      <th>train_loss</th>\n",
       "      <th>valid_loss</th>\n",
       "      <th>accuracy</th>\n",
       "      <th>top_k_accuracy</th>\n",
       "      <th>time</th>\n",
       "    </tr>\n",
       "  </thead>\n",
       "  <tbody>\n",
       "    <tr>\n",
       "      <td>0</td>\n",
       "      <td>1.042921</td>\n",
       "      <td>0.725655</td>\n",
       "      <td>0.808321</td>\n",
       "      <td>0.949268</td>\n",
       "      <td>04:19</td>\n",
       "    </tr>\n",
       "    <tr>\n",
       "      <td>1</td>\n",
       "      <td>0.984509</td>\n",
       "      <td>0.701945</td>\n",
       "      <td>0.813415</td>\n",
       "      <td>0.950329</td>\n",
       "      <td>04:18</td>\n",
       "    </tr>\n",
       "    <tr>\n",
       "      <td>2</td>\n",
       "      <td>0.910199</td>\n",
       "      <td>0.695838</td>\n",
       "      <td>0.820420</td>\n",
       "      <td>0.953938</td>\n",
       "      <td>04:16</td>\n",
       "    </tr>\n",
       "    <tr>\n",
       "      <td>3</td>\n",
       "      <td>0.867685</td>\n",
       "      <td>0.699833</td>\n",
       "      <td>0.816387</td>\n",
       "      <td>0.952876</td>\n",
       "      <td>04:16</td>\n",
       "    </tr>\n",
       "    <tr>\n",
       "      <td>4</td>\n",
       "      <td>0.815870</td>\n",
       "      <td>0.703601</td>\n",
       "      <td>0.814901</td>\n",
       "      <td>0.953725</td>\n",
       "      <td>04:17</td>\n",
       "    </tr>\n",
       "    <tr>\n",
       "      <td>5</td>\n",
       "      <td>0.825585</td>\n",
       "      <td>0.692918</td>\n",
       "      <td>0.826364</td>\n",
       "      <td>0.954574</td>\n",
       "      <td>04:16</td>\n",
       "    </tr>\n",
       "    <tr>\n",
       "      <td>6</td>\n",
       "      <td>0.806457</td>\n",
       "      <td>0.692859</td>\n",
       "      <td>0.821906</td>\n",
       "      <td>0.956060</td>\n",
       "      <td>04:17</td>\n",
       "    </tr>\n",
       "    <tr>\n",
       "      <td>7</td>\n",
       "      <td>0.767290</td>\n",
       "      <td>0.682859</td>\n",
       "      <td>0.823817</td>\n",
       "      <td>0.954999</td>\n",
       "      <td>04:17</td>\n",
       "    </tr>\n",
       "    <tr>\n",
       "      <td>8</td>\n",
       "      <td>0.744494</td>\n",
       "      <td>0.682696</td>\n",
       "      <td>0.824241</td>\n",
       "      <td>0.958820</td>\n",
       "      <td>04:17</td>\n",
       "    </tr>\n",
       "    <tr>\n",
       "      <td>9</td>\n",
       "      <td>0.732744</td>\n",
       "      <td>0.682208</td>\n",
       "      <td>0.826152</td>\n",
       "      <td>0.954362</td>\n",
       "      <td>04:17</td>\n",
       "    </tr>\n",
       "    <tr>\n",
       "      <td>10</td>\n",
       "      <td>0.738038</td>\n",
       "      <td>0.680014</td>\n",
       "      <td>0.826152</td>\n",
       "      <td>0.953938</td>\n",
       "      <td>04:17</td>\n",
       "    </tr>\n",
       "    <tr>\n",
       "      <td>11</td>\n",
       "      <td>0.676572</td>\n",
       "      <td>0.693944</td>\n",
       "      <td>0.823392</td>\n",
       "      <td>0.955423</td>\n",
       "      <td>04:18</td>\n",
       "    </tr>\n",
       "    <tr>\n",
       "      <td>12</td>\n",
       "      <td>0.673373</td>\n",
       "      <td>0.673853</td>\n",
       "      <td>0.826364</td>\n",
       "      <td>0.955636</td>\n",
       "      <td>04:18</td>\n",
       "    </tr>\n",
       "    <tr>\n",
       "      <td>13</td>\n",
       "      <td>0.633767</td>\n",
       "      <td>0.673817</td>\n",
       "      <td>0.825939</td>\n",
       "      <td>0.956697</td>\n",
       "      <td>04:17</td>\n",
       "    </tr>\n",
       "    <tr>\n",
       "      <td>14</td>\n",
       "      <td>0.600183</td>\n",
       "      <td>0.670490</td>\n",
       "      <td>0.828274</td>\n",
       "      <td>0.956697</td>\n",
       "      <td>04:17</td>\n",
       "    </tr>\n",
       "  </tbody>\n",
       "</table>"
      ],
      "text/plain": [
       "<IPython.core.display.HTML object>"
      ]
     },
     "metadata": {},
     "output_type": "display_data"
    },
    {
     "name": "stdout",
     "output_type": "stream",
     "text": [
      "Better model found at epoch 0 with valid_loss value: 0.7256550788879395.\n",
      "Better model found at epoch 1 with valid_loss value: 0.7019445896148682.\n",
      "Better model found at epoch 2 with valid_loss value: 0.6958375573158264.\n",
      "Better model found at epoch 5 with valid_loss value: 0.6929183602333069.\n",
      "Better model found at epoch 6 with valid_loss value: 0.6928594708442688.\n",
      "Better model found at epoch 7 with valid_loss value: 0.6828593015670776.\n",
      "Better model found at epoch 8 with valid_loss value: 0.6826960444450378.\n",
      "Better model found at epoch 9 with valid_loss value: 0.6822075843811035.\n",
      "Better model found at epoch 10 with valid_loss value: 0.6800135970115662.\n",
      "Better model found at epoch 12 with valid_loss value: 0.6738525032997131.\n",
      "Better model found at epoch 13 with valid_loss value: 0.6738166213035583.\n",
      "Better model found at epoch 14 with valid_loss value: 0.6704903244972229.\n"
     ]
    }
   ],
   "source": [
    "do_fit(learn, 'task1_resnet50_224_iter1', epochs=15, lr=1e-3, pct_start=0.75)"
   ]
  },
  {
   "cell_type": "code",
   "execution_count": 6,
   "id": "0850f143",
   "metadata": {},
   "outputs": [],
   "source": [
    "learn.unfreeze()"
   ]
  },
  {
   "cell_type": "code",
   "execution_count": 7,
   "id": "02aa06a6",
   "metadata": {},
   "outputs": [
    {
     "data": {
      "text/html": [
       "\n",
       "<style>\n",
       "    /* Turns off some styling */\n",
       "    progress {\n",
       "        /* gets rid of default border in Firefox and Opera. */\n",
       "        border: none;\n",
       "        /* Needs to be in here for Safari polyfill so background images work as expected. */\n",
       "        background-size: auto;\n",
       "    }\n",
       "    .progress-bar-interrupted, .progress-bar-interrupted::-webkit-progress-bar {\n",
       "        background: #F44336;\n",
       "    }\n",
       "</style>\n"
      ],
      "text/plain": [
       "<IPython.core.display.HTML object>"
      ]
     },
     "metadata": {},
     "output_type": "display_data"
    },
    {
     "data": {
      "text/html": [
       "<table border=\"1\" class=\"dataframe\">\n",
       "  <thead>\n",
       "    <tr style=\"text-align: left;\">\n",
       "      <th>epoch</th>\n",
       "      <th>train_loss</th>\n",
       "      <th>valid_loss</th>\n",
       "      <th>accuracy</th>\n",
       "      <th>top_k_accuracy</th>\n",
       "      <th>time</th>\n",
       "    </tr>\n",
       "  </thead>\n",
       "  <tbody>\n",
       "    <tr>\n",
       "      <td>0</td>\n",
       "      <td>0.621625</td>\n",
       "      <td>0.672530</td>\n",
       "      <td>0.828487</td>\n",
       "      <td>0.955848</td>\n",
       "      <td>05:09</td>\n",
       "    </tr>\n",
       "    <tr>\n",
       "      <td>1</td>\n",
       "      <td>0.571747</td>\n",
       "      <td>0.674956</td>\n",
       "      <td>0.825939</td>\n",
       "      <td>0.954574</td>\n",
       "      <td>05:08</td>\n",
       "    </tr>\n",
       "    <tr>\n",
       "      <td>2</td>\n",
       "      <td>0.588281</td>\n",
       "      <td>0.671135</td>\n",
       "      <td>0.827850</td>\n",
       "      <td>0.957122</td>\n",
       "      <td>05:09</td>\n",
       "    </tr>\n",
       "  </tbody>\n",
       "</table>"
      ],
      "text/plain": [
       "<IPython.core.display.HTML object>"
      ]
     },
     "metadata": {},
     "output_type": "display_data"
    },
    {
     "name": "stdout",
     "output_type": "stream",
     "text": [
      "Better model found at epoch 0 with valid_loss value: 0.6725301742553711.\n",
      "Better model found at epoch 2 with valid_loss value: 0.6711351871490479.\n"
     ]
    }
   ],
   "source": [
    "do_fit(learn, 'task1_resnet50_224_iter1_unfrozen', epochs=3, lr=slice(1e-7, 1e-6), \n",
    "       fit_type='one_cycle')"
   ]
  },
  {
   "cell_type": "code",
   "execution_count": 8,
   "id": "920e6f07",
   "metadata": {},
   "outputs": [
    {
     "data": {
      "text/html": [
       "\n",
       "<style>\n",
       "    /* Turns off some styling */\n",
       "    progress {\n",
       "        /* gets rid of default border in Firefox and Opera. */\n",
       "        border: none;\n",
       "        /* Needs to be in here for Safari polyfill so background images work as expected. */\n",
       "        background-size: auto;\n",
       "    }\n",
       "    .progress-bar-interrupted, .progress-bar-interrupted::-webkit-progress-bar {\n",
       "        background: #F44336;\n",
       "    }\n",
       "</style>\n"
      ],
      "text/plain": [
       "<IPython.core.display.HTML object>"
      ]
     },
     "metadata": {},
     "output_type": "display_data"
    },
    {
     "data": {
      "text/html": [],
      "text/plain": [
       "<IPython.core.display.HTML object>"
      ]
     },
     "metadata": {},
     "output_type": "display_data"
    }
   ],
   "source": [
    "save_preds(learn, config, iteration=1)"
   ]
  },
  {
   "cell_type": "markdown",
   "id": "37ebe420",
   "metadata": {},
   "source": [
    "<br><br>"
   ]
  },
  {
   "cell_type": "markdown",
   "id": "ed8404eb",
   "metadata": {},
   "source": [
    "# Iteration 2 "
   ]
  },
  {
   "cell_type": "markdown",
   "id": "f4a808ef",
   "metadata": {},
   "source": [
    "## 128x128 px "
   ]
  },
  {
   "cell_type": "code",
   "execution_count": 3,
   "id": "481b10de",
   "metadata": {},
   "outputs": [],
   "source": [
    "config  = load_configuration('configs/config_task1_128.yml')\n",
    "learn = get_learner_task1(config, iteration=2)"
   ]
  },
  {
   "cell_type": "code",
   "execution_count": 4,
   "id": "ea66aa40",
   "metadata": {},
   "outputs": [
    {
     "data": {
      "text/html": [
       "\n",
       "<style>\n",
       "    /* Turns off some styling */\n",
       "    progress {\n",
       "        /* gets rid of default border in Firefox and Opera. */\n",
       "        border: none;\n",
       "        /* Needs to be in here for Safari polyfill so background images work as expected. */\n",
       "        background-size: auto;\n",
       "    }\n",
       "    .progress-bar-interrupted, .progress-bar-interrupted::-webkit-progress-bar {\n",
       "        background: #F44336;\n",
       "    }\n",
       "</style>\n"
      ],
      "text/plain": [
       "<IPython.core.display.HTML object>"
      ]
     },
     "metadata": {},
     "output_type": "display_data"
    },
    {
     "data": {
      "text/html": [
       "<table border=\"1\" class=\"dataframe\">\n",
       "  <thead>\n",
       "    <tr style=\"text-align: left;\">\n",
       "      <th>epoch</th>\n",
       "      <th>train_loss</th>\n",
       "      <th>valid_loss</th>\n",
       "      <th>accuracy</th>\n",
       "      <th>top_k_accuracy</th>\n",
       "      <th>time</th>\n",
       "    </tr>\n",
       "  </thead>\n",
       "  <tbody>\n",
       "    <tr>\n",
       "      <td>0</td>\n",
       "      <td>1.577608</td>\n",
       "      <td>0.957895</td>\n",
       "      <td>0.752282</td>\n",
       "      <td>0.919762</td>\n",
       "      <td>02:17</td>\n",
       "    </tr>\n",
       "    <tr>\n",
       "      <td>1</td>\n",
       "      <td>1.267188</td>\n",
       "      <td>0.821329</td>\n",
       "      <td>0.783485</td>\n",
       "      <td>0.935682</td>\n",
       "      <td>02:15</td>\n",
       "    </tr>\n",
       "    <tr>\n",
       "      <td>2</td>\n",
       "      <td>1.064828</td>\n",
       "      <td>0.741970</td>\n",
       "      <td>0.803014</td>\n",
       "      <td>0.943749</td>\n",
       "      <td>02:16</td>\n",
       "    </tr>\n",
       "    <tr>\n",
       "      <td>3</td>\n",
       "      <td>0.969272</td>\n",
       "      <td>0.703302</td>\n",
       "      <td>0.811930</td>\n",
       "      <td>0.948206</td>\n",
       "      <td>02:15</td>\n",
       "    </tr>\n",
       "    <tr>\n",
       "      <td>4</td>\n",
       "      <td>0.896485</td>\n",
       "      <td>0.688660</td>\n",
       "      <td>0.816387</td>\n",
       "      <td>0.951178</td>\n",
       "      <td>02:15</td>\n",
       "    </tr>\n",
       "    <tr>\n",
       "      <td>5</td>\n",
       "      <td>0.856787</td>\n",
       "      <td>0.675345</td>\n",
       "      <td>0.822331</td>\n",
       "      <td>0.950329</td>\n",
       "      <td>02:15</td>\n",
       "    </tr>\n",
       "    <tr>\n",
       "      <td>6</td>\n",
       "      <td>0.816109</td>\n",
       "      <td>0.665314</td>\n",
       "      <td>0.825939</td>\n",
       "      <td>0.953089</td>\n",
       "      <td>02:15</td>\n",
       "    </tr>\n",
       "    <tr>\n",
       "      <td>7</td>\n",
       "      <td>0.827677</td>\n",
       "      <td>0.664991</td>\n",
       "      <td>0.825727</td>\n",
       "      <td>0.952876</td>\n",
       "      <td>02:15</td>\n",
       "    </tr>\n",
       "    <tr>\n",
       "      <td>8</td>\n",
       "      <td>0.768085</td>\n",
       "      <td>0.654014</td>\n",
       "      <td>0.826576</td>\n",
       "      <td>0.953725</td>\n",
       "      <td>02:15</td>\n",
       "    </tr>\n",
       "    <tr>\n",
       "      <td>9</td>\n",
       "      <td>0.721043</td>\n",
       "      <td>0.659482</td>\n",
       "      <td>0.828911</td>\n",
       "      <td>0.956485</td>\n",
       "      <td>02:15</td>\n",
       "    </tr>\n",
       "    <tr>\n",
       "      <td>10</td>\n",
       "      <td>0.715713</td>\n",
       "      <td>0.670656</td>\n",
       "      <td>0.825090</td>\n",
       "      <td>0.954150</td>\n",
       "      <td>02:15</td>\n",
       "    </tr>\n",
       "    <tr>\n",
       "      <td>11</td>\n",
       "      <td>0.683263</td>\n",
       "      <td>0.659510</td>\n",
       "      <td>0.827213</td>\n",
       "      <td>0.953725</td>\n",
       "      <td>02:15</td>\n",
       "    </tr>\n",
       "    <tr>\n",
       "      <td>12</td>\n",
       "      <td>0.652071</td>\n",
       "      <td>0.646743</td>\n",
       "      <td>0.829123</td>\n",
       "      <td>0.955423</td>\n",
       "      <td>02:16</td>\n",
       "    </tr>\n",
       "    <tr>\n",
       "      <td>13</td>\n",
       "      <td>0.613158</td>\n",
       "      <td>0.644236</td>\n",
       "      <td>0.832307</td>\n",
       "      <td>0.955848</td>\n",
       "      <td>02:16</td>\n",
       "    </tr>\n",
       "    <tr>\n",
       "      <td>14</td>\n",
       "      <td>0.579288</td>\n",
       "      <td>0.644764</td>\n",
       "      <td>0.832095</td>\n",
       "      <td>0.956060</td>\n",
       "      <td>02:16</td>\n",
       "    </tr>\n",
       "  </tbody>\n",
       "</table>"
      ],
      "text/plain": [
       "<IPython.core.display.HTML object>"
      ]
     },
     "metadata": {},
     "output_type": "display_data"
    },
    {
     "name": "stdout",
     "output_type": "stream",
     "text": [
      "Better model found at epoch 0 with valid_loss value: 0.957894504070282.\n",
      "Better model found at epoch 1 with valid_loss value: 0.8213289976119995.\n",
      "Better model found at epoch 2 with valid_loss value: 0.7419697642326355.\n",
      "Better model found at epoch 3 with valid_loss value: 0.7033018469810486.\n",
      "Better model found at epoch 4 with valid_loss value: 0.6886604428291321.\n",
      "Better model found at epoch 5 with valid_loss value: 0.675345242023468.\n",
      "Better model found at epoch 6 with valid_loss value: 0.6653143763542175.\n",
      "Better model found at epoch 7 with valid_loss value: 0.6649913787841797.\n",
      "Better model found at epoch 8 with valid_loss value: 0.6540143489837646.\n",
      "Better model found at epoch 12 with valid_loss value: 0.6467426419258118.\n",
      "Better model found at epoch 13 with valid_loss value: 0.6442360877990723.\n"
     ]
    }
   ],
   "source": [
    "do_fit(learn, 'task1_resnet50_128_iter2', epochs=15, lr=1e-3, pct_start=0.75)"
   ]
  },
  {
   "cell_type": "code",
   "execution_count": 5,
   "id": "5530f8f8",
   "metadata": {},
   "outputs": [],
   "source": [
    "learn.unfreeze()"
   ]
  },
  {
   "cell_type": "code",
   "execution_count": 6,
   "id": "26fc2d0d",
   "metadata": {},
   "outputs": [
    {
     "data": {
      "text/html": [
       "\n",
       "<style>\n",
       "    /* Turns off some styling */\n",
       "    progress {\n",
       "        /* gets rid of default border in Firefox and Opera. */\n",
       "        border: none;\n",
       "        /* Needs to be in here for Safari polyfill so background images work as expected. */\n",
       "        background-size: auto;\n",
       "    }\n",
       "    .progress-bar-interrupted, .progress-bar-interrupted::-webkit-progress-bar {\n",
       "        background: #F44336;\n",
       "    }\n",
       "</style>\n"
      ],
      "text/plain": [
       "<IPython.core.display.HTML object>"
      ]
     },
     "metadata": {},
     "output_type": "display_data"
    },
    {
     "data": {
      "text/html": [
       "<table border=\"1\" class=\"dataframe\">\n",
       "  <thead>\n",
       "    <tr style=\"text-align: left;\">\n",
       "      <th>epoch</th>\n",
       "      <th>train_loss</th>\n",
       "      <th>valid_loss</th>\n",
       "      <th>accuracy</th>\n",
       "      <th>top_k_accuracy</th>\n",
       "      <th>time</th>\n",
       "    </tr>\n",
       "  </thead>\n",
       "  <tbody>\n",
       "    <tr>\n",
       "      <td>0</td>\n",
       "      <td>0.604020</td>\n",
       "      <td>0.643780</td>\n",
       "      <td>0.831883</td>\n",
       "      <td>0.956060</td>\n",
       "      <td>02:37</td>\n",
       "    </tr>\n",
       "    <tr>\n",
       "      <td>1</td>\n",
       "      <td>0.584718</td>\n",
       "      <td>0.643365</td>\n",
       "      <td>0.834430</td>\n",
       "      <td>0.955848</td>\n",
       "      <td>02:34</td>\n",
       "    </tr>\n",
       "    <tr>\n",
       "      <td>2</td>\n",
       "      <td>0.600552</td>\n",
       "      <td>0.645356</td>\n",
       "      <td>0.833581</td>\n",
       "      <td>0.955211</td>\n",
       "      <td>02:34</td>\n",
       "    </tr>\n",
       "  </tbody>\n",
       "</table>"
      ],
      "text/plain": [
       "<IPython.core.display.HTML object>"
      ]
     },
     "metadata": {},
     "output_type": "display_data"
    },
    {
     "name": "stdout",
     "output_type": "stream",
     "text": [
      "Better model found at epoch 0 with valid_loss value: 0.6437795162200928.\n",
      "Better model found at epoch 1 with valid_loss value: 0.6433654427528381.\n"
     ]
    }
   ],
   "source": [
    "do_fit(learn, 'task1_resnet50_128_iter2_unfrozen', epochs=3, lr=slice(1e-7, 1e-5), \n",
    "       fit_type='one_cycle', save_state_dict=True)"
   ]
  },
  {
   "cell_type": "markdown",
   "id": "db15ab62",
   "metadata": {},
   "source": [
    "## 224x224 px "
   ]
  },
  {
   "cell_type": "code",
   "execution_count": 3,
   "id": "c0e3771f",
   "metadata": {},
   "outputs": [],
   "source": [
    "config  = load_configuration('configs/config_task1_224.yml')\n",
    "learn = get_learner_task1(config, iteration=2)"
   ]
  },
  {
   "cell_type": "code",
   "execution_count": 4,
   "id": "01e4639a",
   "metadata": {},
   "outputs": [
    {
     "data": {
      "text/plain": [
       "<All keys matched successfully>"
      ]
     },
     "execution_count": 4,
     "metadata": {},
     "output_type": "execute_result"
    }
   ],
   "source": [
    "state_dict = torch.load(f\"{learn.model_dir}/task1_resnet50_128_iter2_unfrozen_dict.pth\")\n",
    "learn.model.load_state_dict(state_dict)"
   ]
  },
  {
   "cell_type": "code",
   "execution_count": 5,
   "id": "874e2f82",
   "metadata": {},
   "outputs": [
    {
     "data": {
      "text/html": [
       "\n",
       "<style>\n",
       "    /* Turns off some styling */\n",
       "    progress {\n",
       "        /* gets rid of default border in Firefox and Opera. */\n",
       "        border: none;\n",
       "        /* Needs to be in here for Safari polyfill so background images work as expected. */\n",
       "        background-size: auto;\n",
       "    }\n",
       "    .progress-bar-interrupted, .progress-bar-interrupted::-webkit-progress-bar {\n",
       "        background: #F44336;\n",
       "    }\n",
       "</style>\n"
      ],
      "text/plain": [
       "<IPython.core.display.HTML object>"
      ]
     },
     "metadata": {},
     "output_type": "display_data"
    },
    {
     "data": {
      "text/html": [
       "<table border=\"1\" class=\"dataframe\">\n",
       "  <thead>\n",
       "    <tr style=\"text-align: left;\">\n",
       "      <th>epoch</th>\n",
       "      <th>train_loss</th>\n",
       "      <th>valid_loss</th>\n",
       "      <th>accuracy</th>\n",
       "      <th>top_k_accuracy</th>\n",
       "      <th>time</th>\n",
       "    </tr>\n",
       "  </thead>\n",
       "  <tbody>\n",
       "    <tr>\n",
       "      <td>0</td>\n",
       "      <td>1.048641</td>\n",
       "      <td>0.741982</td>\n",
       "      <td>0.800042</td>\n",
       "      <td>0.946720</td>\n",
       "      <td>04:18</td>\n",
       "    </tr>\n",
       "    <tr>\n",
       "      <td>1</td>\n",
       "      <td>0.942068</td>\n",
       "      <td>0.716988</td>\n",
       "      <td>0.806623</td>\n",
       "      <td>0.948631</td>\n",
       "      <td>04:17</td>\n",
       "    </tr>\n",
       "    <tr>\n",
       "      <td>2</td>\n",
       "      <td>0.846554</td>\n",
       "      <td>0.705769</td>\n",
       "      <td>0.808533</td>\n",
       "      <td>0.951178</td>\n",
       "      <td>04:16</td>\n",
       "    </tr>\n",
       "    <tr>\n",
       "      <td>3</td>\n",
       "      <td>0.804890</td>\n",
       "      <td>0.696924</td>\n",
       "      <td>0.812142</td>\n",
       "      <td>0.953089</td>\n",
       "      <td>04:17</td>\n",
       "    </tr>\n",
       "    <tr>\n",
       "      <td>4</td>\n",
       "      <td>0.765550</td>\n",
       "      <td>0.698950</td>\n",
       "      <td>0.810868</td>\n",
       "      <td>0.952452</td>\n",
       "      <td>04:17</td>\n",
       "    </tr>\n",
       "    <tr>\n",
       "      <td>5</td>\n",
       "      <td>0.769149</td>\n",
       "      <td>0.691236</td>\n",
       "      <td>0.818510</td>\n",
       "      <td>0.954362</td>\n",
       "      <td>04:17</td>\n",
       "    </tr>\n",
       "    <tr>\n",
       "      <td>6</td>\n",
       "      <td>0.729874</td>\n",
       "      <td>0.685101</td>\n",
       "      <td>0.819784</td>\n",
       "      <td>0.956060</td>\n",
       "      <td>04:17</td>\n",
       "    </tr>\n",
       "    <tr>\n",
       "      <td>7</td>\n",
       "      <td>0.727987</td>\n",
       "      <td>0.684374</td>\n",
       "      <td>0.820845</td>\n",
       "      <td>0.954999</td>\n",
       "      <td>04:17</td>\n",
       "    </tr>\n",
       "    <tr>\n",
       "      <td>8</td>\n",
       "      <td>0.697140</td>\n",
       "      <td>0.680737</td>\n",
       "      <td>0.822331</td>\n",
       "      <td>0.956273</td>\n",
       "      <td>04:18</td>\n",
       "    </tr>\n",
       "    <tr>\n",
       "      <td>9</td>\n",
       "      <td>0.680182</td>\n",
       "      <td>0.684442</td>\n",
       "      <td>0.824241</td>\n",
       "      <td>0.955848</td>\n",
       "      <td>04:19</td>\n",
       "    </tr>\n",
       "    <tr>\n",
       "      <td>10</td>\n",
       "      <td>0.671276</td>\n",
       "      <td>0.681747</td>\n",
       "      <td>0.826152</td>\n",
       "      <td>0.957758</td>\n",
       "      <td>04:19</td>\n",
       "    </tr>\n",
       "    <tr>\n",
       "      <td>11</td>\n",
       "      <td>0.646482</td>\n",
       "      <td>0.689715</td>\n",
       "      <td>0.824241</td>\n",
       "      <td>0.955636</td>\n",
       "      <td>04:18</td>\n",
       "    </tr>\n",
       "    <tr>\n",
       "      <td>12</td>\n",
       "      <td>0.653662</td>\n",
       "      <td>0.679190</td>\n",
       "      <td>0.821906</td>\n",
       "      <td>0.956697</td>\n",
       "      <td>04:18</td>\n",
       "    </tr>\n",
       "    <tr>\n",
       "      <td>13</td>\n",
       "      <td>0.660635</td>\n",
       "      <td>0.677838</td>\n",
       "      <td>0.824029</td>\n",
       "      <td>0.957334</td>\n",
       "      <td>04:18</td>\n",
       "    </tr>\n",
       "    <tr>\n",
       "      <td>14</td>\n",
       "      <td>0.614502</td>\n",
       "      <td>0.675494</td>\n",
       "      <td>0.824453</td>\n",
       "      <td>0.958183</td>\n",
       "      <td>04:18</td>\n",
       "    </tr>\n",
       "  </tbody>\n",
       "</table>"
      ],
      "text/plain": [
       "<IPython.core.display.HTML object>"
      ]
     },
     "metadata": {},
     "output_type": "display_data"
    },
    {
     "name": "stdout",
     "output_type": "stream",
     "text": [
      "Better model found at epoch 0 with valid_loss value: 0.7419820427894592.\n",
      "Better model found at epoch 1 with valid_loss value: 0.716987669467926.\n",
      "Better model found at epoch 2 with valid_loss value: 0.7057690024375916.\n",
      "Better model found at epoch 3 with valid_loss value: 0.696924090385437.\n",
      "Better model found at epoch 5 with valid_loss value: 0.6912358999252319.\n",
      "Better model found at epoch 6 with valid_loss value: 0.6851013898849487.\n",
      "Better model found at epoch 7 with valid_loss value: 0.6843735575675964.\n",
      "Better model found at epoch 8 with valid_loss value: 0.6807372570037842.\n",
      "Better model found at epoch 12 with valid_loss value: 0.6791900396347046.\n",
      "Better model found at epoch 13 with valid_loss value: 0.6778379082679749.\n",
      "Better model found at epoch 14 with valid_loss value: 0.6754936575889587.\n"
     ]
    }
   ],
   "source": [
    "do_fit(learn, 'task1_resnet50_224_iter2', epochs=15, lr=3e-4, pct_start=0.75)"
   ]
  },
  {
   "cell_type": "code",
   "execution_count": 4,
   "id": "efc00ca3",
   "metadata": {},
   "outputs": [
    {
     "data": {
      "text/plain": [
       "<fastai.learner.Learner at 0x2ac51649210>"
      ]
     },
     "execution_count": 4,
     "metadata": {},
     "output_type": "execute_result"
    }
   ],
   "source": [
    "learn.load('task1_resnet50_224_iter2')"
   ]
  },
  {
   "cell_type": "code",
   "execution_count": 5,
   "id": "9620a340",
   "metadata": {},
   "outputs": [],
   "source": [
    "learn.unfreeze()"
   ]
  },
  {
   "cell_type": "code",
   "execution_count": 6,
   "id": "c45a14e7",
   "metadata": {},
   "outputs": [
    {
     "data": {
      "text/html": [
       "\n",
       "<style>\n",
       "    /* Turns off some styling */\n",
       "    progress {\n",
       "        /* gets rid of default border in Firefox and Opera. */\n",
       "        border: none;\n",
       "        /* Needs to be in here for Safari polyfill so background images work as expected. */\n",
       "        background-size: auto;\n",
       "    }\n",
       "    .progress-bar-interrupted, .progress-bar-interrupted::-webkit-progress-bar {\n",
       "        background: #F44336;\n",
       "    }\n",
       "</style>\n"
      ],
      "text/plain": [
       "<IPython.core.display.HTML object>"
      ]
     },
     "metadata": {},
     "output_type": "display_data"
    },
    {
     "data": {
      "text/html": [
       "<table border=\"1\" class=\"dataframe\">\n",
       "  <thead>\n",
       "    <tr style=\"text-align: left;\">\n",
       "      <th>epoch</th>\n",
       "      <th>train_loss</th>\n",
       "      <th>valid_loss</th>\n",
       "      <th>accuracy</th>\n",
       "      <th>top_k_accuracy</th>\n",
       "      <th>time</th>\n",
       "    </tr>\n",
       "  </thead>\n",
       "  <tbody>\n",
       "    <tr>\n",
       "      <td>0</td>\n",
       "      <td>0.495707</td>\n",
       "      <td>0.676558</td>\n",
       "      <td>0.824453</td>\n",
       "      <td>0.956909</td>\n",
       "      <td>05:09</td>\n",
       "    </tr>\n",
       "    <tr>\n",
       "      <td>1</td>\n",
       "      <td>0.497583</td>\n",
       "      <td>0.676689</td>\n",
       "      <td>0.825727</td>\n",
       "      <td>0.957546</td>\n",
       "      <td>05:08</td>\n",
       "    </tr>\n",
       "    <tr>\n",
       "      <td>2</td>\n",
       "      <td>0.455225</td>\n",
       "      <td>0.675820</td>\n",
       "      <td>0.827001</td>\n",
       "      <td>0.956909</td>\n",
       "      <td>05:08</td>\n",
       "    </tr>\n",
       "    <tr>\n",
       "      <td>3</td>\n",
       "      <td>0.443874</td>\n",
       "      <td>0.675291</td>\n",
       "      <td>0.822755</td>\n",
       "      <td>0.956909</td>\n",
       "      <td>05:08</td>\n",
       "    </tr>\n",
       "    <tr>\n",
       "      <td>4</td>\n",
       "      <td>0.414861</td>\n",
       "      <td>0.677774</td>\n",
       "      <td>0.827425</td>\n",
       "      <td>0.956273</td>\n",
       "      <td>05:08</td>\n",
       "    </tr>\n",
       "  </tbody>\n",
       "</table>"
      ],
      "text/plain": [
       "<IPython.core.display.HTML object>"
      ]
     },
     "metadata": {},
     "output_type": "display_data"
    },
    {
     "name": "stdout",
     "output_type": "stream",
     "text": [
      "Better model found at epoch 0 with valid_loss value: 0.6765575408935547.\n",
      "Better model found at epoch 2 with valid_loss value: 0.6758200526237488.\n",
      "Better model found at epoch 3 with valid_loss value: 0.6752908229827881.\n"
     ]
    }
   ],
   "source": [
    "do_fit(learn, 'task1_resnet50_224_iter2_unfrozen', epochs=5, lr=slice(1e-6, 1e-5), \n",
    "       fit_type='one_cycle', save_state_dict=True)"
   ]
  },
  {
   "cell_type": "markdown",
   "id": "e3d02748",
   "metadata": {},
   "source": [
    "# Creating submissions "
   ]
  },
  {
   "cell_type": "markdown",
   "id": "2a6cfb72",
   "metadata": {},
   "source": [
    "## Submission Iteration 2 - 128x128 px"
   ]
  },
  {
   "cell_type": "code",
   "execution_count": 3,
   "id": "d0a483ce",
   "metadata": {},
   "outputs": [],
   "source": [
    "config  = load_configuration('configs/config_task1_128.yml')\n",
    "learn = get_learner_task1(config, iteration=2, resnet_weights=False)"
   ]
  },
  {
   "cell_type": "code",
   "execution_count": 4,
   "id": "8a305cc1",
   "metadata": {},
   "outputs": [
    {
     "data": {
      "text/plain": [
       "<fastai.learner.Learner at 0x22101f5b220>"
      ]
     },
     "execution_count": 4,
     "metadata": {},
     "output_type": "execute_result"
    }
   ],
   "source": [
    "learn.load('task1_resnet50_128_iter2_unfrozen')"
   ]
  },
  {
   "cell_type": "code",
   "execution_count": 5,
   "id": "fcc6daf2",
   "metadata": {},
   "outputs": [],
   "source": [
    "learn.export('models/test_task1_resnet50_128_iter2_unfrozen.pkl')"
   ]
  },
  {
   "cell_type": "code",
   "execution_count": 7,
   "id": "2ac54033",
   "metadata": {
    "scrolled": false
   },
   "outputs": [
    {
     "data": {
      "text/html": [
       "\n",
       "<style>\n",
       "    /* Turns off some styling */\n",
       "    progress {\n",
       "        /* gets rid of default border in Firefox and Opera. */\n",
       "        border: none;\n",
       "        /* Needs to be in here for Safari polyfill so background images work as expected. */\n",
       "        background-size: auto;\n",
       "    }\n",
       "    .progress-bar-interrupted, .progress-bar-interrupted::-webkit-progress-bar {\n",
       "        background: #F44336;\n",
       "    }\n",
       "</style>\n"
      ],
      "text/plain": [
       "<IPython.core.display.HTML object>"
      ]
     },
     "metadata": {},
     "output_type": "display_data"
    },
    {
     "data": {
      "text/html": [],
      "text/plain": [
       "<IPython.core.display.HTML object>"
      ]
     },
     "metadata": {},
     "output_type": "display_data"
    },
    {
     "name": "stdout",
     "output_type": "stream",
     "text": [
      "CPU times: total: 48.3 s\n",
      "Wall time: 15 s\n"
     ]
    }
   ],
   "source": [
    "%%time\n",
    "\n",
    "create_submission(\n",
    "    path_learn='test_task1_resnet50_128_iter2_unfrozen.pkl',\n",
    "    path_test_images='data/task1/val_data',\n",
    "    submission_name='task1.csv'\n",
    ")"
   ]
  },
  {
   "cell_type": "markdown",
   "id": "61fef582",
   "metadata": {},
   "source": [
    "## Submission Iteration 2 - 224x224 px "
   ]
  },
  {
   "cell_type": "code",
   "execution_count": 3,
   "id": "3a6452e9",
   "metadata": {},
   "outputs": [],
   "source": [
    "config  = load_configuration('configs/config_task1_224.yml')\n",
    "learn = get_learner_task1(config, iteration=2, resnet_weights=False)"
   ]
  },
  {
   "cell_type": "code",
   "execution_count": 4,
   "id": "3d7745ee",
   "metadata": {},
   "outputs": [
    {
     "data": {
      "text/plain": [
       "<fastai.learner.Learner at 0x255e6a26470>"
      ]
     },
     "execution_count": 4,
     "metadata": {},
     "output_type": "execute_result"
    }
   ],
   "source": [
    "learn.load('task1_resnet50_224_iter2_unfrozen')"
   ]
  },
  {
   "cell_type": "code",
   "execution_count": 5,
   "id": "b08305d7",
   "metadata": {},
   "outputs": [],
   "source": [
    "learn.export('models/test_task1_resnet50_224_iter2_unfrozen.pkl')"
   ]
  },
  {
   "cell_type": "code",
   "execution_count": 6,
   "id": "c0cffa99",
   "metadata": {},
   "outputs": [
    {
     "data": {
      "text/html": [
       "\n",
       "<style>\n",
       "    /* Turns off some styling */\n",
       "    progress {\n",
       "        /* gets rid of default border in Firefox and Opera. */\n",
       "        border: none;\n",
       "        /* Needs to be in here for Safari polyfill so background images work as expected. */\n",
       "        background-size: auto;\n",
       "    }\n",
       "    .progress-bar-interrupted, .progress-bar-interrupted::-webkit-progress-bar {\n",
       "        background: #F44336;\n",
       "    }\n",
       "</style>\n"
      ],
      "text/plain": [
       "<IPython.core.display.HTML object>"
      ]
     },
     "metadata": {},
     "output_type": "display_data"
    },
    {
     "data": {
      "text/html": [],
      "text/plain": [
       "<IPython.core.display.HTML object>"
      ]
     },
     "metadata": {},
     "output_type": "display_data"
    },
    {
     "name": "stdout",
     "output_type": "stream",
     "text": [
      "CPU times: total: 1min 39s\n",
      "Wall time: 17.6 s\n"
     ]
    }
   ],
   "source": [
    "%%time\n",
    "\n",
    "create_submission(\n",
    "    path_learn='test_task1_resnet50_224_iter2_unfrozen.pkl',\n",
    "    path_test_images='data/task1/val_data',\n",
    "    submission_name='task1.csv'\n",
    ")"
   ]
  },
  {
   "cell_type": "markdown",
   "id": "e5198ca9",
   "metadata": {},
   "source": [
    "<br><br><br><br>"
   ]
  },
  {
   "cell_type": "markdown",
   "id": "f3c47d7d",
   "metadata": {},
   "source": [
    "# Training after Task 2 "
   ]
  },
  {
   "cell_type": "code",
   "execution_count": 3,
   "id": "f01b0477",
   "metadata": {},
   "outputs": [],
   "source": [
    "config  = load_configuration('configs/config_task1_224.yml')\n",
    "learn = get_learner_task1(config, iteration=2)"
   ]
  },
  {
   "cell_type": "code",
   "execution_count": 4,
   "id": "af4142e8",
   "metadata": {},
   "outputs": [
    {
     "data": {
      "text/plain": [
       "<All keys matched successfully>"
      ]
     },
     "execution_count": 4,
     "metadata": {},
     "output_type": "execute_result"
    }
   ],
   "source": [
    "state_dict = torch.load(f\"{learn.model_dir}/task1_resnet50_128_iter2_unfrozen_dict.pth\")\n",
    "learn.model.load_state_dict(state_dict)"
   ]
  },
  {
   "cell_type": "code",
   "execution_count": 5,
   "id": "d9cbdff2",
   "metadata": {},
   "outputs": [
    {
     "data": {
      "text/html": [
       "\n",
       "<style>\n",
       "    /* Turns off some styling */\n",
       "    progress {\n",
       "        /* gets rid of default border in Firefox and Opera. */\n",
       "        border: none;\n",
       "        /* Needs to be in here for Safari polyfill so background images work as expected. */\n",
       "        background-size: auto;\n",
       "    }\n",
       "    .progress-bar-interrupted, .progress-bar-interrupted::-webkit-progress-bar {\n",
       "        background: #F44336;\n",
       "    }\n",
       "</style>\n"
      ],
      "text/plain": [
       "<IPython.core.display.HTML object>"
      ]
     },
     "metadata": {},
     "output_type": "display_data"
    },
    {
     "data": {
      "text/html": [
       "<table border=\"1\" class=\"dataframe\">\n",
       "  <thead>\n",
       "    <tr style=\"text-align: left;\">\n",
       "      <th>epoch</th>\n",
       "      <th>train_loss</th>\n",
       "      <th>valid_loss</th>\n",
       "      <th>accuracy</th>\n",
       "      <th>top_k_accuracy</th>\n",
       "      <th>time</th>\n",
       "    </tr>\n",
       "  </thead>\n",
       "  <tbody>\n",
       "    <tr>\n",
       "      <td>0</td>\n",
       "      <td>1.206444</td>\n",
       "      <td>0.796796</td>\n",
       "      <td>0.785184</td>\n",
       "      <td>0.939079</td>\n",
       "      <td>04:16</td>\n",
       "    </tr>\n",
       "    <tr>\n",
       "      <td>1</td>\n",
       "      <td>1.091602</td>\n",
       "      <td>0.763328</td>\n",
       "      <td>0.790703</td>\n",
       "      <td>0.943536</td>\n",
       "      <td>04:12</td>\n",
       "    </tr>\n",
       "    <tr>\n",
       "      <td>2</td>\n",
       "      <td>0.994973</td>\n",
       "      <td>0.745828</td>\n",
       "      <td>0.798981</td>\n",
       "      <td>0.947145</td>\n",
       "      <td>04:12</td>\n",
       "    </tr>\n",
       "    <tr>\n",
       "      <td>3</td>\n",
       "      <td>0.947213</td>\n",
       "      <td>0.729877</td>\n",
       "      <td>0.803014</td>\n",
       "      <td>0.947994</td>\n",
       "      <td>04:14</td>\n",
       "    </tr>\n",
       "    <tr>\n",
       "      <td>4</td>\n",
       "      <td>0.886632</td>\n",
       "      <td>0.728122</td>\n",
       "      <td>0.804076</td>\n",
       "      <td>0.947569</td>\n",
       "      <td>04:14</td>\n",
       "    </tr>\n",
       "    <tr>\n",
       "      <td>5</td>\n",
       "      <td>0.895752</td>\n",
       "      <td>0.711858</td>\n",
       "      <td>0.809382</td>\n",
       "      <td>0.950966</td>\n",
       "      <td>04:14</td>\n",
       "    </tr>\n",
       "    <tr>\n",
       "      <td>6</td>\n",
       "      <td>0.833951</td>\n",
       "      <td>0.707353</td>\n",
       "      <td>0.806835</td>\n",
       "      <td>0.949480</td>\n",
       "      <td>04:14</td>\n",
       "    </tr>\n",
       "    <tr>\n",
       "      <td>7</td>\n",
       "      <td>0.828059</td>\n",
       "      <td>0.704531</td>\n",
       "      <td>0.807472</td>\n",
       "      <td>0.951815</td>\n",
       "      <td>04:14</td>\n",
       "    </tr>\n",
       "    <tr>\n",
       "      <td>8</td>\n",
       "      <td>0.796186</td>\n",
       "      <td>0.702073</td>\n",
       "      <td>0.809595</td>\n",
       "      <td>0.950117</td>\n",
       "      <td>04:14</td>\n",
       "    </tr>\n",
       "    <tr>\n",
       "      <td>9</td>\n",
       "      <td>0.787878</td>\n",
       "      <td>0.699539</td>\n",
       "      <td>0.812566</td>\n",
       "      <td>0.952239</td>\n",
       "      <td>04:14</td>\n",
       "    </tr>\n",
       "  </tbody>\n",
       "</table>"
      ],
      "text/plain": [
       "<IPython.core.display.HTML object>"
      ]
     },
     "metadata": {},
     "output_type": "display_data"
    },
    {
     "name": "stdout",
     "output_type": "stream",
     "text": [
      "Better model found at epoch 0 with valid_loss value: 0.7967963218688965.\n",
      "Better model found at epoch 1 with valid_loss value: 0.7633281946182251.\n",
      "Better model found at epoch 2 with valid_loss value: 0.7458279728889465.\n",
      "Better model found at epoch 3 with valid_loss value: 0.7298773527145386.\n",
      "Better model found at epoch 4 with valid_loss value: 0.728121817111969.\n",
      "Better model found at epoch 5 with valid_loss value: 0.7118581533432007.\n",
      "Better model found at epoch 6 with valid_loss value: 0.7073532342910767.\n",
      "Better model found at epoch 7 with valid_loss value: 0.7045314311981201.\n",
      "Better model found at epoch 8 with valid_loss value: 0.7020729780197144.\n",
      "Better model found at epoch 9 with valid_loss value: 0.6995385885238647.\n"
     ]
    }
   ],
   "source": [
    "do_fit(learn, 'task1_again_resnet50_224_iter2', epochs=10, lr=1e-4, pct_start=0.75)"
   ]
  },
  {
   "cell_type": "code",
   "execution_count": 7,
   "id": "cc8702f2",
   "metadata": {},
   "outputs": [
    {
     "data": {
      "text/html": [
       "\n",
       "<style>\n",
       "    /* Turns off some styling */\n",
       "    progress {\n",
       "        /* gets rid of default border in Firefox and Opera. */\n",
       "        border: none;\n",
       "        /* Needs to be in here for Safari polyfill so background images work as expected. */\n",
       "        background-size: auto;\n",
       "    }\n",
       "    .progress-bar-interrupted, .progress-bar-interrupted::-webkit-progress-bar {\n",
       "        background: #F44336;\n",
       "    }\n",
       "</style>\n"
      ],
      "text/plain": [
       "<IPython.core.display.HTML object>"
      ]
     },
     "metadata": {},
     "output_type": "display_data"
    },
    {
     "data": {
      "text/html": [
       "<table border=\"1\" class=\"dataframe\">\n",
       "  <thead>\n",
       "    <tr style=\"text-align: left;\">\n",
       "      <th>epoch</th>\n",
       "      <th>train_loss</th>\n",
       "      <th>valid_loss</th>\n",
       "      <th>accuracy</th>\n",
       "      <th>top_k_accuracy</th>\n",
       "      <th>time</th>\n",
       "    </tr>\n",
       "  </thead>\n",
       "  <tbody>\n",
       "    <tr>\n",
       "      <td>0</td>\n",
       "      <td>0.823040</td>\n",
       "      <td>0.713377</td>\n",
       "      <td>0.808958</td>\n",
       "      <td>0.952876</td>\n",
       "      <td>04:15</td>\n",
       "    </tr>\n",
       "    <tr>\n",
       "      <td>1</td>\n",
       "      <td>0.814361</td>\n",
       "      <td>0.689737</td>\n",
       "      <td>0.819359</td>\n",
       "      <td>0.954787</td>\n",
       "      <td>04:15</td>\n",
       "    </tr>\n",
       "    <tr>\n",
       "      <td>2</td>\n",
       "      <td>0.783691</td>\n",
       "      <td>0.684052</td>\n",
       "      <td>0.821694</td>\n",
       "      <td>0.956909</td>\n",
       "      <td>04:15</td>\n",
       "    </tr>\n",
       "    <tr>\n",
       "      <td>3</td>\n",
       "      <td>0.734968</td>\n",
       "      <td>0.682342</td>\n",
       "      <td>0.820845</td>\n",
       "      <td>0.957971</td>\n",
       "      <td>04:16</td>\n",
       "    </tr>\n",
       "    <tr>\n",
       "      <td>4</td>\n",
       "      <td>0.737269</td>\n",
       "      <td>0.679737</td>\n",
       "      <td>0.822331</td>\n",
       "      <td>0.957971</td>\n",
       "      <td>04:15</td>\n",
       "    </tr>\n",
       "  </tbody>\n",
       "</table>"
      ],
      "text/plain": [
       "<IPython.core.display.HTML object>"
      ]
     },
     "metadata": {},
     "output_type": "display_data"
    },
    {
     "name": "stdout",
     "output_type": "stream",
     "text": [
      "Better model found at epoch 0 with valid_loss value: 0.7133766412734985.\n",
      "Better model found at epoch 1 with valid_loss value: 0.689736545085907.\n",
      "Better model found at epoch 2 with valid_loss value: 0.684051513671875.\n",
      "Better model found at epoch 3 with valid_loss value: 0.6823423504829407.\n",
      "Better model found at epoch 4 with valid_loss value: 0.679736852645874.\n"
     ]
    }
   ],
   "source": [
    "do_fit(learn, 'task1_again_resnet50_224_iter2', epochs=5, lr=7e-4, pct_start=0.75)"
   ]
  },
  {
   "cell_type": "code",
   "execution_count": 8,
   "id": "cc3fac80",
   "metadata": {},
   "outputs": [],
   "source": [
    "learn.unfreeze()"
   ]
  },
  {
   "cell_type": "code",
   "execution_count": 10,
   "id": "ad90eb62",
   "metadata": {},
   "outputs": [
    {
     "data": {
      "text/html": [
       "\n",
       "<style>\n",
       "    /* Turns off some styling */\n",
       "    progress {\n",
       "        /* gets rid of default border in Firefox and Opera. */\n",
       "        border: none;\n",
       "        /* Needs to be in here for Safari polyfill so background images work as expected. */\n",
       "        background-size: auto;\n",
       "    }\n",
       "    .progress-bar-interrupted, .progress-bar-interrupted::-webkit-progress-bar {\n",
       "        background: #F44336;\n",
       "    }\n",
       "</style>\n"
      ],
      "text/plain": [
       "<IPython.core.display.HTML object>"
      ]
     },
     "metadata": {},
     "output_type": "display_data"
    },
    {
     "data": {
      "text/html": [
       "<table border=\"1\" class=\"dataframe\">\n",
       "  <thead>\n",
       "    <tr style=\"text-align: left;\">\n",
       "      <th>epoch</th>\n",
       "      <th>train_loss</th>\n",
       "      <th>valid_loss</th>\n",
       "      <th>accuracy</th>\n",
       "      <th>top_k_accuracy</th>\n",
       "      <th>time</th>\n",
       "    </tr>\n",
       "  </thead>\n",
       "  <tbody>\n",
       "    <tr>\n",
       "      <td>0</td>\n",
       "      <td>0.674849</td>\n",
       "      <td>0.669720</td>\n",
       "      <td>0.827425</td>\n",
       "      <td>0.958820</td>\n",
       "      <td>05:06</td>\n",
       "    </tr>\n",
       "    <tr>\n",
       "      <td>1</td>\n",
       "      <td>0.662891</td>\n",
       "      <td>0.662555</td>\n",
       "      <td>0.828911</td>\n",
       "      <td>0.960942</td>\n",
       "      <td>05:07</td>\n",
       "    </tr>\n",
       "    <tr>\n",
       "      <td>2</td>\n",
       "      <td>0.645902</td>\n",
       "      <td>0.663742</td>\n",
       "      <td>0.827850</td>\n",
       "      <td>0.958820</td>\n",
       "      <td>05:09</td>\n",
       "    </tr>\n",
       "    <tr>\n",
       "      <td>3</td>\n",
       "      <td>0.635162</td>\n",
       "      <td>0.662846</td>\n",
       "      <td>0.827425</td>\n",
       "      <td>0.956485</td>\n",
       "      <td>05:14</td>\n",
       "    </tr>\n",
       "    <tr>\n",
       "      <td>4</td>\n",
       "      <td>0.630770</td>\n",
       "      <td>0.663234</td>\n",
       "      <td>0.828274</td>\n",
       "      <td>0.957122</td>\n",
       "      <td>05:19</td>\n",
       "    </tr>\n",
       "    <tr>\n",
       "      <td>5</td>\n",
       "      <td>0.599767</td>\n",
       "      <td>0.663410</td>\n",
       "      <td>0.827850</td>\n",
       "      <td>0.958395</td>\n",
       "      <td>05:07</td>\n",
       "    </tr>\n",
       "    <tr>\n",
       "      <td>6</td>\n",
       "      <td>0.602547</td>\n",
       "      <td>0.664232</td>\n",
       "      <td>0.828911</td>\n",
       "      <td>0.957334</td>\n",
       "      <td>05:06</td>\n",
       "    </tr>\n",
       "  </tbody>\n",
       "</table>"
      ],
      "text/plain": [
       "<IPython.core.display.HTML object>"
      ]
     },
     "metadata": {},
     "output_type": "display_data"
    },
    {
     "name": "stdout",
     "output_type": "stream",
     "text": [
      "Better model found at epoch 0 with valid_loss value: 0.6697200536727905.\n",
      "Better model found at epoch 1 with valid_loss value: 0.6625552177429199.\n"
     ]
    }
   ],
   "source": [
    "do_fit(learn, 'task1_again_resnet50_224_iter2_unfrozen', epochs=7, lr=slice(1e-6, 1e-5), \n",
    "       pct_start=0.75, save_state_dict=True)"
   ]
  },
  {
   "cell_type": "code",
   "execution_count": 12,
   "id": "cca8ead8",
   "metadata": {},
   "outputs": [
    {
     "data": {
      "text/html": [
       "\n",
       "<style>\n",
       "    /* Turns off some styling */\n",
       "    progress {\n",
       "        /* gets rid of default border in Firefox and Opera. */\n",
       "        border: none;\n",
       "        /* Needs to be in here for Safari polyfill so background images work as expected. */\n",
       "        background-size: auto;\n",
       "    }\n",
       "    .progress-bar-interrupted, .progress-bar-interrupted::-webkit-progress-bar {\n",
       "        background: #F44336;\n",
       "    }\n",
       "</style>\n"
      ],
      "text/plain": [
       "<IPython.core.display.HTML object>"
      ]
     },
     "metadata": {},
     "output_type": "display_data"
    },
    {
     "data": {
      "text/html": [
       "<table border=\"1\" class=\"dataframe\">\n",
       "  <thead>\n",
       "    <tr style=\"text-align: left;\">\n",
       "      <th>epoch</th>\n",
       "      <th>train_loss</th>\n",
       "      <th>valid_loss</th>\n",
       "      <th>accuracy</th>\n",
       "      <th>top_k_accuracy</th>\n",
       "      <th>time</th>\n",
       "    </tr>\n",
       "  </thead>\n",
       "  <tbody>\n",
       "    <tr>\n",
       "      <td>0</td>\n",
       "      <td>0.623775</td>\n",
       "      <td>0.667330</td>\n",
       "      <td>0.825515</td>\n",
       "      <td>0.958183</td>\n",
       "      <td>05:12</td>\n",
       "    </tr>\n",
       "    <tr>\n",
       "      <td>1</td>\n",
       "      <td>0.644310</td>\n",
       "      <td>0.661636</td>\n",
       "      <td>0.831246</td>\n",
       "      <td>0.959032</td>\n",
       "      <td>05:08</td>\n",
       "    </tr>\n",
       "    <tr>\n",
       "      <td>2</td>\n",
       "      <td>0.616061</td>\n",
       "      <td>0.667980</td>\n",
       "      <td>0.828487</td>\n",
       "      <td>0.960093</td>\n",
       "      <td>05:08</td>\n",
       "    </tr>\n",
       "  </tbody>\n",
       "</table>"
      ],
      "text/plain": [
       "<IPython.core.display.HTML object>"
      ]
     },
     "metadata": {},
     "output_type": "display_data"
    },
    {
     "name": "stdout",
     "output_type": "stream",
     "text": [
      "Better model found at epoch 0 with valid_loss value: 0.6673299074172974.\n",
      "Better model found at epoch 1 with valid_loss value: 0.6616356372833252.\n"
     ]
    }
   ],
   "source": [
    "do_fit(learn, 'task1_again_resnet50_224_iter2_unfrozen', epochs=3, lr=1e-7, \n",
    "       pct_start=0.75, save_state_dict=True)"
   ]
  },
  {
   "cell_type": "code",
   "execution_count": 13,
   "id": "022b1828",
   "metadata": {},
   "outputs": [
    {
     "data": {
      "text/plain": [
       "<fastai.learner.Learner at 0x2073011bfa0>"
      ]
     },
     "execution_count": 13,
     "metadata": {},
     "output_type": "execute_result"
    }
   ],
   "source": [
    "learn.load('task1_again_resnet50_224_iter2_unfrozen')"
   ]
  },
  {
   "cell_type": "code",
   "execution_count": 14,
   "id": "60219d05",
   "metadata": {},
   "outputs": [],
   "source": [
    "save_name = 'task1_again_resnet50_224_iter2_unfrozen'"
   ]
  },
  {
   "cell_type": "code",
   "execution_count": 15,
   "id": "5bb79074",
   "metadata": {},
   "outputs": [],
   "source": [
    "learn.export(f\"{learn.model_dir}/{save_name}.pkl\")\n",
    "torch.save(learn.model.state_dict(), f\"{learn.model_dir}/{save_name}_dict.pth\")"
   ]
  },
  {
   "cell_type": "markdown",
   "id": "146876aa",
   "metadata": {},
   "source": [
    "# Another submission attempt "
   ]
  },
  {
   "cell_type": "code",
   "execution_count": 3,
   "id": "509c52d8",
   "metadata": {},
   "outputs": [],
   "source": [
    "config  = load_configuration('configs/config_task1_224.yml')\n",
    "learn = get_learner_task1(config, iteration=2, resnet_weights=False)"
   ]
  },
  {
   "cell_type": "code",
   "execution_count": 5,
   "id": "c2b75a9f",
   "metadata": {},
   "outputs": [
    {
     "data": {
      "text/plain": [
       "<fastai.learner.Learner at 0x1ba01c7a110>"
      ]
     },
     "execution_count": 5,
     "metadata": {},
     "output_type": "execute_result"
    }
   ],
   "source": [
    "learn.load('task1_again_resnet50_224_iter2_unfrozen')"
   ]
  },
  {
   "cell_type": "code",
   "execution_count": 7,
   "id": "020aeebb",
   "metadata": {},
   "outputs": [
    {
     "data": {
      "text/plain": [
       "<All keys matched successfully>"
      ]
     },
     "execution_count": 7,
     "metadata": {},
     "output_type": "execute_result"
    }
   ],
   "source": [
    "state_dict = torch.load(f\"{learn.model_dir}/task1_again_resnet50_224_iter2_unfrozen_dict.pth\")\n",
    "learn.model.load_state_dict(state_dict)"
   ]
  },
  {
   "cell_type": "code",
   "execution_count": 8,
   "id": "5f467b44",
   "metadata": {},
   "outputs": [],
   "source": [
    "learn.export('models/task1_again_resnet50_224_iter2_unfrozen.pkl')"
   ]
  },
  {
   "cell_type": "code",
   "execution_count": 9,
   "id": "97cf389d",
   "metadata": {},
   "outputs": [
    {
     "data": {
      "text/html": [
       "\n",
       "<style>\n",
       "    /* Turns off some styling */\n",
       "    progress {\n",
       "        /* gets rid of default border in Firefox and Opera. */\n",
       "        border: none;\n",
       "        /* Needs to be in here for Safari polyfill so background images work as expected. */\n",
       "        background-size: auto;\n",
       "    }\n",
       "    .progress-bar-interrupted, .progress-bar-interrupted::-webkit-progress-bar {\n",
       "        background: #F44336;\n",
       "    }\n",
       "</style>\n"
      ],
      "text/plain": [
       "<IPython.core.display.HTML object>"
      ]
     },
     "metadata": {},
     "output_type": "display_data"
    },
    {
     "data": {
      "text/html": [],
      "text/plain": [
       "<IPython.core.display.HTML object>"
      ]
     },
     "metadata": {},
     "output_type": "display_data"
    },
    {
     "name": "stdout",
     "output_type": "stream",
     "text": [
      "CPU times: total: 1min 27s\n",
      "Wall time: 19.3 s\n"
     ]
    }
   ],
   "source": [
    "%%time\n",
    "\n",
    "create_submission(\n",
    "    path_learn='task1_again_resnet50_224_iter2_unfrozen.pkl',\n",
    "    path_test_images='data/task1/val_data',\n",
    "    submission_name='task1_test.csv'\n",
    ")"
   ]
  },
  {
   "cell_type": "code",
   "execution_count": null,
   "id": "67f0d0fa",
   "metadata": {},
   "outputs": [],
   "source": []
  }
 ],
 "metadata": {
  "kernelspec": {
   "display_name": "Python 3 (ipykernel)",
   "language": "python",
   "name": "python3"
  },
  "language_info": {
   "codemirror_mode": {
    "name": "ipython",
    "version": 3
   },
   "file_extension": ".py",
   "mimetype": "text/x-python",
   "name": "python",
   "nbconvert_exporter": "python",
   "pygments_lexer": "ipython3",
   "version": "3.10.5"
  }
 },
 "nbformat": 4,
 "nbformat_minor": 5
}
