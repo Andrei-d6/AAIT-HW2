{
 "cells": [
  {
   "cell_type": "code",
   "execution_count": 1,
   "id": "abfde5d7",
   "metadata": {},
   "outputs": [],
   "source": [
    "from fastai.callback.mixup import *\n",
    "from fastai.vision.all import *\n",
    "\n",
    "from src.learner import get_learner_task2\n",
    "from src.utils import (\n",
    "    load_configuration,\n",
    "    create_submission,\n",
    "    save_clean_labels,\n",
    "    do_fit\n",
    ")"
   ]
  },
  {
   "cell_type": "markdown",
   "id": "1e0e0f90",
   "metadata": {},
   "source": [
    "# Initial train + Cleaning"
   ]
  },
  {
   "cell_type": "code",
   "execution_count": 2,
   "id": "5fd8d199",
   "metadata": {},
   "outputs": [],
   "source": [
    "config  = load_configuration('configs/config_task2_224.yml')\n",
    "learn = get_learner_task2(config)\n",
    "cbs = [MixUp()]"
   ]
  },
  {
   "cell_type": "code",
   "execution_count": 3,
   "id": "0d88aa54",
   "metadata": {},
   "outputs": [
    {
     "data": {
      "text/html": [
       "\n",
       "<style>\n",
       "    /* Turns off some styling */\n",
       "    progress {\n",
       "        /* gets rid of default border in Firefox and Opera. */\n",
       "        border: none;\n",
       "        /* Needs to be in here for Safari polyfill so background images work as expected. */\n",
       "        background-size: auto;\n",
       "    }\n",
       "    .progress-bar-interrupted, .progress-bar-interrupted::-webkit-progress-bar {\n",
       "        background: #F44336;\n",
       "    }\n",
       "</style>\n"
      ],
      "text/plain": [
       "<IPython.core.display.HTML object>"
      ]
     },
     "metadata": {},
     "output_type": "display_data"
    },
    {
     "data": {
      "text/html": [
       "<table border=\"1\" class=\"dataframe\">\n",
       "  <thead>\n",
       "    <tr style=\"text-align: left;\">\n",
       "      <th>epoch</th>\n",
       "      <th>train_loss</th>\n",
       "      <th>valid_loss</th>\n",
       "      <th>accuracy</th>\n",
       "      <th>top_k_accuracy</th>\n",
       "      <th>time</th>\n",
       "    </tr>\n",
       "  </thead>\n",
       "  <tbody>\n",
       "    <tr>\n",
       "      <td>0</td>\n",
       "      <td>3.290034</td>\n",
       "      <td>2.218958</td>\n",
       "      <td>0.574000</td>\n",
       "      <td>0.864100</td>\n",
       "      <td>04:24</td>\n",
       "    </tr>\n",
       "    <tr>\n",
       "      <td>1</td>\n",
       "      <td>3.061201</td>\n",
       "      <td>2.070771</td>\n",
       "      <td>0.606600</td>\n",
       "      <td>0.892900</td>\n",
       "      <td>04:22</td>\n",
       "    </tr>\n",
       "    <tr>\n",
       "      <td>2</td>\n",
       "      <td>2.979143</td>\n",
       "      <td>2.017712</td>\n",
       "      <td>0.614200</td>\n",
       "      <td>0.903100</td>\n",
       "      <td>04:23</td>\n",
       "    </tr>\n",
       "    <tr>\n",
       "      <td>3</td>\n",
       "      <td>2.972781</td>\n",
       "      <td>1.997989</td>\n",
       "      <td>0.614800</td>\n",
       "      <td>0.907300</td>\n",
       "      <td>04:23</td>\n",
       "    </tr>\n",
       "    <tr>\n",
       "      <td>4</td>\n",
       "      <td>2.950619</td>\n",
       "      <td>1.967613</td>\n",
       "      <td>0.627300</td>\n",
       "      <td>0.912900</td>\n",
       "      <td>04:22</td>\n",
       "    </tr>\n",
       "    <tr>\n",
       "      <td>5</td>\n",
       "      <td>2.886545</td>\n",
       "      <td>1.965593</td>\n",
       "      <td>0.626100</td>\n",
       "      <td>0.911800</td>\n",
       "      <td>04:22</td>\n",
       "    </tr>\n",
       "    <tr>\n",
       "      <td>6</td>\n",
       "      <td>2.889034</td>\n",
       "      <td>1.955934</td>\n",
       "      <td>0.631000</td>\n",
       "      <td>0.912600</td>\n",
       "      <td>04:21</td>\n",
       "    </tr>\n",
       "    <tr>\n",
       "      <td>7</td>\n",
       "      <td>2.845558</td>\n",
       "      <td>1.937659</td>\n",
       "      <td>0.630400</td>\n",
       "      <td>0.916900</td>\n",
       "      <td>04:21</td>\n",
       "    </tr>\n",
       "    <tr>\n",
       "      <td>8</td>\n",
       "      <td>2.833878</td>\n",
       "      <td>1.901422</td>\n",
       "      <td>0.643300</td>\n",
       "      <td>0.921700</td>\n",
       "      <td>04:22</td>\n",
       "    </tr>\n",
       "    <tr>\n",
       "      <td>9</td>\n",
       "      <td>2.787606</td>\n",
       "      <td>1.888829</td>\n",
       "      <td>0.646700</td>\n",
       "      <td>0.923200</td>\n",
       "      <td>04:21</td>\n",
       "    </tr>\n",
       "  </tbody>\n",
       "</table>"
      ],
      "text/plain": [
       "<IPython.core.display.HTML object>"
      ]
     },
     "metadata": {},
     "output_type": "display_data"
    },
    {
     "name": "stdout",
     "output_type": "stream",
     "text": [
      "Better model found at epoch 0 with valid_loss value: 2.2189576625823975.\n",
      "Better model found at epoch 1 with valid_loss value: 2.0707709789276123.\n",
      "Better model found at epoch 2 with valid_loss value: 2.017711639404297.\n",
      "Better model found at epoch 3 with valid_loss value: 1.997989296913147.\n",
      "Better model found at epoch 4 with valid_loss value: 1.9676131010055542.\n",
      "Better model found at epoch 5 with valid_loss value: 1.9655927419662476.\n",
      "Better model found at epoch 6 with valid_loss value: 1.9559344053268433.\n",
      "Better model found at epoch 7 with valid_loss value: 1.9376587867736816.\n",
      "Better model found at epoch 8 with valid_loss value: 1.9014222621917725.\n",
      "Better model found at epoch 9 with valid_loss value: 1.8888287544250488.\n"
     ]
    }
   ],
   "source": [
    "do_fit(learn, 'task2_resnet50', epochs=10, lr=1e-3, pct_start=0.75, cbs=cbs)"
   ]
  },
  {
   "cell_type": "code",
   "execution_count": 3,
   "id": "40d2c300",
   "metadata": {},
   "outputs": [
    {
     "data": {
      "text/plain": [
       "<fastai.learner.Learner at 0x23aeb44da50>"
      ]
     },
     "execution_count": 3,
     "metadata": {},
     "output_type": "execute_result"
    }
   ],
   "source": [
    "learn.load('task2_resnet50')"
   ]
  },
  {
   "cell_type": "code",
   "execution_count": 4,
   "id": "7ec9ff84",
   "metadata": {},
   "outputs": [],
   "source": [
    "learn.unfreeze()"
   ]
  },
  {
   "cell_type": "code",
   "execution_count": 5,
   "id": "dd4882ed",
   "metadata": {},
   "outputs": [
    {
     "data": {
      "text/html": [
       "\n",
       "<style>\n",
       "    /* Turns off some styling */\n",
       "    progress {\n",
       "        /* gets rid of default border in Firefox and Opera. */\n",
       "        border: none;\n",
       "        /* Needs to be in here for Safari polyfill so background images work as expected. */\n",
       "        background-size: auto;\n",
       "    }\n",
       "    .progress-bar-interrupted, .progress-bar-interrupted::-webkit-progress-bar {\n",
       "        background: #F44336;\n",
       "    }\n",
       "</style>\n"
      ],
      "text/plain": [
       "<IPython.core.display.HTML object>"
      ]
     },
     "metadata": {},
     "output_type": "display_data"
    },
    {
     "data": {
      "text/html": [
       "<table border=\"1\" class=\"dataframe\">\n",
       "  <thead>\n",
       "    <tr style=\"text-align: left;\">\n",
       "      <th>epoch</th>\n",
       "      <th>train_loss</th>\n",
       "      <th>valid_loss</th>\n",
       "      <th>accuracy</th>\n",
       "      <th>top_k_accuracy</th>\n",
       "      <th>time</th>\n",
       "    </tr>\n",
       "  </thead>\n",
       "  <tbody>\n",
       "    <tr>\n",
       "      <td>0</td>\n",
       "      <td>2.712714</td>\n",
       "      <td>1.877953</td>\n",
       "      <td>0.650600</td>\n",
       "      <td>0.925300</td>\n",
       "      <td>05:13</td>\n",
       "    </tr>\n",
       "    <tr>\n",
       "      <td>1</td>\n",
       "      <td>2.639484</td>\n",
       "      <td>1.861825</td>\n",
       "      <td>0.649800</td>\n",
       "      <td>0.928800</td>\n",
       "      <td>05:15</td>\n",
       "    </tr>\n",
       "    <tr>\n",
       "      <td>2</td>\n",
       "      <td>2.603803</td>\n",
       "      <td>1.851239</td>\n",
       "      <td>0.655300</td>\n",
       "      <td>0.930600</td>\n",
       "      <td>05:11</td>\n",
       "    </tr>\n",
       "    <tr>\n",
       "      <td>3</td>\n",
       "      <td>2.605401</td>\n",
       "      <td>1.848106</td>\n",
       "      <td>0.654600</td>\n",
       "      <td>0.930000</td>\n",
       "      <td>05:12</td>\n",
       "    </tr>\n",
       "    <tr>\n",
       "      <td>4</td>\n",
       "      <td>2.575114</td>\n",
       "      <td>1.838914</td>\n",
       "      <td>0.657000</td>\n",
       "      <td>0.933600</td>\n",
       "      <td>05:13</td>\n",
       "    </tr>\n",
       "  </tbody>\n",
       "</table>"
      ],
      "text/plain": [
       "<IPython.core.display.HTML object>"
      ]
     },
     "metadata": {},
     "output_type": "display_data"
    },
    {
     "name": "stdout",
     "output_type": "stream",
     "text": [
      "Better model found at epoch 0 with valid_loss value: 1.8779529333114624.\n",
      "Better model found at epoch 1 with valid_loss value: 1.8618253469467163.\n",
      "Better model found at epoch 2 with valid_loss value: 1.8512388467788696.\n",
      "Better model found at epoch 3 with valid_loss value: 1.8481056690216064.\n",
      "Better model found at epoch 4 with valid_loss value: 1.8389140367507935.\n"
     ]
    }
   ],
   "source": [
    "do_fit(learn, 'task2_resnet50_unfrozen', epochs=5, lr=1e-5, pct_start=0.75, cbs=cbs)"
   ]
  },
  {
   "cell_type": "code",
   "execution_count": 6,
   "id": "14bf2e12",
   "metadata": {},
   "outputs": [
    {
     "data": {
      "text/html": [
       "\n",
       "<style>\n",
       "    /* Turns off some styling */\n",
       "    progress {\n",
       "        /* gets rid of default border in Firefox and Opera. */\n",
       "        border: none;\n",
       "        /* Needs to be in here for Safari polyfill so background images work as expected. */\n",
       "        background-size: auto;\n",
       "    }\n",
       "    .progress-bar-interrupted, .progress-bar-interrupted::-webkit-progress-bar {\n",
       "        background: #F44336;\n",
       "    }\n",
       "</style>\n"
      ],
      "text/plain": [
       "<IPython.core.display.HTML object>"
      ]
     },
     "metadata": {},
     "output_type": "display_data"
    },
    {
     "data": {
      "text/html": [],
      "text/plain": [
       "<IPython.core.display.HTML object>"
      ]
     },
     "metadata": {},
     "output_type": "display_data"
    },
    {
     "name": "stdout",
     "output_type": "stream",
     "text": [
      "CPU times: total: 15min 55s\n",
      "Wall time: 2min 55s\n"
     ]
    }
   ],
   "source": [
    "%time save_clean_labels(learn, config)"
   ]
  },
  {
   "cell_type": "markdown",
   "id": "603eb693",
   "metadata": {},
   "source": [
    "# Training with cleaned labels "
   ]
  },
  {
   "cell_type": "code",
   "execution_count": 2,
   "id": "945e2c49",
   "metadata": {},
   "outputs": [],
   "source": [
    "config  = load_configuration('configs/config_task2_224_clean.yml')\n",
    "learn = get_learner_task2(config)\n",
    "cbs = [MixUp()]"
   ]
  },
  {
   "cell_type": "code",
   "execution_count": 3,
   "id": "16a993bb",
   "metadata": {},
   "outputs": [
    {
     "data": {
      "text/plain": [
       "40785"
      ]
     },
     "execution_count": 3,
     "metadata": {},
     "output_type": "execute_result"
    }
   ],
   "source": [
    "learn.dls.train.n + learn.dls.valid.n"
   ]
  },
  {
   "cell_type": "code",
   "execution_count": 4,
   "id": "558e2eba",
   "metadata": {},
   "outputs": [
    {
     "data": {
      "text/html": [
       "\n",
       "<style>\n",
       "    /* Turns off some styling */\n",
       "    progress {\n",
       "        /* gets rid of default border in Firefox and Opera. */\n",
       "        border: none;\n",
       "        /* Needs to be in here for Safari polyfill so background images work as expected. */\n",
       "        background-size: auto;\n",
       "    }\n",
       "    .progress-bar-interrupted, .progress-bar-interrupted::-webkit-progress-bar {\n",
       "        background: #F44336;\n",
       "    }\n",
       "</style>\n"
      ],
      "text/plain": [
       "<IPython.core.display.HTML object>"
      ]
     },
     "metadata": {},
     "output_type": "display_data"
    },
    {
     "data": {
      "text/html": [
       "<table border=\"1\" class=\"dataframe\">\n",
       "  <thead>\n",
       "    <tr style=\"text-align: left;\">\n",
       "      <th>epoch</th>\n",
       "      <th>train_loss</th>\n",
       "      <th>valid_loss</th>\n",
       "      <th>accuracy</th>\n",
       "      <th>top_k_accuracy</th>\n",
       "      <th>time</th>\n",
       "    </tr>\n",
       "  </thead>\n",
       "  <tbody>\n",
       "    <tr>\n",
       "      <td>0</td>\n",
       "      <td>3.205650</td>\n",
       "      <td>1.869166</td>\n",
       "      <td>0.713743</td>\n",
       "      <td>0.896776</td>\n",
       "      <td>03:27</td>\n",
       "    </tr>\n",
       "    <tr>\n",
       "      <td>1</td>\n",
       "      <td>2.947233</td>\n",
       "      <td>1.759174</td>\n",
       "      <td>0.738997</td>\n",
       "      <td>0.904131</td>\n",
       "      <td>03:24</td>\n",
       "    </tr>\n",
       "    <tr>\n",
       "      <td>2</td>\n",
       "      <td>2.816493</td>\n",
       "      <td>1.697239</td>\n",
       "      <td>0.754199</td>\n",
       "      <td>0.917004</td>\n",
       "      <td>03:24</td>\n",
       "    </tr>\n",
       "    <tr>\n",
       "      <td>3</td>\n",
       "      <td>2.764798</td>\n",
       "      <td>1.658849</td>\n",
       "      <td>0.761064</td>\n",
       "      <td>0.922521</td>\n",
       "      <td>03:23</td>\n",
       "    </tr>\n",
       "    <tr>\n",
       "      <td>4</td>\n",
       "      <td>2.738062</td>\n",
       "      <td>1.629439</td>\n",
       "      <td>0.766213</td>\n",
       "      <td>0.923501</td>\n",
       "      <td>03:23</td>\n",
       "    </tr>\n",
       "    <tr>\n",
       "      <td>5</td>\n",
       "      <td>2.689612</td>\n",
       "      <td>1.613992</td>\n",
       "      <td>0.775653</td>\n",
       "      <td>0.923624</td>\n",
       "      <td>03:22</td>\n",
       "    </tr>\n",
       "    <tr>\n",
       "      <td>6</td>\n",
       "      <td>2.656112</td>\n",
       "      <td>1.592184</td>\n",
       "      <td>0.779453</td>\n",
       "      <td>0.928650</td>\n",
       "      <td>03:22</td>\n",
       "    </tr>\n",
       "    <tr>\n",
       "      <td>7</td>\n",
       "      <td>2.662449</td>\n",
       "      <td>1.597839</td>\n",
       "      <td>0.782641</td>\n",
       "      <td>0.924972</td>\n",
       "      <td>03:22</td>\n",
       "    </tr>\n",
       "    <tr>\n",
       "      <td>8</td>\n",
       "      <td>2.639916</td>\n",
       "      <td>1.587357</td>\n",
       "      <td>0.782886</td>\n",
       "      <td>0.926934</td>\n",
       "      <td>03:22</td>\n",
       "    </tr>\n",
       "    <tr>\n",
       "      <td>9</td>\n",
       "      <td>2.650651</td>\n",
       "      <td>1.566705</td>\n",
       "      <td>0.789874</td>\n",
       "      <td>0.933554</td>\n",
       "      <td>03:22</td>\n",
       "    </tr>\n",
       "    <tr>\n",
       "      <td>10</td>\n",
       "      <td>2.621753</td>\n",
       "      <td>1.584631</td>\n",
       "      <td>0.781660</td>\n",
       "      <td>0.926689</td>\n",
       "      <td>03:22</td>\n",
       "    </tr>\n",
       "    <tr>\n",
       "      <td>11</td>\n",
       "      <td>2.574069</td>\n",
       "      <td>1.565129</td>\n",
       "      <td>0.785338</td>\n",
       "      <td>0.931715</td>\n",
       "      <td>03:22</td>\n",
       "    </tr>\n",
       "    <tr>\n",
       "      <td>12</td>\n",
       "      <td>2.566144</td>\n",
       "      <td>1.532877</td>\n",
       "      <td>0.797720</td>\n",
       "      <td>0.934290</td>\n",
       "      <td>03:22</td>\n",
       "    </tr>\n",
       "    <tr>\n",
       "      <td>13</td>\n",
       "      <td>2.549048</td>\n",
       "      <td>1.508568</td>\n",
       "      <td>0.806792</td>\n",
       "      <td>0.938458</td>\n",
       "      <td>03:22</td>\n",
       "    </tr>\n",
       "    <tr>\n",
       "      <td>14</td>\n",
       "      <td>2.506414</td>\n",
       "      <td>1.507139</td>\n",
       "      <td>0.805443</td>\n",
       "      <td>0.937845</td>\n",
       "      <td>03:23</td>\n",
       "    </tr>\n",
       "  </tbody>\n",
       "</table>"
      ],
      "text/plain": [
       "<IPython.core.display.HTML object>"
      ]
     },
     "metadata": {},
     "output_type": "display_data"
    },
    {
     "name": "stdout",
     "output_type": "stream",
     "text": [
      "Better model found at epoch 0 with valid_loss value: 1.869166374206543.\n",
      "Better model found at epoch 1 with valid_loss value: 1.7591744661331177.\n",
      "Better model found at epoch 2 with valid_loss value: 1.6972391605377197.\n",
      "Better model found at epoch 3 with valid_loss value: 1.658848524093628.\n",
      "Better model found at epoch 4 with valid_loss value: 1.629439353942871.\n",
      "Better model found at epoch 5 with valid_loss value: 1.61399245262146.\n",
      "Better model found at epoch 6 with valid_loss value: 1.5921838283538818.\n",
      "Better model found at epoch 8 with valid_loss value: 1.5873574018478394.\n",
      "Better model found at epoch 9 with valid_loss value: 1.5667052268981934.\n",
      "Better model found at epoch 11 with valid_loss value: 1.5651285648345947.\n",
      "Better model found at epoch 12 with valid_loss value: 1.53287672996521.\n",
      "Better model found at epoch 13 with valid_loss value: 1.5085675716400146.\n",
      "Better model found at epoch 14 with valid_loss value: 1.5071388483047485.\n"
     ]
    }
   ],
   "source": [
    "do_fit(learn, 'task2_resnet50_clean', epochs=15, lr=1e-3, pct_start=0.75, cbs=cbs)"
   ]
  },
  {
   "cell_type": "code",
   "execution_count": 5,
   "id": "559bd62d",
   "metadata": {},
   "outputs": [],
   "source": [
    "learn.unfreeze()"
   ]
  },
  {
   "cell_type": "code",
   "execution_count": 6,
   "id": "13b85fba",
   "metadata": {},
   "outputs": [
    {
     "data": {
      "text/html": [
       "\n",
       "<style>\n",
       "    /* Turns off some styling */\n",
       "    progress {\n",
       "        /* gets rid of default border in Firefox and Opera. */\n",
       "        border: none;\n",
       "        /* Needs to be in here for Safari polyfill so background images work as expected. */\n",
       "        background-size: auto;\n",
       "    }\n",
       "    .progress-bar-interrupted, .progress-bar-interrupted::-webkit-progress-bar {\n",
       "        background: #F44336;\n",
       "    }\n",
       "</style>\n"
      ],
      "text/plain": [
       "<IPython.core.display.HTML object>"
      ]
     },
     "metadata": {},
     "output_type": "display_data"
    },
    {
     "data": {
      "text/html": [],
      "text/plain": [
       "<IPython.core.display.HTML object>"
      ]
     },
     "metadata": {},
     "output_type": "display_data"
    },
    {
     "data": {
      "text/plain": [
       "SuggestedLRs(valley=5.248074739938602e-05)"
      ]
     },
     "execution_count": 6,
     "metadata": {},
     "output_type": "execute_result"
    },
    {
     "data": {
      "image/png": "[encoded data removed]",
      "text/plain": [
       "<Figure size 432x288 with 1 Axes>"
      ]
     },
     "metadata": {
      "needs_background": "light"
     },
     "output_type": "display_data"
    }
   ],
   "source": [
    "learn.lr_find()"
   ]
  },
  {
   "cell_type": "code",
   "execution_count": 7,
   "id": "2a05f7b7",
   "metadata": {},
   "outputs": [
    {
     "data": {
      "text/html": [
       "\n",
       "<style>\n",
       "    /* Turns off some styling */\n",
       "    progress {\n",
       "        /* gets rid of default border in Firefox and Opera. */\n",
       "        border: none;\n",
       "        /* Needs to be in here for Safari polyfill so background images work as expected. */\n",
       "        background-size: auto;\n",
       "    }\n",
       "    .progress-bar-interrupted, .progress-bar-interrupted::-webkit-progress-bar {\n",
       "        background: #F44336;\n",
       "    }\n",
       "</style>\n"
      ],
      "text/plain": [
       "<IPython.core.display.HTML object>"
      ]
     },
     "metadata": {},
     "output_type": "display_data"
    },
    {
     "data": {
      "text/html": [
       "<table border=\"1\" class=\"dataframe\">\n",
       "  <thead>\n",
       "    <tr style=\"text-align: left;\">\n",
       "      <th>epoch</th>\n",
       "      <th>train_loss</th>\n",
       "      <th>valid_loss</th>\n",
       "      <th>accuracy</th>\n",
       "      <th>top_k_accuracy</th>\n",
       "      <th>time</th>\n",
       "    </tr>\n",
       "  </thead>\n",
       "  <tbody>\n",
       "    <tr>\n",
       "      <td>0</td>\n",
       "      <td>2.497872</td>\n",
       "      <td>1.499305</td>\n",
       "      <td>0.808631</td>\n",
       "      <td>0.937722</td>\n",
       "      <td>04:08</td>\n",
       "    </tr>\n",
       "    <tr>\n",
       "      <td>1</td>\n",
       "      <td>2.438420</td>\n",
       "      <td>1.489096</td>\n",
       "      <td>0.807650</td>\n",
       "      <td>0.938948</td>\n",
       "      <td>04:06</td>\n",
       "    </tr>\n",
       "    <tr>\n",
       "      <td>2</td>\n",
       "      <td>2.445873</td>\n",
       "      <td>1.477443</td>\n",
       "      <td>0.812431</td>\n",
       "      <td>0.939929</td>\n",
       "      <td>04:06</td>\n",
       "    </tr>\n",
       "    <tr>\n",
       "      <td>3</td>\n",
       "      <td>2.430301</td>\n",
       "      <td>1.471180</td>\n",
       "      <td>0.813657</td>\n",
       "      <td>0.940787</td>\n",
       "      <td>04:06</td>\n",
       "    </tr>\n",
       "    <tr>\n",
       "      <td>4</td>\n",
       "      <td>2.411537</td>\n",
       "      <td>1.468213</td>\n",
       "      <td>0.819419</td>\n",
       "      <td>0.940174</td>\n",
       "      <td>04:06</td>\n",
       "    </tr>\n",
       "    <tr>\n",
       "      <td>5</td>\n",
       "      <td>2.411072</td>\n",
       "      <td>1.459472</td>\n",
       "      <td>0.818806</td>\n",
       "      <td>0.941032</td>\n",
       "      <td>04:06</td>\n",
       "    </tr>\n",
       "    <tr>\n",
       "      <td>6</td>\n",
       "      <td>2.386423</td>\n",
       "      <td>1.461351</td>\n",
       "      <td>0.816354</td>\n",
       "      <td>0.940419</td>\n",
       "      <td>04:06</td>\n",
       "    </tr>\n",
       "    <tr>\n",
       "      <td>7</td>\n",
       "      <td>2.379391</td>\n",
       "      <td>1.455381</td>\n",
       "      <td>0.818316</td>\n",
       "      <td>0.939806</td>\n",
       "      <td>04:06</td>\n",
       "    </tr>\n",
       "    <tr>\n",
       "      <td>8</td>\n",
       "      <td>2.333617</td>\n",
       "      <td>1.445452</td>\n",
       "      <td>0.823097</td>\n",
       "      <td>0.942136</td>\n",
       "      <td>04:06</td>\n",
       "    </tr>\n",
       "    <tr>\n",
       "      <td>9</td>\n",
       "      <td>2.336682</td>\n",
       "      <td>1.442323</td>\n",
       "      <td>0.823097</td>\n",
       "      <td>0.942381</td>\n",
       "      <td>04:06</td>\n",
       "    </tr>\n",
       "  </tbody>\n",
       "</table>"
      ],
      "text/plain": [
       "<IPython.core.display.HTML object>"
      ]
     },
     "metadata": {},
     "output_type": "display_data"
    },
    {
     "name": "stdout",
     "output_type": "stream",
     "text": [
      "Better model found at epoch 0 with valid_loss value: 1.4993046522140503.\n",
      "Better model found at epoch 1 with valid_loss value: 1.4890955686569214.\n",
      "Better model found at epoch 2 with valid_loss value: 1.4774428606033325.\n",
      "Better model found at epoch 3 with valid_loss value: 1.4711798429489136.\n",
      "Better model found at epoch 4 with valid_loss value: 1.4682130813598633.\n",
      "Better model found at epoch 5 with valid_loss value: 1.4594720602035522.\n",
      "Better model found at epoch 7 with valid_loss value: 1.4553807973861694.\n",
      "Better model found at epoch 8 with valid_loss value: 1.4454518556594849.\n",
      "Better model found at epoch 9 with valid_loss value: 1.4423234462738037.\n"
     ]
    }
   ],
   "source": [
    "do_fit(\n",
    "    learn, \n",
    "    'task2_resnet50_unfrozen_clean', \n",
    "    epochs=10, \n",
    "    lr=1e-5, \n",
    "    pct_start=0.75, \n",
    "    cbs=cbs,\n",
    "    save_state_dict=True\n",
    ")"
   ]
  },
  {
   "cell_type": "markdown",
   "id": "e61a14e8",
   "metadata": {},
   "source": [
    "# Creating the submission "
   ]
  },
  {
   "cell_type": "code",
   "execution_count": 2,
   "id": "8f57f64d",
   "metadata": {},
   "outputs": [
    {
     "data": {
      "text/html": [
       "\n",
       "<style>\n",
       "    /* Turns off some styling */\n",
       "    progress {\n",
       "        /* gets rid of default border in Firefox and Opera. */\n",
       "        border: none;\n",
       "        /* Needs to be in here for Safari polyfill so background images work as expected. */\n",
       "        background-size: auto;\n",
       "    }\n",
       "    .progress-bar-interrupted, .progress-bar-interrupted::-webkit-progress-bar {\n",
       "        background: #F44336;\n",
       "    }\n",
       "</style>\n"
      ],
      "text/plain": [
       "<IPython.core.display.HTML object>"
      ]
     },
     "metadata": {},
     "output_type": "display_data"
    },
    {
     "data": {
      "text/html": [],
      "text/plain": [
       "<IPython.core.display.HTML object>"
      ]
     },
     "metadata": {},
     "output_type": "display_data"
    },
    {
     "name": "stdout",
     "output_type": "stream",
     "text": [
      "CPU times: total: 1min 7s\n",
      "Wall time: 18.8 s\n"
     ]
    }
   ],
   "source": [
    "%%time\n",
    "\n",
    "create_submission(\n",
    "    path_learn='task2_resnet50_unfrozen_clean.pkl',\n",
    "    path_test_images='data/task2/val_data',\n",
    "    submission_name='task2.csv'\n",
    ")"
   ]
  },
  {
   "cell_type": "code",
   "execution_count": null,
   "id": "0df24384",
   "metadata": {},
   "outputs": [],
   "source": []
  }
 ],
 "metadata": {
  "kernelspec": {
   "display_name": "Python 3 (ipykernel)",
   "language": "python",
   "name": "python3"
  },
  "language_info": {
   "codemirror_mode": {
    "name": "ipython",
    "version": 3
   },
   "file_extension": ".py",
   "mimetype": "text/x-python",
   "name": "python",
   "nbconvert_exporter": "python",
   "pygments_lexer": "ipython3",
   "version": "3.10.5"
  }
 },
 "nbformat": 4,
 "nbformat_minor": 5
}
