{
 "cells": [
  {
   "cell_type": "code",
   "execution_count": 1,
   "id": "4d537e37",
   "metadata": {},
   "outputs": [],
   "source": [
    "from fastai.callback.mixup import *\n",
    "from fastai.vision.all import *\n",
    "\n",
    "from src.learner import get_learner_task2\n",
    "from src.utils import (\n",
    "    load_configuration,\n",
    "    create_submission,\n",
    "    save_clean_labels,\n",
    "    do_fit\n",
    ")"
   ]
  },
  {
   "cell_type": "code",
   "execution_count": 2,
   "id": "b6515285",
   "metadata": {},
   "outputs": [],
   "source": [
    "import warnings\n",
    "warnings.filterwarnings('ignore')"
   ]
  },
  {
   "cell_type": "markdown",
   "id": "deababdc",
   "metadata": {},
   "source": [
    "# Initial train + Cleaning "
   ]
  },
  {
   "cell_type": "code",
   "execution_count": 3,
   "id": "35020eba",
   "metadata": {},
   "outputs": [],
   "source": [
    "config  = load_configuration('configs/config_task2_224.yml')\n",
    "learn = get_learner_task2(config)\n",
    "cbs = [MixUp()]"
   ]
  },
  {
   "cell_type": "code",
   "execution_count": 4,
   "id": "8032739a",
   "metadata": {},
   "outputs": [
    {
     "data": {
      "text/html": [
       "\n",
       "<style>\n",
       "    /* Turns off some styling */\n",
       "    progress {\n",
       "        /* gets rid of default border in Firefox and Opera. */\n",
       "        border: none;\n",
       "        /* Needs to be in here for Safari polyfill so background images work as expected. */\n",
       "        background-size: auto;\n",
       "    }\n",
       "    .progress-bar-interrupted, .progress-bar-interrupted::-webkit-progress-bar {\n",
       "        background: #F44336;\n",
       "    }\n",
       "</style>\n"
      ],
      "text/plain": [
       "<IPython.core.display.HTML object>"
      ]
     },
     "metadata": {},
     "output_type": "display_data"
    },
    {
     "data": {
      "text/html": [
       "<table border=\"1\" class=\"dataframe\">\n",
       "  <thead>\n",
       "    <tr style=\"text-align: left;\">\n",
       "      <th>epoch</th>\n",
       "      <th>train_loss</th>\n",
       "      <th>valid_loss</th>\n",
       "      <th>accuracy</th>\n",
       "      <th>top_k_accuracy</th>\n",
       "      <th>time</th>\n",
       "    </tr>\n",
       "  </thead>\n",
       "  <tbody>\n",
       "    <tr>\n",
       "      <td>0</td>\n",
       "      <td>3.360296</td>\n",
       "      <td>2.193752</td>\n",
       "      <td>0.593400</td>\n",
       "      <td>0.865600</td>\n",
       "      <td>04:47</td>\n",
       "    </tr>\n",
       "    <tr>\n",
       "      <td>1</td>\n",
       "      <td>3.037382</td>\n",
       "      <td>1.981979</td>\n",
       "      <td>0.626000</td>\n",
       "      <td>0.905900</td>\n",
       "      <td>04:13</td>\n",
       "    </tr>\n",
       "    <tr>\n",
       "      <td>2</td>\n",
       "      <td>2.925690</td>\n",
       "      <td>1.887254</td>\n",
       "      <td>0.647200</td>\n",
       "      <td>0.920200</td>\n",
       "      <td>04:16</td>\n",
       "    </tr>\n",
       "    <tr>\n",
       "      <td>3</td>\n",
       "      <td>2.896747</td>\n",
       "      <td>1.862286</td>\n",
       "      <td>0.650600</td>\n",
       "      <td>0.924000</td>\n",
       "      <td>04:22</td>\n",
       "    </tr>\n",
       "    <tr>\n",
       "      <td>4</td>\n",
       "      <td>2.851184</td>\n",
       "      <td>1.819118</td>\n",
       "      <td>0.659800</td>\n",
       "      <td>0.929400</td>\n",
       "      <td>04:19</td>\n",
       "    </tr>\n",
       "    <tr>\n",
       "      <td>5</td>\n",
       "      <td>2.781368</td>\n",
       "      <td>1.800671</td>\n",
       "      <td>0.667200</td>\n",
       "      <td>0.933900</td>\n",
       "      <td>04:18</td>\n",
       "    </tr>\n",
       "    <tr>\n",
       "      <td>6</td>\n",
       "      <td>2.778227</td>\n",
       "      <td>1.793582</td>\n",
       "      <td>0.666600</td>\n",
       "      <td>0.934500</td>\n",
       "      <td>04:20</td>\n",
       "    </tr>\n",
       "    <tr>\n",
       "      <td>7</td>\n",
       "      <td>2.743247</td>\n",
       "      <td>1.776559</td>\n",
       "      <td>0.668300</td>\n",
       "      <td>0.934600</td>\n",
       "      <td>04:14</td>\n",
       "    </tr>\n",
       "    <tr>\n",
       "      <td>8</td>\n",
       "      <td>2.749990</td>\n",
       "      <td>1.771338</td>\n",
       "      <td>0.672300</td>\n",
       "      <td>0.937100</td>\n",
       "      <td>04:13</td>\n",
       "    </tr>\n",
       "    <tr>\n",
       "      <td>9</td>\n",
       "      <td>2.731632</td>\n",
       "      <td>1.770329</td>\n",
       "      <td>0.669500</td>\n",
       "      <td>0.935800</td>\n",
       "      <td>04:15</td>\n",
       "    </tr>\n",
       "    <tr>\n",
       "      <td>10</td>\n",
       "      <td>2.702888</td>\n",
       "      <td>1.772433</td>\n",
       "      <td>0.669500</td>\n",
       "      <td>0.938500</td>\n",
       "      <td>04:15</td>\n",
       "    </tr>\n",
       "    <tr>\n",
       "      <td>11</td>\n",
       "      <td>2.709512</td>\n",
       "      <td>1.755895</td>\n",
       "      <td>0.673200</td>\n",
       "      <td>0.938800</td>\n",
       "      <td>04:14</td>\n",
       "    </tr>\n",
       "    <tr>\n",
       "      <td>12</td>\n",
       "      <td>2.684003</td>\n",
       "      <td>1.748550</td>\n",
       "      <td>0.675600</td>\n",
       "      <td>0.938900</td>\n",
       "      <td>04:15</td>\n",
       "    </tr>\n",
       "    <tr>\n",
       "      <td>13</td>\n",
       "      <td>2.622163</td>\n",
       "      <td>1.740636</td>\n",
       "      <td>0.676300</td>\n",
       "      <td>0.939300</td>\n",
       "      <td>04:15</td>\n",
       "    </tr>\n",
       "    <tr>\n",
       "      <td>14</td>\n",
       "      <td>2.649355</td>\n",
       "      <td>1.733726</td>\n",
       "      <td>0.679400</td>\n",
       "      <td>0.940000</td>\n",
       "      <td>04:17</td>\n",
       "    </tr>\n",
       "  </tbody>\n",
       "</table>"
      ],
      "text/plain": [
       "<IPython.core.display.HTML object>"
      ]
     },
     "metadata": {},
     "output_type": "display_data"
    },
    {
     "name": "stdout",
     "output_type": "stream",
     "text": [
      "Better model found at epoch 0 with valid_loss value: 2.193751573562622.\n",
      "Better model found at epoch 1 with valid_loss value: 1.9819791316986084.\n",
      "Better model found at epoch 2 with valid_loss value: 1.887253761291504.\n",
      "Better model found at epoch 3 with valid_loss value: 1.8622857332229614.\n",
      "Better model found at epoch 4 with valid_loss value: 1.8191183805465698.\n",
      "Better model found at epoch 5 with valid_loss value: 1.800670862197876.\n",
      "Better model found at epoch 6 with valid_loss value: 1.7935822010040283.\n",
      "Better model found at epoch 7 with valid_loss value: 1.776558756828308.\n",
      "Better model found at epoch 8 with valid_loss value: 1.7713382244110107.\n",
      "Better model found at epoch 9 with valid_loss value: 1.7703288793563843.\n",
      "Better model found at epoch 11 with valid_loss value: 1.7558952569961548.\n",
      "Better model found at epoch 12 with valid_loss value: 1.7485498189926147.\n",
      "Better model found at epoch 13 with valid_loss value: 1.7406355142593384.\n",
      "Better model found at epoch 14 with valid_loss value: 1.7337255477905273.\n"
     ]
    }
   ],
   "source": [
    "do_fit(learn, 'task2_resnet50', epochs=15, lr=1e-3, pct_start=0.75, cbs=cbs)"
   ]
  },
  {
   "cell_type": "code",
   "execution_count": 5,
   "id": "587f7071",
   "metadata": {},
   "outputs": [],
   "source": [
    "learn.unfreeze()"
   ]
  },
  {
   "cell_type": "code",
   "execution_count": 6,
   "id": "6e0e46fa",
   "metadata": {},
   "outputs": [
    {
     "data": {
      "text/html": [
       "\n",
       "<style>\n",
       "    /* Turns off some styling */\n",
       "    progress {\n",
       "        /* gets rid of default border in Firefox and Opera. */\n",
       "        border: none;\n",
       "        /* Needs to be in here for Safari polyfill so background images work as expected. */\n",
       "        background-size: auto;\n",
       "    }\n",
       "    .progress-bar-interrupted, .progress-bar-interrupted::-webkit-progress-bar {\n",
       "        background: #F44336;\n",
       "    }\n",
       "</style>\n"
      ],
      "text/plain": [
       "<IPython.core.display.HTML object>"
      ]
     },
     "metadata": {},
     "output_type": "display_data"
    },
    {
     "data": {
      "text/html": [
       "<table border=\"1\" class=\"dataframe\">\n",
       "  <thead>\n",
       "    <tr style=\"text-align: left;\">\n",
       "      <th>epoch</th>\n",
       "      <th>train_loss</th>\n",
       "      <th>valid_loss</th>\n",
       "      <th>accuracy</th>\n",
       "      <th>top_k_accuracy</th>\n",
       "      <th>time</th>\n",
       "    </tr>\n",
       "  </thead>\n",
       "  <tbody>\n",
       "    <tr>\n",
       "      <td>0</td>\n",
       "      <td>1.963688</td>\n",
       "      <td>1.731988</td>\n",
       "      <td>0.681200</td>\n",
       "      <td>0.942000</td>\n",
       "      <td>04:58</td>\n",
       "    </tr>\n",
       "    <tr>\n",
       "      <td>1</td>\n",
       "      <td>1.908646</td>\n",
       "      <td>1.719487</td>\n",
       "      <td>0.682300</td>\n",
       "      <td>0.944000</td>\n",
       "      <td>05:07</td>\n",
       "    </tr>\n",
       "    <tr>\n",
       "      <td>2</td>\n",
       "      <td>1.935514</td>\n",
       "      <td>1.699053</td>\n",
       "      <td>0.684500</td>\n",
       "      <td>0.945100</td>\n",
       "      <td>05:10</td>\n",
       "    </tr>\n",
       "  </tbody>\n",
       "</table>"
      ],
      "text/plain": [
       "<IPython.core.display.HTML object>"
      ]
     },
     "metadata": {},
     "output_type": "display_data"
    },
    {
     "name": "stdout",
     "output_type": "stream",
     "text": [
      "Better model found at epoch 0 with valid_loss value: 1.731987714767456.\n",
      "Better model found at epoch 1 with valid_loss value: 1.7194873094558716.\n",
      "Better model found at epoch 2 with valid_loss value: 1.699053168296814.\n"
     ]
    }
   ],
   "source": [
    "do_fit(learn, 'task2_resnet50_unfrozen', epochs=3, lr=1e-5, fit_type='one_cycle')"
   ]
  },
  {
   "cell_type": "code",
   "execution_count": 7,
   "id": "62cfad68",
   "metadata": {},
   "outputs": [
    {
     "data": {
      "text/html": [
       "\n",
       "<style>\n",
       "    /* Turns off some styling */\n",
       "    progress {\n",
       "        /* gets rid of default border in Firefox and Opera. */\n",
       "        border: none;\n",
       "        /* Needs to be in here for Safari polyfill so background images work as expected. */\n",
       "        background-size: auto;\n",
       "    }\n",
       "    .progress-bar-interrupted, .progress-bar-interrupted::-webkit-progress-bar {\n",
       "        background: #F44336;\n",
       "    }\n",
       "</style>\n"
      ],
      "text/plain": [
       "<IPython.core.display.HTML object>"
      ]
     },
     "metadata": {},
     "output_type": "display_data"
    },
    {
     "data": {
      "text/html": [],
      "text/plain": [
       "<IPython.core.display.HTML object>"
      ]
     },
     "metadata": {},
     "output_type": "display_data"
    },
    {
     "name": "stdout",
     "output_type": "stream",
     "text": [
      "CPU times: total: 12min 6s\n",
      "Wall time: 2min 59s\n"
     ]
    }
   ],
   "source": [
    "%time save_clean_labels(learn, config)"
   ]
  },
  {
   "cell_type": "markdown",
   "id": "08ffdbe5",
   "metadata": {},
   "source": [
    "# Training with cleaned labels "
   ]
  },
  {
   "cell_type": "code",
   "execution_count": 3,
   "id": "6df7695e",
   "metadata": {},
   "outputs": [],
   "source": [
    "config  = load_configuration('configs/config_task2_224_clean.yml')\n",
    "learn = get_learner_task2(config)\n",
    "cbs = [MixUp()]"
   ]
  },
  {
   "cell_type": "code",
   "execution_count": 4,
   "id": "ba90d36f",
   "metadata": {},
   "outputs": [
    {
     "data": {
      "text/plain": [
       "40517"
      ]
     },
     "execution_count": 4,
     "metadata": {},
     "output_type": "execute_result"
    }
   ],
   "source": [
    "learn.dls.train.n + learn.dls.valid.n"
   ]
  },
  {
   "cell_type": "code",
   "execution_count": 5,
   "id": "209e31c3",
   "metadata": {},
   "outputs": [
    {
     "data": {
      "text/html": [
       "\n",
       "<style>\n",
       "    /* Turns off some styling */\n",
       "    progress {\n",
       "        /* gets rid of default border in Firefox and Opera. */\n",
       "        border: none;\n",
       "        /* Needs to be in here for Safari polyfill so background images work as expected. */\n",
       "        background-size: auto;\n",
       "    }\n",
       "    .progress-bar-interrupted, .progress-bar-interrupted::-webkit-progress-bar {\n",
       "        background: #F44336;\n",
       "    }\n",
       "</style>\n"
      ],
      "text/plain": [
       "<IPython.core.display.HTML object>"
      ]
     },
     "metadata": {},
     "output_type": "display_data"
    },
    {
     "data": {
      "text/html": [
       "<table border=\"1\" class=\"dataframe\">\n",
       "  <thead>\n",
       "    <tr style=\"text-align: left;\">\n",
       "      <th>epoch</th>\n",
       "      <th>train_loss</th>\n",
       "      <th>valid_loss</th>\n",
       "      <th>accuracy</th>\n",
       "      <th>top_k_accuracy</th>\n",
       "      <th>time</th>\n",
       "    </tr>\n",
       "  </thead>\n",
       "  <tbody>\n",
       "    <tr>\n",
       "      <td>0</td>\n",
       "      <td>3.194107</td>\n",
       "      <td>1.819215</td>\n",
       "      <td>0.731211</td>\n",
       "      <td>0.904233</td>\n",
       "      <td>03:26</td>\n",
       "    </tr>\n",
       "    <tr>\n",
       "      <td>1</td>\n",
       "      <td>2.902271</td>\n",
       "      <td>1.704486</td>\n",
       "      <td>0.756140</td>\n",
       "      <td>0.916574</td>\n",
       "      <td>03:27</td>\n",
       "    </tr>\n",
       "    <tr>\n",
       "      <td>2</td>\n",
       "      <td>2.816775</td>\n",
       "      <td>1.671109</td>\n",
       "      <td>0.761693</td>\n",
       "      <td>0.918919</td>\n",
       "      <td>03:26</td>\n",
       "    </tr>\n",
       "    <tr>\n",
       "      <td>3</td>\n",
       "      <td>2.784177</td>\n",
       "      <td>1.662272</td>\n",
       "      <td>0.761076</td>\n",
       "      <td>0.921140</td>\n",
       "      <td>03:25</td>\n",
       "    </tr>\n",
       "    <tr>\n",
       "      <td>4</td>\n",
       "      <td>2.729403</td>\n",
       "      <td>1.619275</td>\n",
       "      <td>0.775515</td>\n",
       "      <td>0.926077</td>\n",
       "      <td>03:24</td>\n",
       "    </tr>\n",
       "    <tr>\n",
       "      <td>5</td>\n",
       "      <td>2.679472</td>\n",
       "      <td>1.606684</td>\n",
       "      <td>0.777490</td>\n",
       "      <td>0.925336</td>\n",
       "      <td>03:22</td>\n",
       "    </tr>\n",
       "    <tr>\n",
       "      <td>6</td>\n",
       "      <td>2.656083</td>\n",
       "      <td>1.589769</td>\n",
       "      <td>0.782550</td>\n",
       "      <td>0.929779</td>\n",
       "      <td>03:22</td>\n",
       "    </tr>\n",
       "    <tr>\n",
       "      <td>7</td>\n",
       "      <td>2.633641</td>\n",
       "      <td>1.580177</td>\n",
       "      <td>0.786622</td>\n",
       "      <td>0.930766</td>\n",
       "      <td>03:25</td>\n",
       "    </tr>\n",
       "    <tr>\n",
       "      <td>8</td>\n",
       "      <td>2.654568</td>\n",
       "      <td>1.573256</td>\n",
       "      <td>0.787733</td>\n",
       "      <td>0.933481</td>\n",
       "      <td>03:25</td>\n",
       "    </tr>\n",
       "    <tr>\n",
       "      <td>9</td>\n",
       "      <td>2.604548</td>\n",
       "      <td>1.577607</td>\n",
       "      <td>0.779218</td>\n",
       "      <td>0.931754</td>\n",
       "      <td>03:23</td>\n",
       "    </tr>\n",
       "    <tr>\n",
       "      <td>10</td>\n",
       "      <td>2.603106</td>\n",
       "      <td>1.564593</td>\n",
       "      <td>0.794274</td>\n",
       "      <td>0.932741</td>\n",
       "      <td>03:21</td>\n",
       "    </tr>\n",
       "    <tr>\n",
       "      <td>11</td>\n",
       "      <td>2.623324</td>\n",
       "      <td>1.554869</td>\n",
       "      <td>0.791559</td>\n",
       "      <td>0.936320</td>\n",
       "      <td>03:21</td>\n",
       "    </tr>\n",
       "    <tr>\n",
       "      <td>12</td>\n",
       "      <td>2.575358</td>\n",
       "      <td>1.551571</td>\n",
       "      <td>0.791065</td>\n",
       "      <td>0.935826</td>\n",
       "      <td>03:21</td>\n",
       "    </tr>\n",
       "    <tr>\n",
       "      <td>13</td>\n",
       "      <td>2.567181</td>\n",
       "      <td>1.549534</td>\n",
       "      <td>0.795014</td>\n",
       "      <td>0.935209</td>\n",
       "      <td>03:23</td>\n",
       "    </tr>\n",
       "    <tr>\n",
       "      <td>14</td>\n",
       "      <td>2.575632</td>\n",
       "      <td>1.532540</td>\n",
       "      <td>0.796865</td>\n",
       "      <td>0.937184</td>\n",
       "      <td>03:26</td>\n",
       "    </tr>\n",
       "    <tr>\n",
       "      <td>15</td>\n",
       "      <td>2.560241</td>\n",
       "      <td>1.530542</td>\n",
       "      <td>0.803036</td>\n",
       "      <td>0.935826</td>\n",
       "      <td>03:25</td>\n",
       "    </tr>\n",
       "    <tr>\n",
       "      <td>16</td>\n",
       "      <td>2.517885</td>\n",
       "      <td>1.508293</td>\n",
       "      <td>0.804393</td>\n",
       "      <td>0.940269</td>\n",
       "      <td>03:26</td>\n",
       "    </tr>\n",
       "    <tr>\n",
       "      <td>17</td>\n",
       "      <td>2.479233</td>\n",
       "      <td>1.494779</td>\n",
       "      <td>0.810441</td>\n",
       "      <td>0.940516</td>\n",
       "      <td>03:25</td>\n",
       "    </tr>\n",
       "    <tr>\n",
       "      <td>18</td>\n",
       "      <td>2.475277</td>\n",
       "      <td>1.484214</td>\n",
       "      <td>0.817105</td>\n",
       "      <td>0.943107</td>\n",
       "      <td>03:26</td>\n",
       "    </tr>\n",
       "    <tr>\n",
       "      <td>19</td>\n",
       "      <td>2.457491</td>\n",
       "      <td>1.479300</td>\n",
       "      <td>0.816981</td>\n",
       "      <td>0.941997</td>\n",
       "      <td>03:27</td>\n",
       "    </tr>\n",
       "  </tbody>\n",
       "</table>"
      ],
      "text/plain": [
       "<IPython.core.display.HTML object>"
      ]
     },
     "metadata": {},
     "output_type": "display_data"
    },
    {
     "name": "stdout",
     "output_type": "stream",
     "text": [
      "Better model found at epoch 0 with valid_loss value: 1.8192152976989746.\n",
      "Better model found at epoch 1 with valid_loss value: 1.7044864892959595.\n",
      "Better model found at epoch 2 with valid_loss value: 1.6711090803146362.\n",
      "Better model found at epoch 3 with valid_loss value: 1.6622719764709473.\n",
      "Better model found at epoch 4 with valid_loss value: 1.619274616241455.\n",
      "Better model found at epoch 5 with valid_loss value: 1.6066839694976807.\n",
      "Better model found at epoch 6 with valid_loss value: 1.589768648147583.\n",
      "Better model found at epoch 7 with valid_loss value: 1.5801771879196167.\n",
      "Better model found at epoch 8 with valid_loss value: 1.5732558965682983.\n",
      "Better model found at epoch 10 with valid_loss value: 1.5645931959152222.\n",
      "Better model found at epoch 11 with valid_loss value: 1.5548688173294067.\n",
      "Better model found at epoch 12 with valid_loss value: 1.5515713691711426.\n",
      "Better model found at epoch 13 with valid_loss value: 1.5495343208312988.\n",
      "Better model found at epoch 14 with valid_loss value: 1.5325404405593872.\n",
      "Better model found at epoch 15 with valid_loss value: 1.5305418968200684.\n",
      "Better model found at epoch 16 with valid_loss value: 1.5082933902740479.\n",
      "Better model found at epoch 17 with valid_loss value: 1.494779109954834.\n",
      "Better model found at epoch 18 with valid_loss value: 1.4842143058776855.\n",
      "Better model found at epoch 19 with valid_loss value: 1.4792996644973755.\n"
     ]
    }
   ],
   "source": [
    "do_fit(learn, 'task2_resnet50_clean', epochs=20, lr=1e-3, pct_start=0.75, cbs=cbs)"
   ]
  },
  {
   "cell_type": "code",
   "execution_count": 7,
   "id": "7558b0c6",
   "metadata": {},
   "outputs": [],
   "source": [
    "learn.unfreeze()"
   ]
  },
  {
   "cell_type": "code",
   "execution_count": 9,
   "id": "761ecc88",
   "metadata": {},
   "outputs": [
    {
     "data": {
      "text/html": [
       "\n",
       "<style>\n",
       "    /* Turns off some styling */\n",
       "    progress {\n",
       "        /* gets rid of default border in Firefox and Opera. */\n",
       "        border: none;\n",
       "        /* Needs to be in here for Safari polyfill so background images work as expected. */\n",
       "        background-size: auto;\n",
       "    }\n",
       "    .progress-bar-interrupted, .progress-bar-interrupted::-webkit-progress-bar {\n",
       "        background: #F44336;\n",
       "    }\n",
       "</style>\n"
      ],
      "text/plain": [
       "<IPython.core.display.HTML object>"
      ]
     },
     "metadata": {},
     "output_type": "display_data"
    },
    {
     "data": {
      "text/html": [
       "<table border=\"1\" class=\"dataframe\">\n",
       "  <thead>\n",
       "    <tr style=\"text-align: left;\">\n",
       "      <th>epoch</th>\n",
       "      <th>train_loss</th>\n",
       "      <th>valid_loss</th>\n",
       "      <th>accuracy</th>\n",
       "      <th>top_k_accuracy</th>\n",
       "      <th>time</th>\n",
       "    </tr>\n",
       "  </thead>\n",
       "  <tbody>\n",
       "    <tr>\n",
       "      <td>0</td>\n",
       "      <td>2.443497</td>\n",
       "      <td>1.478553</td>\n",
       "      <td>0.814390</td>\n",
       "      <td>0.944095</td>\n",
       "      <td>04:06</td>\n",
       "    </tr>\n",
       "    <tr>\n",
       "      <td>1</td>\n",
       "      <td>2.433424</td>\n",
       "      <td>1.468738</td>\n",
       "      <td>0.815747</td>\n",
       "      <td>0.945205</td>\n",
       "      <td>04:04</td>\n",
       "    </tr>\n",
       "    <tr>\n",
       "      <td>2</td>\n",
       "      <td>2.445350</td>\n",
       "      <td>1.464940</td>\n",
       "      <td>0.817722</td>\n",
       "      <td>0.945576</td>\n",
       "      <td>04:04</td>\n",
       "    </tr>\n",
       "    <tr>\n",
       "      <td>3</td>\n",
       "      <td>2.384025</td>\n",
       "      <td>1.458977</td>\n",
       "      <td>0.820560</td>\n",
       "      <td>0.945452</td>\n",
       "      <td>04:03</td>\n",
       "    </tr>\n",
       "    <tr>\n",
       "      <td>4</td>\n",
       "      <td>2.396588</td>\n",
       "      <td>1.452248</td>\n",
       "      <td>0.822165</td>\n",
       "      <td>0.946440</td>\n",
       "      <td>04:03</td>\n",
       "    </tr>\n",
       "    <tr>\n",
       "      <td>5</td>\n",
       "      <td>2.420366</td>\n",
       "      <td>1.448162</td>\n",
       "      <td>0.821794</td>\n",
       "      <td>0.945082</td>\n",
       "      <td>04:03</td>\n",
       "    </tr>\n",
       "    <tr>\n",
       "      <td>6</td>\n",
       "      <td>2.356038</td>\n",
       "      <td>1.448952</td>\n",
       "      <td>0.821794</td>\n",
       "      <td>0.945452</td>\n",
       "      <td>04:03</td>\n",
       "    </tr>\n",
       "    <tr>\n",
       "      <td>7</td>\n",
       "      <td>2.368040</td>\n",
       "      <td>1.445084</td>\n",
       "      <td>0.822658</td>\n",
       "      <td>0.946563</td>\n",
       "      <td>03:59</td>\n",
       "    </tr>\n",
       "    <tr>\n",
       "      <td>8</td>\n",
       "      <td>2.361080</td>\n",
       "      <td>1.438272</td>\n",
       "      <td>0.828459</td>\n",
       "      <td>0.946686</td>\n",
       "      <td>03:58</td>\n",
       "    </tr>\n",
       "    <tr>\n",
       "      <td>9</td>\n",
       "      <td>2.344410</td>\n",
       "      <td>1.435303</td>\n",
       "      <td>0.828212</td>\n",
       "      <td>0.947057</td>\n",
       "      <td>03:58</td>\n",
       "    </tr>\n",
       "  </tbody>\n",
       "</table>"
      ],
      "text/plain": [
       "<IPython.core.display.HTML object>"
      ]
     },
     "metadata": {},
     "output_type": "display_data"
    },
    {
     "name": "stdout",
     "output_type": "stream",
     "text": [
      "Better model found at epoch 0 with valid_loss value: 1.4785528182983398.\n",
      "Better model found at epoch 1 with valid_loss value: 1.4687377214431763.\n",
      "Better model found at epoch 2 with valid_loss value: 1.4649399518966675.\n",
      "Better model found at epoch 3 with valid_loss value: 1.4589765071868896.\n",
      "Better model found at epoch 4 with valid_loss value: 1.452247977256775.\n",
      "Better model found at epoch 5 with valid_loss value: 1.4481618404388428.\n",
      "Better model found at epoch 7 with valid_loss value: 1.4450844526290894.\n",
      "Better model found at epoch 8 with valid_loss value: 1.438272476196289.\n",
      "Better model found at epoch 9 with valid_loss value: 1.4353032112121582.\n"
     ]
    }
   ],
   "source": [
    "do_fit(learn, 'task2_resnet50_unfrozen_clean', epochs=10,  lr=1e-5, pct_start=0.75, \n",
    "       cbs=cbs, save_state_dict=True)"
   ]
  },
  {
   "cell_type": "markdown",
   "id": "314d0429",
   "metadata": {},
   "source": [
    "# Creating submission "
   ]
  },
  {
   "cell_type": "code",
   "execution_count": 12,
   "id": "53e5d26f",
   "metadata": {},
   "outputs": [
    {
     "data": {
      "text/html": [
       "\n",
       "<style>\n",
       "    /* Turns off some styling */\n",
       "    progress {\n",
       "        /* gets rid of default border in Firefox and Opera. */\n",
       "        border: none;\n",
       "        /* Needs to be in here for Safari polyfill so background images work as expected. */\n",
       "        background-size: auto;\n",
       "    }\n",
       "    .progress-bar-interrupted, .progress-bar-interrupted::-webkit-progress-bar {\n",
       "        background: #F44336;\n",
       "    }\n",
       "</style>\n"
      ],
      "text/plain": [
       "<IPython.core.display.HTML object>"
      ]
     },
     "metadata": {},
     "output_type": "display_data"
    },
    {
     "data": {
      "text/html": [],
      "text/plain": [
       "<IPython.core.display.HTML object>"
      ]
     },
     "metadata": {},
     "output_type": "display_data"
    },
    {
     "name": "stdout",
     "output_type": "stream",
     "text": [
      "CPU times: total: 59.2 s\n",
      "Wall time: 19.5 s\n"
     ]
    }
   ],
   "source": [
    "%%time\n",
    "\n",
    "create_submission(\n",
    "    path_learn='task2_resnet50_unfrozen_clean.pkl',\n",
    "    path_test_images='data/task2/val_data',\n",
    "    submission_name='task2.csv'\n",
    ")"
   ]
  },
  {
   "cell_type": "code",
   "execution_count": null,
   "id": "a56592f0",
   "metadata": {},
   "outputs": [],
   "source": []
  }
 ],
 "metadata": {
  "kernelspec": {
   "display_name": "Python 3 (ipykernel)",
   "language": "python",
   "name": "python3"
  },
  "language_info": {
   "codemirror_mode": {
    "name": "ipython",
    "version": 3
   },
   "file_extension": ".py",
   "mimetype": "text/x-python",
   "name": "python",
   "nbconvert_exporter": "python",
   "pygments_lexer": "ipython3",
   "version": "3.10.5"
  }
 },
 "nbformat": 4,
 "nbformat_minor": 5
}
