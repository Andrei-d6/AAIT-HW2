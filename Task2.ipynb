{
 "cells": [
  {
   "cell_type": "code",
   "execution_count": null,
   "id": "4d537e37",
   "metadata": {},
   "outputs": [],
   "source": [
    "from fastai.callback.mixup import *\n",
    "from fastai.vision.all import *\n",
    "\n",
    "from src.learner import get_learner_task2\n",
    "from src.utils import (\n",
    "    load_configuration,\n",
    "    create_submission,\n",
    "    save_clean_labels,\n",
    "    do_fit\n",
    ")"
   ]
  },
  {
   "cell_type": "markdown",
   "id": "7fc7c758",
   "metadata": {},
   "source": [
    "### ! Reproducibility is endured by **get_learnertask2** - it sets the seed for the learner  "
   ]
  },
  {
   "cell_type": "code",
   "execution_count": null,
   "id": "b6515285",
   "metadata": {},
   "outputs": [],
   "source": [
    "import warnings\n",
    "warnings.filterwarnings('ignore')"
   ]
  },
  {
   "cell_type": "markdown",
   "id": "deababdc",
   "metadata": {},
   "source": [
    "# Initial train + Cleaning \n",
    "\n",
    "Train a ResNet50 based classifier on the noisy dataset (using 224x224 image resolution).\n",
    " - First train only the final linear layers using flat cos policy\n",
    " - Unfreeze and train the entire network using the one cycle policy\n",
    " - Use the trained model in order to detect errneous labels and clean the dataset"
   ]
  },
  {
   "cell_type": "code",
   "execution_count": null,
   "id": "35020eba",
   "metadata": {},
   "outputs": [],
   "source": [
    "config  = load_configuration('configs/config_task2_224.yml')\n",
    "learn = get_learner_task2(config)\n",
    "cbs = [MixUp()]"
   ]
  },
  {
   "cell_type": "code",
   "execution_count": null,
   "id": "8032739a",
   "metadata": {},
   "outputs": [],
   "source": [
    "do_fit(learn, 'task2_resnet50', epochs=15, lr=1e-3, pct_start=0.75, cbs=cbs)"
   ]
  },
  {
   "cell_type": "code",
   "execution_count": null,
   "id": "587f7071",
   "metadata": {},
   "outputs": [],
   "source": [
    "learn.unfreeze()"
   ]
  },
  {
   "cell_type": "code",
   "execution_count": null,
   "id": "6e0e46fa",
   "metadata": {},
   "outputs": [],
   "source": [
    "do_fit(learn, 'task2_resnet50_unfrozen', epochs=3, lr=1e-5, fit_type='one_cycle')"
   ]
  },
  {
   "cell_type": "code",
   "execution_count": null,
   "id": "62cfad68",
   "metadata": {},
   "outputs": [],
   "source": [
    "%time save_clean_labels(learn, config)"
   ]
  },
  {
   "cell_type": "markdown",
   "id": "08ffdbe5",
   "metadata": {},
   "source": [
    "# Training with cleaned labels "
   ]
  },
  {
   "cell_type": "code",
   "execution_count": null,
   "id": "6df7695e",
   "metadata": {},
   "outputs": [],
   "source": [
    "config  = load_configuration('configs/config_task2_224_clean.yml')\n",
    "learn = get_learner_task2(config)\n",
    "cbs = [MixUp()]"
   ]
  },
  {
   "cell_type": "markdown",
   "id": "a1331439",
   "metadata": {},
   "source": [
    "The cleaned dataset is expected to have **~40.5k** samples (80% the original size)"
   ]
  },
  {
   "cell_type": "code",
   "execution_count": null,
   "id": "ba90d36f",
   "metadata": {},
   "outputs": [],
   "source": [
    "learn.dls.train.n + learn.dls.valid.n"
   ]
  },
  {
   "cell_type": "code",
   "execution_count": null,
   "id": "209e31c3",
   "metadata": {},
   "outputs": [],
   "source": [
    "do_fit(learn, 'task2_resnet50_clean', epochs=20, lr=1e-3, pct_start=0.75, cbs=cbs)"
   ]
  },
  {
   "cell_type": "code",
   "execution_count": null,
   "id": "7558b0c6",
   "metadata": {},
   "outputs": [],
   "source": [
    "learn.unfreeze()"
   ]
  },
  {
   "cell_type": "code",
   "execution_count": null,
   "id": "761ecc88",
   "metadata": {},
   "outputs": [],
   "source": [
    "do_fit(learn, 'task2_resnet50_unfrozen_clean', epochs=10,  lr=1e-5, pct_start=0.75, \n",
    "       cbs=cbs, save_state_dict=True)"
   ]
  },
  {
   "cell_type": "markdown",
   "id": "314d0429",
   "metadata": {},
   "source": [
    "# Creating submission "
   ]
  },
  {
   "cell_type": "code",
   "execution_count": null,
   "id": "53e5d26f",
   "metadata": {},
   "outputs": [],
   "source": [
    "%%time\n",
    "\n",
    "create_submission(\n",
    "    path_learn='task2_resnet50_unfrozen_clean.pkl',\n",
    "    path_test_images='data/task2/val_data',\n",
    "    submission_name='task2.csv'\n",
    ")"
   ]
  },
  {
   "cell_type": "code",
   "execution_count": null,
   "id": "a56592f0",
   "metadata": {},
   "outputs": [],
   "source": []
  }
 ],
 "metadata": {
  "kernelspec": {
   "display_name": "Python 3 (ipykernel)",
   "language": "python",
   "name": "python3"
  },
  "language_info": {
   "codemirror_mode": {
    "name": "ipython",
    "version": 3
   },
   "file_extension": ".py",
   "mimetype": "text/x-python",
   "name": "python",
   "nbconvert_exporter": "python",
   "pygments_lexer": "ipython3",
   "version": "3.10.5"
  }
 },
 "nbformat": 4,
 "nbformat_minor": 5
}
