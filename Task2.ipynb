{
 "cells": [
  {
   "cell_type": "code",
   "execution_count": 1,
   "id": "cba0f74d",
   "metadata": {},
   "outputs": [],
   "source": [
    "from fastai.vision.all import *\n",
    "\n",
    "from src.learner import get_learner_task2\n",
    "from src.utils import (\n",
    "    load_configuration,\n",
    "    do_fit\n",
    ")"
   ]
  },
  {
   "cell_type": "markdown",
   "id": "e03dc405",
   "metadata": {},
   "source": [
    "# ResNet50 "
   ]
  },
  {
   "cell_type": "code",
   "execution_count": 2,
   "id": "6c439a31",
   "metadata": {},
   "outputs": [],
   "source": [
    "config  = load_configuration('configs/config1_task2.yml')\n",
    "learn = get_learner_task2(config)"
   ]
  },
  {
   "cell_type": "code",
   "execution_count": 3,
   "id": "5ddce1e4",
   "metadata": {},
   "outputs": [],
   "source": [
    "# learn.lr_find()"
   ]
  },
  {
   "cell_type": "code",
   "execution_count": 6,
   "id": "b87e94d4",
   "metadata": {},
   "outputs": [
    {
     "data": {
      "text/html": [
       "\n",
       "<style>\n",
       "    /* Turns off some styling */\n",
       "    progress {\n",
       "        /* gets rid of default border in Firefox and Opera. */\n",
       "        border: none;\n",
       "        /* Needs to be in here for Safari polyfill so background images work as expected. */\n",
       "        background-size: auto;\n",
       "    }\n",
       "    .progress-bar-interrupted, .progress-bar-interrupted::-webkit-progress-bar {\n",
       "        background: #F44336;\n",
       "    }\n",
       "</style>\n"
      ],
      "text/plain": [
       "<IPython.core.display.HTML object>"
      ]
     },
     "metadata": {},
     "output_type": "display_data"
    },
    {
     "data": {
      "text/html": [
       "<table border=\"1\" class=\"dataframe\">\n",
       "  <thead>\n",
       "    <tr style=\"text-align: left;\">\n",
       "      <th>epoch</th>\n",
       "      <th>train_loss</th>\n",
       "      <th>valid_loss</th>\n",
       "      <th>accuracy</th>\n",
       "      <th>top_k_accuracy</th>\n",
       "      <th>time</th>\n",
       "    </tr>\n",
       "  </thead>\n",
       "  <tbody>\n",
       "    <tr>\n",
       "      <td>0</td>\n",
       "      <td>2.779966</td>\n",
       "      <td>2.191136</td>\n",
       "      <td>0.583700</td>\n",
       "      <td>0.878500</td>\n",
       "      <td>02:35</td>\n",
       "    </tr>\n",
       "    <tr>\n",
       "      <td>1</td>\n",
       "      <td>2.489281</td>\n",
       "      <td>2.078490</td>\n",
       "      <td>0.602400</td>\n",
       "      <td>0.896900</td>\n",
       "      <td>02:12</td>\n",
       "    </tr>\n",
       "    <tr>\n",
       "      <td>2</td>\n",
       "      <td>2.348256</td>\n",
       "      <td>2.011742</td>\n",
       "      <td>0.607800</td>\n",
       "      <td>0.904500</td>\n",
       "      <td>02:12</td>\n",
       "    </tr>\n",
       "    <tr>\n",
       "      <td>3</td>\n",
       "      <td>2.318217</td>\n",
       "      <td>1.968927</td>\n",
       "      <td>0.619200</td>\n",
       "      <td>0.906600</td>\n",
       "      <td>02:11</td>\n",
       "    </tr>\n",
       "    <tr>\n",
       "      <td>4</td>\n",
       "      <td>2.165783</td>\n",
       "      <td>1.925102</td>\n",
       "      <td>0.633100</td>\n",
       "      <td>0.910900</td>\n",
       "      <td>02:09</td>\n",
       "    </tr>\n",
       "  </tbody>\n",
       "</table>"
      ],
      "text/plain": [
       "<IPython.core.display.HTML object>"
      ]
     },
     "metadata": {},
     "output_type": "display_data"
    },
    {
     "name": "stdout",
     "output_type": "stream",
     "text": [
      "Better model found at epoch 0 with valid_loss value: 2.191136360168457.\n",
      "Better model found at epoch 1 with valid_loss value: 2.0784895420074463.\n",
      "Better model found at epoch 2 with valid_loss value: 2.011742115020752.\n",
      "Better model found at epoch 3 with valid_loss value: 1.9689271450042725.\n",
      "Better model found at epoch 4 with valid_loss value: 1.9251015186309814.\n"
     ]
    }
   ],
   "source": [
    "do_fit(learn, 'task2_resnet50', epochs=5, lr=1e-3, pct_start=0.75)"
   ]
  },
  {
   "cell_type": "markdown",
   "id": "eedf30ad",
   "metadata": {},
   "source": [
    "# XResNet50 "
   ]
  },
  {
   "cell_type": "code",
   "execution_count": 2,
   "id": "ad8f3dd7",
   "metadata": {},
   "outputs": [],
   "source": [
    "config  = load_configuration('configs/config2_task2.yml')\n",
    "learn = get_learner_task2(config)"
   ]
  },
  {
   "cell_type": "code",
   "execution_count": 4,
   "id": "ae4c1486",
   "metadata": {},
   "outputs": [],
   "source": [
    "# do_fit(learn, 'task2_xresnet50', epochs=5, lr=1e-3, pct_start=0.75)"
   ]
  },
  {
   "cell_type": "code",
   "execution_count": null,
   "id": "5771b1f3",
   "metadata": {},
   "outputs": [],
   "source": []
  }
 ],
 "metadata": {
  "kernelspec": {
   "display_name": "Python 3 (ipykernel)",
   "language": "python",
   "name": "python3"
  },
  "language_info": {
   "codemirror_mode": {
    "name": "ipython",
    "version": 3
   },
   "file_extension": ".py",
   "mimetype": "text/x-python",
   "name": "python",
   "nbconvert_exporter": "python",
   "pygments_lexer": "ipython3",
   "version": "3.10.5"
  }
 },
 "nbformat": 4,
 "nbformat_minor": 5
}
